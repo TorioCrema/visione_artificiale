{
 "cells": [
  {
   "attachments": {},
   "cell_type": "markdown",
   "metadata": {
    "deletable": false,
    "editable": false
   },
   "source": [
    "<img style=\"float:right\" src=\"images/logo_va.png\" /> \n",
    "\n",
    "# Visione Artificiale\n",
    "## Esercitazione: Motion detection e object tracking"
   ]
  },
  {
   "attachments": {},
   "cell_type": "markdown",
   "metadata": {
    "deletable": false,
    "editable": false
   },
   "source": [
    "### Sommario\n",
    "* Estrarre frame da un video memorizzato su file\n",
    "* Calcolare l'istogramma dei valori Hue di una serie di immagini\n",
    "* Individuare oggetti nei frame del video in base all'istogramma dei valori Hue\n",
    "* Inseguire oggetti in un video"
   ]
  },
  {
   "attachments": {},
   "cell_type": "markdown",
   "metadata": {
    "deletable": false,
    "editable": false
   },
   "source": [
    "Iniziamo con l'importazione dei moduli che ci serviranno: `NumPy`, `OpenCV`, `va`. Importiamo anche la funzione `interact` di Jupyter."
   ]
  },
  {
   "cell_type": "code",
   "execution_count": 2,
   "metadata": {
    "deletable": false,
    "editable": false
   },
   "outputs": [],
   "source": [
    "import numpy as np\n",
    "import cv2 as cv\n",
    "import va\n",
    "from ipywidgets import interact"
   ]
  },
  {
   "attachments": {},
   "cell_type": "markdown",
   "metadata": {
    "deletable": false,
    "editable": false
   },
   "source": [
    "<img style=\"float:left\" src=\"images/ar.png\" />**Esercizio 1** - Aprire il video \"movimento/pacman.mp4\"; creare una lista Python `frames` che contenga i frame (come matrici NumPy) di indice dispari dal 125 al 3523 (estremi compresi, numerando i frame del video a partire da 0)."
   ]
  },
  {
   "cell_type": "code",
   "execution_count": 3,
   "metadata": {},
   "outputs": [],
   "source": [
    "# --- Svolgimento Esercizio 1: Inizio --- #\n",
    "\n",
    "cap = cv.VideoCapture('movimento/pacman.mp4')\n",
    "\n",
    "frames = []\n",
    "for sprite in range(3524):\n",
    "    _, frame = cap.read()\n",
    "    if sprite >= 125 and sprite % 2 == 1:\n",
    "        frames.append(frame)\n",
    "cap.release()\n",
    "\n",
    "# --- Svolgimento Esercizio 1: Fine --- #"
   ]
  },
  {
   "attachments": {},
   "cell_type": "markdown",
   "metadata": {
    "deletable": false,
    "editable": false
   },
   "source": [
    "<img style=\"float:left\" src=\"images/in.png\" />L'esecuzione della cella seguente consente di visualizzare il risultato ottenuto, scorrendo la lista `frames`. Per spostare il cursore di un frame per volta è possibile utilizzare i tasti 'Freccia sinistra' e 'Freccia destra' della tastiera."
   ]
  },
  {
   "cell_type": "code",
   "execution_count": null,
   "metadata": {
    "deletable": false,
    "editable": false
   },
   "outputs": [],
   "source": [
    "@interact(i=(0,len(frames)-1))\n",
    "def show_frame(i=0):\n",
    "    va.show(frames[i])"
   ]
  },
  {
   "attachments": {},
   "cell_type": "markdown",
   "metadata": {
    "deletable": false,
    "editable": false
   },
   "source": [
    "Eseguire la cella seguente per verificare che `frames` contenga il numero atteso di frame."
   ]
  },
  {
   "cell_type": "code",
   "execution_count": null,
   "metadata": {
    "deletable": false,
    "editable": false
   },
   "outputs": [],
   "source": [
    "va.test_movimento_1(frames)"
   ]
  },
  {
   "attachments": {},
   "cell_type": "markdown",
   "metadata": {
    "deletable": false,
    "editable": false
   },
   "source": [
    "<img style=\"float:left\" src=\"images/ar.png\" />**Esercizio 2** - Creare un array `sprites` che contenga le immagini caricate dai file il cui nome è nell'array `sprite_names`, dalla cartella \"movimento\", con estensione \"png\". Una volta creato l'array `sprites`, procedere come segue:\n",
    "* definire una variabile `OBJ_SIZE` contenente la larghezza della prima immagine in `sprites`;\n",
    "* creare una lista di istogrammi `hists` in cui, per ciascuna immagine in `sprites`, dopo averla convertita in HSV, si calcola l'istogramma dei valori $H$ solo dei pixel con $S\\geq20$ e $V\\geq40$. L'istogramma dovrà essere un array NumPy con 15 valori, suddividendo i 180 possibili valori di $H$ in 15 gruppi da 12 valori ciascuno. Infine i valori degli istogrammi dovranno essere normalizzati fra 0 e 100. Ogni istogramma dovrà essere un array NumPy di 15 `np.float32`.\n",
    "\n",
    "Suggerimenti: si può utilizzare `cv.calcHist` per calcolare gli istogrammi sul canale H (è possibile passare il parametro `mask` per considerare solo determinati pixel e il parametro `histSize` per specificare la dimensione di 15 elementi desiderata). La normalizzazione può essere effettuata con la funzione OpenCV `cv.normalize`."
   ]
  },
  {
   "cell_type": "code",
   "execution_count": 6,
   "metadata": {},
   "outputs": [],
   "source": [
    "sprite_names=['F0','F1','F2','F3','P0']\n",
    "\n",
    "# --- Svolgimento Esercizio 2: Inizio --- #\n",
    "\n",
    "sprites = []\n",
    "for name in sprite_names:\n",
    "    sprite = cv.imread(f\"movimento/{name}.png\")\n",
    "    sprites.append(sprite)\n",
    "hists = []\n",
    "OBJ_SIZE = sprites[0].shape[1]\n",
    "for sprite in sprites:\n",
    "    sprite_hsv = cv.cvtColor(sprite, cv.COLOR_BGR2HSV)\n",
    "    mask = np.zeros(dtype=np.uint8, shape=sprite_hsv.shape)\n",
    "    mask[sprite_hsv >= [0,20,40]] = 255\n",
    "    new_mask = np.logical_and(np.logical_and(mask[...,0], mask[...,1]), mask[...,2])\n",
    "    mask_good = np.zeros_like(new_mask, dtype=np.uint8)\n",
    "    mask_good[new_mask] = 255\n",
    "    hist = cv.calcHist([sprite_hsv], [0], mask_good, [15], [0,180])\n",
    "    hists.append(np.squeeze(cv.normalize(hist, None, 0, 100, cv.NORM_MINMAX, cv.CV_32F)))\n",
    "\n",
    "\n",
    "# --- Svolgimento Esercizio 2: Fine --- #"
   ]
  },
  {
   "attachments": {},
   "cell_type": "markdown",
   "metadata": {
    "deletable": false,
    "editable": false
   },
   "source": [
    "<img style=\"float:left\" src=\"images/in.png\" />L'esecuzione della cella seguente consente di visualizzare le immagini e i corrispondenti istogrammi. Se gli istogrammi sono stati calcolati correttamente, il colore che caratterizza ciascuna immagine dovrebbe essere ben visibile come picco nell'istogramma."
   ]
  },
  {
   "cell_type": "code",
   "execution_count": null,
   "metadata": {
    "deletable": false,
    "editable": false
   },
   "outputs": [],
   "source": [
    "va.show(*zip(sprites,sprite_names))\n",
    "va.show(*[va.draw_hist(h, height = 15) for h in hists])"
   ]
  },
  {
   "attachments": {},
   "cell_type": "markdown",
   "metadata": {
    "deletable": false,
    "editable": false
   },
   "source": [
    "Eseguire la cella seguente per verificare che `OBJ_SIZE` e `hists` siano stati calcolati correttamente."
   ]
  },
  {
   "cell_type": "code",
   "execution_count": null,
   "metadata": {
    "deletable": false,
    "editable": false
   },
   "outputs": [],
   "source": [
    "va.test_movimento_2(OBJ_SIZE, hists)"
   ]
  },
  {
   "attachments": {},
   "cell_type": "markdown",
   "metadata": {
    "deletable": false,
    "editable": false
   },
   "source": [
    "I cinque protagonisti del filmato sono chiaramente distinguibili dal loro colore: si vuole ora cercare il modo di identificare la loro posizione in un frame del filmato.  \n",
    "Come primo passo, si vuole costruire un'immagine binaria che indichi quali pixel del frame considerare, escludendo tutti quelli che per poca saturazione o poca luminosità sicuramente non appartengono ad alcuno sprite."
   ]
  },
  {
   "attachments": {},
   "cell_type": "markdown",
   "metadata": {
    "deletable": false,
    "editable": false
   },
   "source": [
    "<img style=\"float:left\" src=\"images/ar.png\" />**Esercizio 3** - Completare la funzione `create_frame_mask` che, dato un frame del filmato, dopo averlo convertito in HSV, restituisca una tupla `(hsv, mask)`, dove `hsv` è il frame convertito in hsv e `mask` una maschera binaria che escluda:\n",
    "* tutti i pixel con coordinata y maggiore o uguale a 340;\n",
    "* tutti i pixel con saturazione minore di 20;\n",
    "* tutti i pixel con luminosità minore di 40.\n",
    "\n",
    "Creare almeno una nuova cella dove poter verificare che la funzione si comporti come previsto.  \n",
    "Completare anche la funzione `create_confidence_map` che, a partire da un frame in formato HSV, dalla maschera di pixel da considerare e dall'istogramma di uno degli sprite, deve costruire una mappa di confidenza (ossia un'immagine dove il valore di ciascun pixel è tanto più alto quanto è più probabile che tale pixel appartenga allo sprite in base al suo colore). In particolare tale funzione deve:\n",
    "1. utilizzare `cv.calcBackProject` per ottenere la mappa di confidenza su tutti i pixel;\n",
    "2. azzerare tutti i pixel che sono zero nella maschera; \n",
    "3. restituire l'immagine risultante."
   ]
  },
  {
   "cell_type": "code",
   "execution_count": 9,
   "metadata": {},
   "outputs": [],
   "source": [
    "# --- Svolgimento Esercizio 3: Inizio --- #\n",
    "\n",
    "def create_frame_mask(frame):\n",
    "    hsv = cv.cvtColor(frame, cv.COLOR_BGR2HSV)\n",
    "    mask = cv.inRange(hsv, (0,20,40), (180,256,256))\n",
    "    mask[340:,...] = 0\n",
    "    return hsv, mask\n",
    "\n",
    "def create_confidence_map(hsv, mask, hist):\n",
    "    conf = cv.calcBackProject([hsv], [0], hist, [0,180], 1)\n",
    "    conf[mask == 0] = 0\n",
    "    return conf\n",
    "# --- Svolgimento Esercizio 3: Fine --- #"
   ]
  },
  {
   "attachments": {},
   "cell_type": "markdown",
   "metadata": {
    "deletable": false,
    "editable": false
   },
   "source": [
    "<img style=\"float:left\" src=\"images/in.png\" />L'esecuzione della cella seguente consente di visualizzare, per ciascun frame, la corrispondente maschera e le 5 mappe di confidenza corrispondenti ai vari sprite."
   ]
  },
  {
   "cell_type": "code",
   "execution_count": null,
   "metadata": {
    "deletable": false,
    "editable": false
   },
   "outputs": [],
   "source": [
    "@interact(i=(0,len(frames)-1))\n",
    "def show_frame(i=0):\n",
    "    hsv, mask = create_frame_mask(frames[i])\n",
    "    # costruisce le mappe di confidenza per ciascuno sprite\n",
    "    bp = [create_confidence_map(hsv, mask, h) for h in hists]    \n",
    "    va.show(frames[i], mask, *zip(bp,sprite_names))"
   ]
  },
  {
   "attachments": {},
   "cell_type": "markdown",
   "metadata": {
    "deletable": false,
    "editable": false
   },
   "source": [
    "La mappa di confidenza che è stata ottenuta per ciascuno sprite è un primo passo, ma ancora non è sufficiente per individuare con sicurezza la sua posizione. Obiettivo del prossimo esercizio è cercare di individuare le coordinate del centro di uno sprite a partire dalla corrispondente mappa di confidenza. Come mostra l'esempio seguente, partendo dalla mappa di confidenza (immagine a sinistra), si otterrà un'immagine binaria (immagine al centro), dalla quale si determinerà la posizione del centro dello sprite (immagine a destra).\n",
    "\n",
    "<table>\n",
    "<tr>\n",
    "    <td><img src='movimento/es_c.png'></td>    \n",
    "    <td><img src='movimento/es_m.png'></td>    \n",
    "    <td><img src='movimento/es_d.png'></td>    \n",
    "</tr>\n",
    "</table>"
   ]
  },
  {
   "attachments": {},
   "cell_type": "markdown",
   "metadata": {
    "deletable": false,
    "editable": false
   },
   "source": [
    "<img style=\"float:left\" src=\"images/ar.png\" />**Esercizio 4** - Completare la funzione `find_object` che, data una mappa di confidenza, cerca la posizione più probabile dell'oggetto corrispondente. La funzione deve restituire una tupla `(x,y)` con le coordinate del centro dell'oggetto, oppure `None` se non lo trova.  \n",
    "Una possibile strategia (ovviamente non è l'unica possibile) consiste nella serie seguente di operazioni:\n",
    "1. Costruire un'immagine binaria consideranto solo i pixel con un valore di confidenza maggiore di una certa soglia (ad esempio 15 può essere una buona scelta);\n",
    "2. Eliminare tutte le componenti connesse inferiori a una certa area (ad esempio 130 pixel, il valore ottimale può dipendere dalla soglia al punto precedente);\n",
    "3. Chiudere eventuali piccoli buchi o concavità in tutte le componenti connesse rimaste, utilizzando la morfologia matematica;\n",
    "4. Eseguire nuovamente l'etichettatura delle componenti connesse e restituire il baricentro della componente con l'area massima, o `None` se non ci sono componenti connesse."
   ]
  },
  {
   "cell_type": "code",
   "execution_count": 11,
   "metadata": {},
   "outputs": [],
   "source": [
    "# --- Svolgimento Esercizio 4: Inizio --- #\n",
    "\n",
    "def find_object(conf):\n",
    "    mask = np.zeros_like(conf, dtype=np.uint8)\n",
    "    mask[conf > 15] = 255\n",
    "    n, cc, stats, centr = cv.connectedComponentsWithStats(mask)\n",
    "    for component in range(n):\n",
    "        if stats[component, cv.CC_STAT_AREA] <= 130:\n",
    "            mask[cc == component] = 0\n",
    "    se = cv.getStructuringElement(cv.MORPH_ELLIPSE, (5,5))\n",
    "    new_mask = cv.morphologyEx(mask, cv.MORPH_CLOSE, se)\n",
    "    n, cc, stats, centr = cv.connectedComponentsWithStats(new_mask)\n",
    "    if n <= 1 :\n",
    "        return None\n",
    "    max_area = np.argmax(stats[1:,cv.CC_STAT_AREA]) + 1\n",
    "    x, y = centr[max_area]\n",
    "    return int(round(x)), int(round(y))\n",
    "\n",
    "# --- Svolgimento Esercizio 4: Fine --- #"
   ]
  },
  {
   "attachments": {},
   "cell_type": "markdown",
   "metadata": {
    "deletable": false,
    "editable": false
   },
   "source": [
    "<img style=\"float:left\" src=\"images/in.png\" />L'esecuzione della cella seguente consente di visualizzare, per ciascun frame, la posizione di tutti gli sprite individuati con la funzione appena sviluppata. Verificare che per la maggior parte dei frame gli sprite siano individuati correttamente. Si faccia attenzione ai frame in cui lo sprite \"rosso\" è scomparso; in tali situazioni la funzione potrebbe incorrettamente individuare le cigliege al centro dello schermo: cercare di fare in modo che non succeda."
   ]
  },
  {
   "cell_type": "code",
   "execution_count": null,
   "metadata": {
    "deletable": false,
    "editable": false
   },
   "outputs": [],
   "source": [
    "@interact(i=(0,len(frames)-1))\n",
    "def show_frame(i=0):\n",
    "    hsv, mask = create_frame_mask(frames[i])\n",
    "    pos = [find_object(create_confidence_map(hsv, mask, h)) for h in hists]\n",
    "    res = frames[i].copy()\n",
    "    for i,p in enumerate(pos):\n",
    "        if p is not None:\n",
    "            (x,y),s = p, OBJ_SIZE//2\n",
    "            cv.rectangle(res, (x-s,y-s), (x+s,y+s), (255,255,255))\n",
    "            va.center_text(res, sprite_names[i], (x,y-s-7), (255,255,255))\n",
    "    va.show(res)"
   ]
  },
  {
   "attachments": {},
   "cell_type": "markdown",
   "metadata": {
    "deletable": false,
    "editable": false
   },
   "source": [
    "Ora che siamo in grado di individuare i vari oggetti in un frame, cercheremo di inseguire un oggetto da un frame al successivo, in modo da ottenere l'intero suo percorso su tutto il filmato. A tal fine utilizzeremo l'algoritmo Mean-shift."
   ]
  },
  {
   "attachments": {},
   "cell_type": "markdown",
   "metadata": {
    "deletable": false,
    "editable": false
   },
   "source": [
    "<img style=\"float:left\" src=\"images/ar.png\" />**Esercizio 5** - Completare la funzione `update_pos` che, data la mappa di confidenza del nuovo frame e l'eventuale posizione dell'oggetto nel frame precedente, ne determina la nuova posizione. La funzione deve restituire una tupla `(x,y)` con le coordinate del centro dell'oggetto, oppure `None` se non lo trova.\n",
    "Nel dettaglio, la funzione deve comportarsi come descritto nei punti seguenti.\n",
    "- Se `pos` è `None`, significa che nel frame precedente l'oggetto non era stato individuato: utilizzare la funzione `find_object` precedentemente implementata per trovarne la posizione e restituirla.\n",
    "- Altrimenti, eseguire l'algoritmo Mean-shift con i criteri di terminazione `TERM_CRIT` già definiti, utilizzando come finestra un quadrato di lato `OBJ_SIZE` centrato nel punto `pos`; data la finestra restituita dall'algoritmo Mean-shift, verificare che al suo interno ci siano almeno 20 pixel con confidenza superiore a 15: in tal caso restituire come posizione il centro della finestra stessa, altrimenti supporre che l'oggetto non sia presente e restituire `None`.\n",
    "\n",
    "Dopo aver completato e verificato il corretto funzionamento di `update_pos`, nella stessa cella, o in una cella successiva, creare una lista `all_tracking` che contenga, per ogni frame, una lista con la posizione (x,y) di ciascuno sprite nel frame. A tal fine inizializzare `all_tracking` come lista vuota e una seconda lista `tracking` con 5 `None` (le posizioni degli sprite sono inzialmente sconosciute);  procedere iterativamente sui frame richiamando opportunamente le funzioni `create_frame_mask`, `create_confidence_map` e `update_pos` su ciascun elemento di `tracking`, in modo da ottenere le 5 posizioni che corrispondono al frame corrente. Appendere di volta in volta il contenuto di `tracking` alla lista `all_tracking` in modo da ottenere, alla fine del ciclo, il risultato desiderato."
   ]
  },
  {
   "cell_type": "code",
   "execution_count": null,
   "metadata": {},
   "outputs": [],
   "source": [
    "# --- Svolgimento Esercizio 5: Inizio --- #\n",
    "\n",
    "TERM_CRIT = ( cv.TERM_CRITERIA_EPS | cv.TERM_CRITERIA_COUNT, 10, 1 )\n",
    "\n",
    "def update_pos(conf, pos):\n",
    "    if pos is None:\n",
    "        return find_object(conf)\n",
    "    x, y = pos\n",
    "    ret, window = cv.meanShift(conf, (x-OBJ_SIZE//2, y-OBJ_SIZE//2, OBJ_SIZE, OBJ_SIZE), TERM_CRIT)\n",
    "    x, y, w, h = window\n",
    "    higher = cv.inRange(conf[y:y+h,x:x+w], 15, 255)\n",
    "    count = np.count_nonzero(higher)\n",
    "    if count >= 20:\n",
    "        return int(round(x+h//2)), int(round(y+w//2))\n",
    "    return None\n",
    "\n",
    "\n",
    "tracking = [None, None, None, None, None]\n",
    "all_tracking = []\n",
    "for frame in frames:\n",
    "    for sprite in range(len(tracking)):\n",
    "        hsv, mask = create_frame_mask(frame)\n",
    "        conf = create_confidence_map(hsv, mask, hists[sprite])\n",
    "        tracking[sprite] = update_pos(conf, tracking[sprite])\n",
    "    all_tracking.append(tracking.copy())\n",
    "\n",
    "# --- Svolgimento Esercizio 5: Fine --- #    "
   ]
  },
  {
   "attachments": {},
   "cell_type": "markdown",
   "metadata": {
    "deletable": false,
    "editable": false
   },
   "source": [
    "Eseguire la cella seguente per verificare che `all_tracking` contenga il giusto numero di elementi."
   ]
  },
  {
   "cell_type": "code",
   "execution_count": 20,
   "metadata": {
    "deletable": false,
    "editable": false
   },
   "outputs": [
    {
     "data": {
      "text/html": [
       "<table><tr><td style='text-align:center;'>Verifica lunghezza lista</td><td style='text-align:center;'>Verifica lunghezza liste contenute</td></tr><tr><td style='text-align:center;'><img src='images/test_ok.png'></td><td style='text-align:center;'><img src='images/test_ok.png'></td></tr></table>"
      ],
      "text/plain": [
       "<IPython.core.display.HTML object>"
      ]
     },
     "metadata": {},
     "output_type": "display_data"
    }
   ],
   "source": [
    "va.test_movimento_5(all_tracking)"
   ]
  },
  {
   "attachments": {},
   "cell_type": "markdown",
   "metadata": {
    "deletable": false,
    "editable": false
   },
   "source": [
    "<img style=\"float:left\" src=\"images/in.png\" />L'esecuzione della cella seguente consente di visualizzare, per ciascun frame, il percorso degli sprite in tutti i frame precedenti, oltre a evidenziare la posizione nello sprite corrente. Se lo sprite non è stato trovato nel frame corrente, vengono visualizzati dei punti interrogativi nella sua ultima posizione nota.  \n",
    "Il secondo slider (k) consente di selezionare un singolo sprite, oppure tutti quanti (valore -1).  \n",
    "Controllare, scorrendo il filmato, che il risultato sia ragionevolmente accurato."
   ]
  },
  {
   "cell_type": "code",
   "execution_count": null,
   "metadata": {
    "deletable": false,
    "editable": false
   },
   "outputs": [],
   "source": [
    "sprite_colors = [tuple(s[9,1].tolist()) for s in sprites]\n",
    "os2 = OBJ_SIZE//2\n",
    "\n",
    "@interact(i=(0,len(all_tracking)-1), k=(-1,len(sprites)-1))\n",
    "def show_frame(i=0,k=-1):\n",
    "    img = frames[i].copy()\n",
    "    for sprite_index, pos in enumerate(all_tracking[i]):\n",
    "        if k in (-1,sprite_index):\n",
    "            color = sprite_colors[sprite_index]\n",
    "            # Disegna tutti gli spostamenti dall'inizio al frame corrente\n",
    "            last, prev = None, None\n",
    "            for j in range(i+1):\n",
    "                cur = all_tracking[j][sprite_index]\n",
    "                if None not in (prev, cur):\n",
    "                    cv.line(img, prev, cur, color, 1)\n",
    "                    last = cur\n",
    "                prev = cur\n",
    "            # Evidenzia la posizione attuale se esiste, o '???' nell'ultima posizione nota\n",
    "            if pos is None:\n",
    "                if last is not None:\n",
    "                    va.center_text(img, '???', last, color)\n",
    "            else:\n",
    "                x, y = pos\n",
    "                cv.rectangle(img, (x-os2,y-os2), (x+os2,y+os2), color)\n",
    "    va.show(img)"
   ]
  },
  {
   "attachments": {},
   "cell_type": "markdown",
   "metadata": {
    "deletable": false,
    "editable": false
   },
   "source": [
    "La lista di liste `all_tracking` contiene la posizione (x,y) di ciascuno sprite in ogni frame (oppure `None` se non è presente). Nell'ultimo esercizio si drovranno derivare alcune informazioni a partire da questi dati."
   ]
  },
  {
   "attachments": {},
   "cell_type": "markdown",
   "metadata": {
    "deletable": false,
    "editable": false
   },
   "source": [
    "<img style=\"float:left\" src=\"images/ar.png\" />**Esercizio 6** - A partire dalla lista `all_tracking`, eseguire le operazioni seguenti:\n",
    "1. Costruire una lista contenente le stesse informazioni di `all_tracking` ma in cui tutti gli elementi pari a `None` sono sostituiti dalla tupla `(np.nan, np.nan)`.\n",
    "2. Trasformare la lista create al passo precedente in un array NumPy `mat`, di tipo `np.float32`, con 3 dimensioni: la prima corrisponde al numero dei frame, la seconda al numero degli sprite, la terza è 2 (le coordinate x e y).\n",
    "3. Create un nuovo array NumPy `dist` contenente, per ogni frame eccetto il primo e per ogni sprite, la distanza euclidea rispetto alla posizione nel frame precedente. Tale array dovrà quindi avere due dimensioni: la prima pari al numero di frame meno uno e la seconda pari al numero di sprite. Se uno o entrambi i punti sono `(np.nan, np.nan)`, il risultato del calcolo della distanza euclidea dovrà essere `np.nan` (si noti che questo non richiede accorgimenti particolari, grazie al funzionamento della costante `np.nan`, in quanto qualsiasi operazione che coinvolge un operando `np.nan` restituisce `np.nan`).\n",
    "4. Modificare l'array `dist` sostituendo tutti i valori `np.nan` con zero. Suggerimento: un modo semplice consiste nell'utilizzare la funzione `np.nan_to_num`.\n",
    "5. A partire dall'array `dist`, stampare a video, per ciascuno sprite, il totale dei pixel percorsi nel video."
   ]
  },
  {
   "cell_type": "code",
   "execution_count": 79,
   "metadata": {},
   "outputs": [
    {
     "data": {
      "text/html": [
       "<table><tr><td style='text-align:center;'>distanza tot percorsa: 5218.0536182760125</td><td style='text-align:center;'>distanza tot percorsa: 4741.405504885917</td></tr><tr><td style='text-align:center;'><img src='data:image/png;base64,iVBORw0KGgoAAAANSUhEUgAAAYwAAAGMCAIAAABGWwIdAAAgAElEQVR4AczBz2ucdYDA4c/3fZOZMm/SmUkzmbbZRmojpKGihD0U7CGphBy8uFI8LV2vuQgKshd7lyrWVAtN8SBIKbGtmFphyaW5xJ+IMRptIqTVCrZhiK+2aZrM5H33j/gc0ucJPAaiYsDJCu1IzSbSwDNIR48ivXwCqVpF+vZLpBs3kGa+QgoB6UGKlOc4cWuDnRZypMBjICoGnKzQjtRsIg08g3T0KNLLJ5CqVaRvv0S6cQNp5iukEJAepEh5jhO3NthpIUcKPAaiYsDJCu1IzSbSwDNIR48ivXwCqVpF+vZLpBs3kGa+QgoB6UGKlOc4cWuDnRZypMBjICoGnKzQjtRsIg08g3T0KNLLJ5CqVaRvv0S6cQNp5iukEJAepEh5jhO3NthpIUcKPAaiYsDJCu1IzSbSwDNIR48ivXwCqVpF+vZLpBs3kGa+QgoB6UGKlOc4cWuDnRZypMBjICoGnKzQjtRsIg08g3T0KNLLJ5CqVaRvv0S6cQNp5iukEJAepEh5jhO3NthpIUcKPAaiYsDJCu1IzSbSwDNIR48ivXwCqVpF+vZLpBs3kGa+QgoB6UGKlOc4cWuDnRZypMBjICoGnKzQjtRsIg08g3T0KNLLJ5CqVaRvv0S6cQNp5iukEJAepEh5jhO3NthpIUcKPAaiYsDJCu1IzSbSwDNIR48ivXwCqVpF+vZLpBs3kGa+QgoB6UGKlOc4cWuDnRZypMBjICoGnKzQjtRsIg08g3T0KNLLJ5CqVaRvv0S6cQNp5iukEJAepEh5jhO3NthpIUcKPAaiYsDJCu1IzSbSwDNIR48ivXwCqVpF+vZLpBs3kGa+QgoB6UGKlOc4cWuDnRZypMBjICoGnKzQjtRsIg08g3T0KNLLJ5CqVaRvv0S6cQNp5iukEJAepEh5jhO3NthpIUcKPAaiYsDJCu1IzSbSwDNIR48ivXwCqVpF+vZLpBs3kGa+QgoB6UGKlOc4cWuDnRZypMBjICoGnKzQjtRsIg08g3T0KNLLJ5CqVaRvv0S6cQNp5iukEJAepEh5jhO3NthpIUcKPAaiYsDJCu1IzSbSwDNIR48ivXwCqVpF+vZLpBs3kGa+QgoB6UGKlOc4cWuDnRZypMBjICoGnKzQjtRsIg08g3T0KNLLJ5CqVaRvv0S6cQNp5iukEJAepEh5jhO3NthpIUcKPAaiYsDJCu1IzSbSwDNIR48ivXwCqVpF+vZLpBs3kGa+QgoB6UGKlOc4cWuDnRZypMBjICoGnKzQjtRsIg08g3T0KNLLJ5CqVaRvv0S6cQNp5iukEJAepEh5jhO3NthpIUcKPAaiYsDJCu1IzSbSwDNIR48ivXwCqVpF+vZLpBs3kGa+QgoB6UGKlOc4cWuDnRZypMBjICoGnKzQjtRsIg08g3T0KNLLJ5CqVaRvv0S6cQNp5iukEJAepEh5jhO3NthpIUcKPAaiYsDJCu1IzSbSwDNIR48ivXwCqVpF+vZLpBs3kGa+QgoB6UGKlOc4cWuDnRZypMBjICoGnKzQjtRsIg08g3T0KNLLJ5CqVaRvv0S6cQNp5iukEJAepEh5jhO3NthpIUcKASvnMfBUH87e/n6cBy+8hDM0NISzPDiAE8cxTn3rIU6j0cDp+vgznPnr15Hmv0EKbTgRLZw8R4qwQsDKeQw81Yezt78f58ELL+EMDQ3hLA8O4MRxjFPfeojTaDRwuj7+DGf++nWk+W+QQhtORAsnz5EirBCwch4DT/Xh7O3vx3nwwks4Q0NDOMuDAzhxHOPUtx7iNBoNnK6PP8OZv34daf4bpNCGE9HCyXOkCCsErJzHwFN9OHv7+3EevPASztDQEM7y4ABOHMc49a2HOI1GA6fr489w5q9fR5r/Bim04US0cPIcKcIKASvnMfBUH87e/n6cBy+8hDM0NISzPDiAE8cxTn3rIU6j0cDp+vgznPnr15Hmv0EKbTgRLZw8R4qwQsDKeQw81Yezt78f58ELL+EMDQ3hLA8O4MRxjFPfeojTaDRwuj7+DGf++nWk+W+QQhtORAsnz5EirBCwch4DT/Xh7O3vx3nwwks4Q0NDOMuDAzhxHOPUtx7iNBoNnK6PP8OZv34daf4bpNCGE9HCyXOkCCsErJzHwFN9OHv7+3EevPASztDQEM7y4ABOHMc49a2HOI1GA6fr489w5q9fR5r/Bim04US0cPIcKcIKASvnMfBUH87e/n6cBy+8hDM0NISzPDiAE8cxTn3rIU6j0cDp+vgznPnr15Hmv0EKbTgRLZw8R4qwQsDKeQw81Yezt78f58ELL+EMDQ3hLA8O4MRxjFPfeojTaDRwuj7+DGf++nWk+W+QQhtORAsnz5EirBCwch4DT/Xh7O3vx3nwwks4Q0NDOMuDAzhxHOPUtx7iNBoNnK6PP8OZv34daf4bpNCGE9HCyXOkCCsErJzHwFN9OHv7+3EevPASztDQEM7y4ABOHMc49a2HOI1GA6fr489w5q9fR5r/Bim04US0cPIcKcIKASvnMfBUH87e/n6cBy+8hDM0NISzPDiAE8cxTn3rIU6j0cDp+vgznPnr15Hmv0EKbTgRLZw8R4qwQsDKeQw81Yezt78f58ELL+EMDQ3hLA8O4MRxjFPfeojTaDRwuj7+DGf++nWk+W+QQhtORAsnz5EirBCwch4DT/Xh7O3vx3nwwks4Q0NDOMuDAzhxHOPUtx7iNBoNnK6PP8OZv34daf4bpNCGE9HCyXOkCCsErJzHwFN9OHv7+3EevPASztDQEM7y4ABOHMc49a2HOI1GA6fr489w5q9fR5r/Bim04US0cPIcKcIKASvnMfBUH87e/n6cBy+8hDM0NISzPDiAE8cxTn3rIU6j0cDp+vgznPnr15Hmv0EKbTgRLZw8R4qwQsDKeQw81Yezt78f58ELL+EMDQ3hLA8O4MRxjFPfeojTaDRwuj7+DGf++nWk+W+QQhtORAsnz5EirBCwch4DT/Xh7O3vx3nwwks4Q0NDOMuDAzhxHOPUtx7iNBoNnK6PP8OZv34daf4bpNCGE9HCyXOkCCsErJzHwFN9OHv7+3EevPASztDQEM7y4ABOHMc49a2HOI1GA6fr489w5q9fR5r/Bim04US0cPIcKcIKASvnMfBUH87e/n6cBy+8hDM0NISzPDiAE8cxTn3rIU6j0cDp+vgznPnr15Hmv0EKbTgRLZw8R4qwQsDKeQw81Yezt78f58ELL+EMDQ3hLA8O4MRxjFPfeojTaDRwuj7+DGf++nWk+W+QQhtORAsnz5EirEB7GamjhLRvH9Kp13EGxsZw7lS7cTaxMqwMq7S5zU47UMhw0jTFWXvvLE5zehrpx1+Q4hinbXsLJ9BeRuooIe3bh3TqdZyBsTGcO9VunE2sDCvDKm1us9MOFDKcNE1x1t47i9Ocnkb68RekOMZp297CCbSXkTpKSPv2IZ16HWdgbAznTrUbZxMrw8qwSpvb7LQDhQwnTVOctffO4jSnp5F+/AUpjnHatrdwAu1lpI4S0r59SKdexxkYG8O5U+3G2cTKsDKs0uY2O+1AIcNJ0xRn7b2zOM3paaQff0GKY5y27S2cQHsZqaOEtG8f0qnXcQbGxnDuVLtxNrEyrAyrtLnNTjtQyHDSNMVZe+8sTnN6GunHX5DiGKdtewsn0F5G6igh7duHdOp1nIGxMZw71W6cTawMK8MqbW6z0w4UMpw0TXHW3juL05yeRvrxF6Q4xmnb3sIJtJeROkpI+/YhnXodZ2BsDOdOtRtnEyvDyrBKm9vstAOFDCdNU5y1987iNKenkX78BSmOcdq2t3AC7WWkjhLSvn1Ip17HGRgbw7lT7cbZxMqwMqzS5jY77UAhw0nTFGftvbM4zelppB9/QYpjnLbtLZxAexmpo4S0bx/SqddxBsbGcO5Uu3E2sTKsDKu0uc1OO1DIcNI0xVl77yxOc3oa6cdfkOIYp217CyfQXkbqKCHt24d06nWcgbExnDvVbpxNrAwrwyptbrPTDhQynDRNcdbeO4vTnJ5G+vEXpDjGadvewgm0l5E6Skj79iGdeh1nYGwM5061G2cTK8PKsEqb2+y0A4UMJ01TnLX3zuI0p6eRfvwFKY5x2ra3cALtZaSOEtK+fUinXscZGBvDuVPtxtnEyrAyrNLmNjvtQCHDSdMUZ+29szjN6WmkH39BimOctu0tnEB7GamjhLRvH9Kp13EGxsZw7lS7cTaxMqwMq7S5zU47UMhw0jTFWXvvLE5zehrpx1+Q4hinbXsLJ9BeRuooIe3bh3TqdZyBsTGcO9VunE2sDCvDKm1us9MOFDKcNE1x1t47i9Ocnkb68RekOMZp297CCbSXkTpKSPv2IZ16HWdgbAznTrUbZxMrw8qwSpvb7LQDhQwnTVOctffO4jSnp5F+/AUpjnHatrdwAu1lpI4S0r59SKdexxkYG8O5U+3G2cTKsDKs0uY2O+1AIcNJ0xRn7b2zOM3paaQff0GKY5y27S2cQHsZqaOEtG8f0qnXcQbGxnDuVLtxNrEyrAyrtLnNTjtQyHDSNMVZe+8sTnN6GunHX5DiGKdtewsn0F5G6igh7duHdOp1nIGxMZw71W6cTawMK8MqbW6z0w4UMpw0TXHW3juL05yeRvrxF6Q4xmnb3sIJtJeROkpI+/YhnXodZ2BsDOdOtRtnEyvDyrBKm9vstAOFDCdNU5y1987iNKenkX78BSmOcdq2t3AC7WWkjhLSvn1Ip17HGRgbw7lT7cbZxMqwMqzS5jY77UAhw0nTFGftvbM4zelppB9/QYpjnLbtLZxAexmpo4S0bx/SqddxBsbGcO5Uu3E2sTKsDKu0uc1OO1DIcNI0xVl77yxOc3oa6cdfkOIYp217CyfQXkbqKCHt24d06nWcgbExnDvVbpxNrAwrwyptbrPTDhQynDRNcdbeO4vTnJ5G+vEXpDjGadvewglQQtq/F+fZkydxsjdfw8myDOfnziJWjJQHpNCGs3s74LRa2zjlRylOtVzFOXb7Ns6Fc+eQ3nmXnVbAClBC2r8X59mTJ3GyN1/DybIM5+fOIlaMlAek0IazezvgtFrbOOVHKU61XMU5dvs2zoVz55DeeZedVsAKUELavxfn2ZMncbI3X8PJsgzn584iVoyUB6TQhrN7O+C0Wts45UcpTrVcxTl2+zbOhXPnkN55l51WwApQQtq/F+fZkydxsjdfw8myDOfnziJWjJQHpNCGs3s74LRa2zjlRylOtVzFOXb7Ns6Fc+eQ3nmXnVbAClBC2r8X59mTJ3GyN1/DybIM5+fOIlaMlAek0IazezvgtFrbOOVHKU61XMU5dvs2zoVz55DeeZedVsAKUELavxfn2ZMncbI3X8PJsgzn584iVoyUB6TQhrN7O+C0Wts45UcpTrVcxTl2+zbOhXPnkN55l51WwApQQtq/F+fZkydxsjdfw8myDOfnziJWjJQHpNCGs3s74LRa2zjlRylOtVzFOXb7Ns6Fc+eQ3nmXnVbAClBC2r8X59mTJ3GyN1/DybIM5+fOIlaMlAek0IazezvgtFrbOOVHKU61XMU5dvs2zoVz55DeeZedVsAKUELavxfn2ZMncbI3X8PJsgzn584iVoyUB6TQhrN7O+C0Wts45UcpTrVcxTl2+zbOhXPnkN55l51WwApQQtq/F+fZkydxsjdfw8myDOfnziJWjJQHpNCGs3s74LRa2zjlRylOtVzFOXb7Ns6Fc+eQ3nmXnVbAClBC2r8X59mTJ3GyN1/DybIM5+fOIlaMlAek0IazezvgtFrbOOVHKU61XMU5dvs2zoVz55DeeZedVsAKUELavxfn2ZMncbI3X8PJsgzn584iVoyUB6TQhrN7O+C0Wts45UcpTrVcxTl2+zbOhXPnkN55l51WwApQQtq/F+fZkydxsjdfw8myDOfnziJWjJQHpNCGs3s74LRa2zjlRylOtVzFOXb7Ns6Fc+eQ3nmXnVbAClBC2r8X59mTJ3GyN1/DybIM5+fOIlaMlAek0IazezvgtFrbOOVHKU61XMU5dvs2zoVz55DeeZedVsAKUELavxfn2ZMncbI3X8PJsgzn584iVoyUB6TQhrN7O+C0Wts45UcpTrVcxTl2+zbOhXPnkN55l51WwApQQtq/F+fZkydxsjdfw8myDOfnziJWjJQHpNCGs3s74LRa2zjlRylOtVzFOXb7Ns6Fc+eQ3nmXnVbAClBC2r8X59mTJ3GyN1/DybIM5+fOIlaMlAek0IazezvgtFrbOOVHKU61XMU5dvs2zoVz55DeeZedVsAKUELavxfn2ZMncbI3X8PJsgzn584iVoyUB6TQhrN7O+C0Wts45UcpTrVcxTl2+zbOhXPnkN55l51WwApQQtq/F+fZkydxsjdfw8myDOfnziJWjJQHpNCGs3s74LRa2zjlRylOtVzFOXb7Ns6Fc+eQ3nmXnVbAClBC2r8X59mTJ3GyN1/DybIM5+fOIlaMlAek0IazezvgtFrbOOVHKU61XMU5dvs2zoVz55DeeZedVsAKUELavxfn2ZMncbI3X8PJsgzn584iVoyUB6TQhrN7O+C0Wts45UcpTrVcxTl2+zbOhXPnkN55l51WwApQQtq/F+fZkydxsjdfw8myDOfnziJWjJQHpNCGs3s74LRa2zjlRylOtVzFOXb7Ns6Fc+eQ3nmXnVbAChTqSDPv4xwcHMQ51OzGSZIE59hWB87GRobzee1vnCzLcJaTGs79zfs4ryxs4NRqNZyxf9Zw0jTFmblyEefCBxNI4SFOoFBHmnkf5+DgIM6hZjdOkiQ4x7Y6cDY2MpzPa3/jZFmGs5zUcO5v3sd5ZWEDp1ar4Yz9s4aTpinOzJWLOBc+mEAKD3EChTrSzPs4BwcHcQ41u3GSJME5ttWBs7GR4Xxe+xsnyzKc5aSGc3/zPs4rCxs4tVoNZ+yfNZw0TXFmrlzEufDBBFJ4iBMo1JFm3sc5ODiIc6jZjZMkCc6xrQ6cjY0M5/Pa3zhZluEsJzWc+5v3cV5Z2MCp1Wo4Y/+s4aRpijNz5SLOhQ8mkMJDnEChjjTzPs7BwUGcQ81unCRJcI5tdeBsbGQ4n9f+xsmyDGc5qeHc37yP88rCBk6tVsMZ+2cNJ01TnJkrF3EufDCBFB7iBAp1pJn3cQ4ODuIcanbjJEmCc2yrA2djI8P5vPY3TpZlOMtJDef+5n2cVxY2cGq1Gs7YP2s4aZrizFy5iHPhgwmk8BAnUKgjzbyPc3BwEOdQsxsnSRKcY1sdOBsbGc7ntb9xsizDWU5qOPc37+O8srCBU6vVcMb+WcNJ0xRn5spFnAsfTCCFhziBQh1p5n2cg4ODOIea3ThJkuAc2+rA2djIcD6v/Y2TZRnOclLDub95H+eVhQ2cWq2GM/bPGk6apjgzVy7iXPhgAik8xAkU6kgz7+McHBzEOdTsxkmSBOfYVgfOxkaG83ntb5wsy3CWkxrO/c37OK8sbODUajWcsX/WcNI0xZm5chHnwgcTSOEhTqBQR5p5H+fg4CDOoWY3TpIkOMe2OnA2NjKcz2t/42RZhrOc1HDub97HeWVhA6dWq+GM/bOGk6YpzsyVizgXPphACg9xAoU60sz7OAcHB3EONbtxkiTBObbVgbOxkeF8XvsbJ8synOWkhnN/8z7OKwsbOLVaDWfsnzWcNE1xZq5cxLnwwQRSeIgTKNSRZt7HOTg4iHOo2Y2TJAnOsa0OnI2NDOfz2t84WZbhLCc1nPub93FeWdjAqdVqOGP/rOGkaYozc+UizoUPJpDCQ5xAoY408z7OwcFBnEPNbpwkSXCObXXgbGxkOJ/X/sbJsgxnOanh3N+8j/PKwgZOrVbDGftnDSdNU5yZKxdxLnwwgRQe4gQKdaSZ93EODg7iHGp24yRJgnNsqwNnYyPD+bz2N06WZTjLSQ3n/uZ9nFcWNnBqtRrO2D9rOGma4sxcuYhz4YMJpPAQJ1CoI828j3NwcBDnULMbJ0kSnGNbHTgbGxnO57W/cbIsw1lOajj3N+/jvLKwgVOr1XDG/lnDSdMUZ+bKRZwLH0wghYc4gUIdaeZ9nIODgziHmt04SZLgHNvqwNnYyHA+r/2Nk2UZznJSw7m/eR/nlYUNnFqthjP2zxpOmqY4M1cu4lz4YAIpPMQJFOpIM+/jHBwcxDnU7MZJkgTn2FYHzsZGhvN57W+cLMtwlpMazv3N+zivLGzg1Go1nLF/1nDSNMWZuXIR58IHE0jhIU6gUEeaeR/n4OAgzqFmN06SJDjHtjpwNjYynM9rf+NkWYaznNRw7m/ex3llYQOnVqvhjP2zhpOmKc7MlYs4Fz6YQAoPcQKFOtLM+zgHBwdxDjW7cZIkwTm21YGzsZHhfF77GyfLMpzlpIZzf/M+zisLGzi1Wg1n7J81nDRNcWauXMS58MEEUniIEyjUkWbexzk4OIhzqNmNkyQJzrGtDpyNjQzn89rfOFmW4SwnNZz7m/dxXlnYwKnVajhj/6zhpGmKM3PlIs6FDyaQwkOcQKGONPM+zsHBQZxDzW6cJElwjm114GxsZDif1/7GybIMZzmp4dzfvI/zysIGTq1Wwxn7Zw0nTVOcmSsXcS58MIEUHuIECnWkmfdxDg4O4hxqduMkSYJzbKsDZ2Mjw/m89jdOlmU4y0kN5/7mfZxXFjZwarUaztg/azhpmuLMXLmIc+GDCaTwECeEPf04vQuXcSqVCs6hZjdOudyBM5Ij5TnSFxHSar6O83Ue48RRjPPG3Xacri6k4w2kJEH6ae47nPHxcZy7f/yAE8Kefpzehcs4lUoF51CzG6dc7sAZyZHyHOmLCGk1X8f5Oo9x4ijGeeNuO05XF9LxBlKSIP009x3O+Pg4zt0/fsAJYU8/Tu/CZZxKpYJzqNmNUy534IzkSHmO9EWEtJqv43ydxzhxFOO8cbcdp6sL6XgDKUmQfpr7Dmd8fBzn7h8/4ISwpx+nd+EyTqVSwTnU7MYplztwRnKkPEf6IkJazddxvs5jnDiKcd64247T1YV0vIGUJEg/zX2HMz4+jnP3jx9wQtjTj9O7cBmnUqngHGp245TLHTgjOVKeI30RIa3m6zhf5zFOHMU4b9xtx+nqQjreQEoSpJ/mvsMZHx/HufvHDzgh7OnH6V24jFOpVHAONbtxyuUOnJEcKc+RvoiQVvN1nK/zGCeOYpw37rbjdHUhHW8gJQnST3Pf4YyPj+Pc/eMHnBD29OP0LlzGqVQqOIea3TjlcgfOSI6U50hfREir+TrO13mME0cxzht323G6upCON5CSBOmnue9wxsfHce7+8QNOCHv6cXoXLuNUKhWcQ81unHK5A2ckR8pzpC8ipNV8HefrPMaJoxjnjbvtOF1dSMcbSEmC9NPcdzjj4+M4d//4ASeEPf04vQuXcSqVCs6hZjdOudyBM5Ij5TnSFxHSar6O83Ue48RRjPPG3Xacri6k4w2kJEH6ae47nPHxcZy7f/yAE8Kefpzehcs4lUoF51CzG6dc7sAZyZHyHOmLCGk1X8f5Oo9x4ijGeeNuO05XF9LxBlKSIP009x3O+Pg4zt0/fsAJYU8/Tu/CZZxKpYJzqNmNUy534IzkSHmO9EWEtJqv43ydxzhxFOO8cbcdp6sL6XgDKUmQfpr7Dmd8fBzn7h8/4ISwpx+nd+EyTqVSwTnU7MYplztwRnKkPEf6IkJazddxvs5jnDiKcd64247T1YV0vIGUJEg/zX2HMz4+jnP3jx9wQtjTj9O7cBmnUqngHGp245TLHTgjOVKeI30RIa3m6zhf5zFOHMU4b9xtx+nqQjreQEoSpJ/mvsMZHx/HufvHDzgh7OnH6V24jFOpVHAONbtxyuUOnJEcKc+RvoiQVvN1nK/zGCeOYpw37rbjdHUhHW8gJQnST3Pf4YyPj+Pc/eMHnBD29OP0LlzGqVQqOIea3TjlcgfOSI6U50hfREir+TrO13mME0cxzht323G6upCON5CSBOmnue9wxsfHce7+8QNOCHv6cXoXLuNUKhWcQ81unHK5A2ckR8pzpC8ipNV8HefrPMaJoxjnjbvtOF1dSMcbSEmC9NPcdzjj4+M4d//4ASeEPf04vQuXcSqVCs6hZjdOudyBM5Ij5TnSFxHSar6O83Ue48RRjPPG3Xacri6k4w2kJEH6ae47nPHxcZy7f/yAE8Kefpzehcs4lUoF51CzG6dc7sAZyZHyHOmLCGk1X8f5Oo9x4ijGeeNuO05XF9LxBlKSIP009x3O+Pg4zt0/fsAJYU8/Tu/CZZxKpYJzqNmNUy534IzkSHmO9EWEtJqv43ydxzhxFOO8cbcdp6sL6XgDKUmQfpr7Dmd8fBzn7h8/4ISwpx+nd+EyTqVSwTnU7MYplztwRnKkPEf6IkJazddxvs5jnDiKcd64247T1YV0vIGUJEg/zX2HMz4+jnP3jx9wQtjTj9O7cBmnUqngHGp245TLHTgjOVKeI30RIa3m6zhf5zFOHMU4b9xtx+nqQjreQEoSpJ/mvsMZHx/HufvHDzgh7OnH6V24jFOpVHAONbtxyuUOnJEcKc+RvoiQVvN1nK/zGCeOYpw37rbjdHUhHW8gJQnST3Pf4YyPj+Pc/eMHnMCRp5FmL+NUqlWc00s9OPU60nO/IS0uPsKZPbILp1xGOvvkGk4URTif3KngdHYiNW4i3bqV4swtX8OZnJzEaa3N4wSOPI00exmnUq3inF7qwanXkZ77DWlx8RHO7JFdOOUy0tkn13CiKML55E4Fp7MTqXET6datFGdu+RrO5OQkTmttHidw5Gmk2cs4lWoV5/RSD069jvTcb0iLi49wZo/swimXkc4+uYYTRRHOJ3cqOJ2dSI2bSLdupThzy9dwJicncVpr8ziBI08jzV7GqVSrOKeXenDqdaTnfkNaXHyEM3tkF065jHT2yTWcKIpwPrlTwensRGrcRLp1K8WZW76GMzMiawEAACAASURBVDk5idNam8cJHHkaafYyTqVaxTm91INTryM99xvS4uIjnNkju3DKZaSzT67hRFGE88mdCk5nJ1LjJtKtWynO3PI1nMnJSZzW2jxO4MjTSLOXcSrVKs7ppR6ceh3pud+QFhcf4cwe2YVTLiOdfXINJ4oinE/uVHA6O5EaN5Fu3Upx5pav4UxOTuK01uZxAkeeRpq9jFOpVnFOL/Xg1OtIz/2GtLj4CGf2yC6cchnp7JNrOFEU4Xxyp4LT2YnUuIl061aKM7d8DWdychKntTaPEzjyNNLsZZxKtYpzeqkHp15Heu43pMXFRzizR3bhlMtIZ59cw4miCOeTOxWczk6kxk2kW7dSnLnlaziTk5M4rbV5nMCRp5FmL+NUqlWc00s9OPU60nO/IS0uPsKZPbILp1xGOvvkGk4URTif3KngdHYiNW4i3bqV4swtX8OZnJzEaa3N4wSOPI00exmnUq3inF7qwanXkZ77DWlx8RHO7JFdOOUy0tkn13CiKML55E4Fp7MTqXET6datFGdu+RrO5OQkTmttHidw5Gmk2cs4lWoV5/RSD069jvTcb0iLi49wZo/swimXkc4+uYYTRRHOJ3cqOJ2dSI2bSLdupThzy9dwJicncVpr8ziBI08jzV7GqVSrOKeXenDqdaTnfkNaXHyEM3tkF065jHT2yTWcKIpwPrlTwensRGrcRLp1K8WZW76GMzk5idNam8cJHHkaafYyTqVaxTm91INTryM99xvS4uIjnNkju3DKZaSzT67hRFGE88mdCk5nJ1LjJtKtWynO3PI1nMnJSZzW2jxO4MjTSLOXcSrVKs7ppR6ceh3pud+QFhcf4cwe2YVTLiOdfXINJ4oinE/uVHA6O5EaN5Fu3Upx5pav4UxOTuK01uZxAkeeRpq9jFOpVnFOL/Xg1OtIz/2GtLj4CGf2yC6cchnp7JNrOFEU4Xxyp4LT2YnUuIl061aKM7d8DWdychKntTaPEzjyNNLsZZxKtYpzeqkHp15Heu43pMXFRzizR3bhlMtIZ59cw4miCOeTOxWczk6kxk2kW7dSnLnlaziTk5M4rbV5nMCRp5FmL+NUqlWc00s9OPU60nO/IS0uPsKZPbILp1xGOvvkGk4URTif3KngdHYiNW4i3bqV4swtX8OZnJzEaa3N4wSOPI00exmnUq3inF7qwanXkZ77DWlx8RHO7JFdOOUy0tkn13CiKML55E4Fp7MTqXET6datFGdu+RrO5OQkTmttHidw5Gmk2cs4lWoV5/RSD069jvTcb0iLi49wZo/swimXkc4+uYYTRRHOJ3cqOJ2dSI2bSLdupThzy9dwJicncVpr8ziBI08jzV7GqVSrOKeXenDqdaTnfkNaXHyEM3tkF065jHT2yTWcKIpwPrlTwensRGrcRLp1K8WZW76GMzk5idNam8cJHHkaafYyTqVaxTm91INTryM99xvS4uIjnNkju3DKZaSzT67hRFGE88mdCk5nJ1LjJtKtWynO3PI1nMnJSZzW2jxO4MjTSLOXcSrVKs7ppR6ceh3pud+QFhcf4cwe2YVTLiOdfXINJ4oinE/uVHA6O5EaN5Fu3Upx5pav4UxOTuK01uZxAsefxylMf4hTKpVwTi/14PT1Ie2fQTpz5jzORx0ZzujoKM7SeAWnWCziXFzZjZMkSFcnv8eZmprCWc1/xVldWcGJdq3iBI4/j1OY/hCnVCrhnF7qwenrQ9o/g3TmzHmcjzoynNHRUZyl8QpOsVjEubiyGydJkK5Ofo8zNTWFs5r/irO6soIT7VrFCRx/Hqcw/SFOqVTCOb3Ug9PXh7R/BunMmfM4H3VkOKOjozhL4xWcYrGIc3FlN06SIF2d/B5namoKZzX/FWd1ZQUn2rWKEzj+PE5h+kOcUqmEc3qpB6evD2n/DNKZM+dxPurIcEZHR3GWxis4xWIR5+LKbpwkQbo6+T3O1NQUzmr+K87qygpOtGsVJ3D8eZzC9Ic4pVIJ5/RSD05fH9L+GaQzZ87jfNSR4YyOjuIsjVdwisUizsWV3ThJgnR18nucqakpnNX8V5zVlRWcaNcqTuD48ziF6Q9xSqUSzumlHpy+PqT9M0hnzpzH+agjwxkdHcVZGq/gFItFnIsru3GSBOnq5Pc4U1NTOKv5rzirKys40a5VnMDx53EK0x/ilEolnNNLPTh9fUj7Z5DOnDmP81FHhjM6OoqzNF7BKRaLOBdXduMkCdLVye9xpqamcFbzX3FWV1Zwol2rOIHjz+MUpj/EKZVKOKeXenD6+pD2zyCdOXMe56OODGd0dBRnabyCUywWcS6u7MZJEqSrk9/jTE1N4azmv+KsrqzgRLtWcQLHn8cpTH+IUyqVcE4v9eD09SHtn0E6c+Y8zkcdGc7o6CjO0ngFp1gs4lxc2Y2TJEhXJ7/HmZqawlnNf8VZXVnBiXat4gSOP49TmP4Qp1Qq4Zxe6sHp60PaP4N05sx5nI86MpzR0VGcpfEKTrFYxLm4shsnSZCuTn6PMzU1hbOa/4qzurKCE+1axQkcfx6nMP0hTqlUwjm91IPT14e0fwbpzJnzOB91ZDijo6M4S+MVnGKxiHNxZTdOkiBdnfweZ2pqCmc1/xVndWUFJ9q1ihM4/jxOYfpDnFKphHN6qQenrw9p/wzSmTPncT7qyHBGR0dxlsYrOMViEefiym6cJEG6Ovk9ztTUFM5q/ivO6soKTrRrFSdw/HmcwvSHOKVSCef0Ug9OXx/S/hmkM2fO43zUkeGMjo7iLI1XcIrFIs7Fld04SYJ0dfJ7nKmpKZzV/Fec1ZUVnGjXKk7g+PM4hekPcUqlEs7ppR6cvj6k/TNIZ86cx/moI8MZHR3FWRqv4BSLRZyLK7txkgTp6uT3OFNTUzir+a84qysrONGuVZzA8edxCtMf4pRKJZzTSz04fX1I+2eQzpw5j/NRR4YzOjqKszRewSkWizgXV3bjJAnS1cnvcaampnBW819xVldWcKJdqziB48/jFKY/xCmVSjinl3pw+vqQ9s8gnTlzHuejjgxndHQUZ2m8glMsFnEuruzGSRKkq5Pf40xNTeGs5r/irK6s4ES7VnECx5/HKUx/iFMqlXBOL/Xg9PUh7Z9BOnPmPM5HHRnO6OgoztJ4BadYLOJcXNmNkyRIVye/x5mamsJZzX/FWV1ZwYl2reIEjj+PU5j+EKdUKuGcXurB6etD2j+DdObMeZyPOjKc0dFRnKXxCk6xWMS5uLIbJ0mQrk5+jzM1NYWzmv+Ks7qyghPtWsUJHH8epzD9IU6pVMI5vdSD09eHtH8G6cyZ8zgfdWQ4o6OjOEvjFZxisYhzcWU3TpIgXZ38HmdqagpnNf8VZ3VlBSfatYoTOP48TmH6Q5xSqYRzeqkHp68Paf8M0pkz53E+6shwRkdHcZbGKzjFYhHn4spunCRBujr5Pc7U1BTOav4rzurKCk60axUncPx5nML0hzilUgnn9FIPTl8f0v4ZpDNnzuN81JHhjI6O4iyNV3CKxSLOxZXdOEmCdHXye5ypqSmc1fxXnNWVFZxo1ypO4PjzOIXpD3FKpRLO6aUenL4+pP0zSGfOnMf5qCPDGR0dxVkar+AUi0Wciyu7cZIE6erk9zhTU1M4q/mvOKsrKzjRrlWcMLw4hzN7+ABSiHBevdeLc7iOFC8hTUx8irOYrSONjOAUXqzi7CkmOG//ixQC0rWrDZypS5eQnvgLp394GOfPt07hhOHFOZzZwweQQoTz6r1enMN1pHgJaWLiU5zFbB1pZASn8GIVZ08xwXn7X6QQkK5dbeBMXbqE9MRfOP3Dwzh/vnUKJwwvzuHMHj6AFCKcV+/14hyuI8VLSBMTn+IsZutIIyM4hRerOHuKCc7b/yKFgHTtagNn6tIlpCf+wukfHsb5861TOGF4cQ5n9vABpBDhvHqvF+dwHSleQpqY+BRnMVtHGhnBKbxYxdlTTHDe/hcpBKRrVxs4U5cuIT3xF07/8DDOn2+dwgnDi3M4s4cPIIUI59V7vTiH60jxEtLExKc4i9k60sgITuHFKs6eYoLz9r9IISBdu9rAmbp0CemJv3D6h4dx/nzrFE4YXpzDmT18AClEOK/e68U5XEeKl5AmJj7FWczWkUZGcAovVnH2FBOct/9FCgHp2tUGztSlS0hP/IXTPzyM8+dbp3DC8OIczuzhA0ghwnn1Xi/O4TpSvIQ0MfEpzmK2jjQyglN4sYqzp5jgvP0vUghI1642cKYuXUJ64i+c/uFhnD/fOoUThhfncGYPH0AKEc6r93pxDteR4iWkiYlPcRazdaSREZzCi1WcPcUE5+1/kUJAuna1gTN16RLSE3/h9A8P4/z51imcMLw4hzN7+ABSiHBevdeLc7iOFC8hTUx8irOYrSONjOAUXqzi7CkmOG//ixQC0rWrDZypS5eQnvgLp394GOfPt07hhOHFOZzZwweQQoTz6r1enMN1pHgJaWLiU5zFbB1pZASn8GIVZ08xwXn7X6QQkK5dbeBMXbqE9MRfOP3Dwzh/vnUKJwwvzuHMHj6AFCKcV+/14hyuI8VLSBMTn+IsZutIIyM4hRerOHuKCc7b/yKFgHTtagNn6tIlpCf+wukfHsb5861TOGF4cQ5n9vABpBDhvHqvF+dwHSleQpqY+BRnMVtHGhnBKbxYxdlTTHDe/hcpBKRrVxs4U5cuIT3xF07/8DDOn2+dwgnDi3M4s4cPIIUI59V7vTiH60jxEtLExKc4i9k60sgITuHFKs6eYoLz9r9IISBdu9rAmbp0CemJv3D6h4dx/nzrFE4YXpzDmT18AClEOK/e68U5XEeKl5AmJj7FWczWkUZGcAovVnH2FBOct/9FCgHp2tUGztSlS0hP/IXTPzyM8+dbp3DC8OIczuzhA0ghwnn1Xi/O4TpSvIQ0MfEpzmK2jjQyglN4sYqzp5jgvP0vUghI1642cKYuXUJ64i+c/uFhnD/fOoUThhfncGYPH0AKEc6r93pxDteR4iWkiYlPcRazdaSREZzCi1WcPcUE5+1/kUJAuna1gTN16RLSE3/h9A8P4/z51imcMLw4hzN7+ABSiHBevdeLc7iOFC8hTUx8irOYrSONjOAUXqzi7CkmOG//ixQC0rWrDZypS5eQnvgLp394GOfPt07hhOHFOZzZwweQQoTz6r1enMN1pHgJaWLiU5zFbB1pZASn8GIVZ08xwXn7X6QQkK5dbeBMXbqE9MRfOP3Dwzh/vnUKJwwvzuHMHj6AFCKcV+/14hyuI8VLSBMTn+IsZutIIyM4hRerOHuKCc7b/yKFgHTtagNn6tIlpCf+wukfHsb5861TOGF4cQ5n9vABpBDhvHqvF+dwHSleQpqY+BRnMVtHGhnBKbxYxdlTTHDe/hcpBKRrVxs4U5cuIT3xF07/8DDOn2+dwgnDi3M4s4cPIIUI59V7vTiH60jxEtLExKc4i9k60sgITuHFKs6eYoLz9r9IISBdu9rAmbp0CemJv3D6h4dx/nzrFE4YXpzDmT18AClEOK/e68U5XEeKl5AmJj7FWczWkUZGcAovVnH2FBOct/9FCgHp2tUGztSlS0hP/IXTPzyM8+dbp3DCiXtLOFd6/gNrHed/lqs4Bw+24fznI6Tff0c6HyEVCkjL/S2cVquF878L7Ti9vTFOtol08ybS8p7fcXp6enD+77//CyecuLeEc6XnP7DWcf5nuYpz8GAbzn8+Qvr9d6TzEVKhgLTc38JptVo4/7vQjtPbG+Nkm0g3byIt7/kdp6enB+f//vu/cMKJe0s4V3r+A2sd53+WqzgHD7bh/OcjpN9/RzofIRUKSMv9LZxWq4XzvwvtOL29MU62iXTzJtLynt9xenp6cP7vv/8LJ5y4t4Rzpec/sNZx/me5inPwYBvOfz5C+v13pPMRUqGAtNzfwmm1Wjj/u9CO09sb42SbSDdvIi3v+R2np6cH5//++79wwol7SzhXev4Dax3nf5arOAcPtuH85yOk339HOh8hFQpIy/0tnFarhfO/C+04vb0xTraJdPMm0vKe33F6enpw/u//i4OD1qiuBgDD77lz74zOmISYZrqIFYyfbiticFWpWoq4MqVaQWl3gihduOki6MqN6A9wE1HpRumi0E03arEVt6LY2pBJSQOVaoQKmWRGzz33+xHv4j7P6Vmc8OW/f+L80N2G1cf5ZmEcZ8eOHGffAGl5Gel6htRsIi38L+LEGHG+e1rgTE01cNIQ6cULpIWJZZxut4vz8+lZnPDlv3/i/NDdhtXH+WZhHGfHjhxn3wBpeRnpeobUbCIt/C/ixBhxvnta4ExNNXDSEOnFC6SFiWWcbreL8/PpWZzw5b9/4vzQ3YbVx/lmYRxnx44cZ98AaXkZ6XqG1GwiLfwv4sQYcb57WuBMTTVw0hDpxQukhYllnG63i/Pz6Vmc8OW/f+L80N2G1cf5ZmEcZ8eOHGffAGl5Gel6htRsIi38L+LEGHG+e1rgTE01cNIQ6cULpIWJZZxut4vz8+lZnPDlv3/i/NDdhtXH+WZhHGfHjhxn3wBpeRnpeobUbCIt/C/ixBhxvnta4ExNNXDSEOnFC6SFiWWcbreL8/PpWZzw5b9/4vzQ3YbVx/lmYRxnx44cZ98AaXkZ6XqG1GwiLfwv4sQYcb57WuBMTTVw0hDpxQukhYllnG63i/Pz6Vmc8OW/f+L80N2G1cf5ZmEcZ8eOHGffAGl5Gel6htRsIi38L+LEGHG+e1rgTE01cNIQ6cULpIWJZZxut4vz8+lZnPDlv3/i/NDdhtXH+WZhHGfHjhxn3wBpeRnpeobUbCIt/C/ixBhxvnta4ExNNXDSEOnFC6SFiWWcbreL8/PpWZzw5b9/4vzQ3YbVx/lmYRxnx44cZ98AaXkZ6XqG1GwiLfwv4sQYcb57WuBMTTVw0hDpxQukhYllnG63i/Pz6Vmc8OW/f+L80N2G1cf5ZmEcZ8eOHGffAGl5Gel6htRsIi38L+LEGHG+e1rgTE01cNIQ6cULpIWJZZxut4vz8+lZnPDlv3/i/NDdhtXH+WZhHGfHjhxn3wBpeRnpeobUbCIt/C/ixBhxvnta4ExNNXDSEOnFC6SFiWWcbreL8/PpWZzw5b9/4vzQ3YbVx/lmYRxnx44cZ98AaXkZ6XqG1GwiLfwv4sQYcb57WuBMTTVw0hDpxQukhYllnG63i/Pz6Vmc8OW/f+L80N2G1cf5ZmEcZ8eOHGffAGl5Gel6htRsIi38L+LEGHG+e1rgTE01cNIQ6cULpIWJZZxut4vz8+lZnPDlv3/i/NDdhtXH+WZhHGfHjhxn3wBpeRnpeobUbCIt/C/ixBhxvnta4ExNNXDSEOnFC6SFiWWcbreL8/PpWZzw5b9/4vzQ3YbVx/lmYRxnx44cZ98AaXkZ6XqG1GwiLfwv4sQYcb57WuBMTTVw0hDpxQukhYllnG63i/Pz6Vmc8OW/f+L80N2G1cf5ZmEcZ8eOHGffAGl5Gel6htRsIi38L+LEGHG+e1rgTE01cNIQ6cULpIWJZZxut4vz8+lZnPDlv3/i/NDdhtXH+WZhHGfHjhxn3wBpeRnpeobUbCIt/C/ixBhxvnta4ExNNXDSEOnFC6SFiWWcbreL8/PpWZzw1cITnDu7prEi1ihOQQNnK1YTa4Uh1gApjSFlSO2IVORIE1iRiJN4i1NR4bz+5ARO+GrhCc6dXdNYEWsUp6CBsxWribXCEGuAlMaQMqR2RCpypAmsSMRJvMWpqHBef3ICJ3y18ATnzq5prIg1ilPQwNmK1cRaYYg1QEpjSBlSOyIVOdIEViTiJN7iVFQ4rz85gRO+WniCc2fXNFbEGsUpaOBsxWpirTDEGiClMaQMqR2RihxpAisScRJvcSoqnNefnMAJXy08wbmzaxorYo3iFDRwtmI1sVYYYg2Q0hhShtSOSEWONIEViTiJtzgVFc7rT07ghK8WnuDc2TWNFbFGcQoaOFuxmlgrDLEGSGkMKUNqR6QiR5rAikScxFucigrn9ScncMJXC09w7uyaxopYozgFDZytWE2sFYZYA6Q0hpQhtSNSkSNNYEUiTuItTkWF8/qTEzjhq4UnOHd2TWNFrFGcggbOVqwm1gpDrAFSGkPKkNoRqciRJrAiESfxFqeiwnn9yQmc8NXCE5w7u6axItYoTkEDZytWE2uFIdYAKY0hZUjtiFTkSBNYkYiTeItTUeG8/uQETvhq4QnOnV3TWBFrFKeggbMVq4m1whBrgJTGkDKkdkQqcqQJrEjESbzFqahwXn9yAid8tfAE586uaayINYpT0MDZitXEWmGINUBKY0gZUjsiFTnSBFYk4iTe4lRUOK8/OYETvlp4gnNn1zRWxBrFKWjgbMVqYq0wxBogpTGkDKkdkYocaQIrEnESb3EqKpzXn5zACV8tPMG5s2saK2KN4hQ0cLZiNbFWGGINkNIYUobUjkhFjjSBFYk4ibc4FRXO609O4ISvFp7g3Nk1jRWxRnEKGjhbsZpYKwyxBkhpDClDakekIkeawIpEnMRbnIoK5/UnJ3DCVwtPcO7smsaKWKM4BQ2crVhNrBWGWAOkNIaUIbUjUpEjTWBFIk7iLU5FhfP6kxM44auFJzh3dk1jRaxRnIIGzlasJtYKQ6wBUhpDypDaEanIkSawIhEn8RanosJ5/ckJnPDVwhOcO7umsSLWKE5BA2crVhNrhSHWACmNIWVI7YhU5EgTWJGIk3iLU1HhvP7kBE74auEJzp1d01gRaxSnoIGzFauJtcIQa4CUxpAypHZEKnKkCaxIxEm8xamocF5/cgInfLXwBOfOrmmsiDWKU9DA2YrVxFphiDVASmNIGVI7IhU50gRWJOIk3uJUVDivPzmBE75aeIJzZ9c0VsQaxSlo4GzFamKtMMQaIKUxpAypHZGKHGkCKxJxEm9xKiqc15+cwAlfLTzBubNrGitijeIUNHC2YjWxVhhiDZDSGFKG1I5IRY40gRWJOIm3OBUVzutPTuCErxae4NzZNY0VsUZxCho4W7GaWCsMsQZIaQwpQ2pHpCJHmsCKRJzEW5yKCuf1JydwwtfLf+Dc3v4h9RvBCjibYkndBvkQq0JKo0gZ0paEVJZIzfQGJ8aI09mccNpZG+flgS9wwtfLf+Dc3v4h9RvBCjibYkndBvkQq0JKo0gZ0paEVJZIzfQGJ8aI09mccNpZG+flgS9wwtfLf+Dc3v4h9RvBCjibYkndBvkQq0JKo0gZ0paEVJZIzfQGJ8aI09mccNpZG+flgS9wwtfLf+Dc3v4h9RvBCjibYkndBvkQq0JKo0gZ0paEVJZIzfQGJ8aI09mccNpZG+flgS9wwtfLf+Dc3v4h9RvBCjibYkndBvkQq0JKo0gZ0paEVJZIzfQGJ8aI09mccNpZG+flgS9wwtfLf+Dc3v4h9RvBCjibYkndBvkQq0JKo0gZ0paEVJZIzfQGJ8aI09mccNpZG+flgS9wwtfLf+Dc3v4h9RvBCjibYkndBvkQq0JKo0gZ0paEVJZIzfQGJ8aI09mccNpZG+flgS9wwtfLf+Dc3v4h9RvBCjibYkndBvkQq0JKo0gZ0paEVJZIzfQGJ8aI09mccNpZG+flgS9wwtfLf+Dc3v4h9RvBCjibYkndBvkQq0JKo0gZ0paEVJZIzfQGJ8aI09mccNpZG+flgS9wwtfLf+Dc3v4h9RvBCjibYkndBvkQq0JKo0gZ0paEVJZIzfQGJ8aI09mccNpZG+flgS9wwtfLf+Dc3v4h9RvBCjibYkndBvkQq0JKo0gZ0paEVJZIzfQGJ8aI09mccNpZG+flgS9wwtfLf+Dc3v4h9RvBCjibYkndBvkQq0JKo0gZ0paEVJZIzfQGJ8aI09mccNpZG+flgS9wwtfLf+Dc3v4h9RvBCjibYkndBvkQq0JKo0gZ0paEVJZIzfQGJ8aI09mccNpZG+flgS9wwtfLf+Dc3v4h9RvBCjibYkndBvkQq0JKo0gZ0paEVJZIzfQGJ8aI09mccNpZG+flgS9wwtfLf+Dc3v4h9RvBCjibYkndBvkQq0JKo0gZ0paEVJZIzfQGJ8aI09mccNpZG+flgS9wwtfLf+Dc3v4h9RvBCjibYkndBvkQq0JKo0gZ0paEVJZIzfQGJ8aI09mccNpZG+flgS9wwtfLf+Dc3v4h9RvBCjibYkndBvkQq0JKo0gZ0paEVJZIzfQGJ8aI09mccNpZG+flgS9wwtfLf+Dc3v4h9RvBCjibYkndBvkQq0JKo0gZ0paEVJZIzfQGJ8aI09mccNpZG+flgS9wwtfLf+Dc3v4h9RvBCjibYkndBvkQq0JKo0gZ0paEVJZIzfQGJ8aI09mccNpZG+flgS9wwtfLf+Dc3v4h9RvBCjibYkndBvkQq0JKo0gZ0paEVJZIzfQGJ8aI09mccNpZG+flgS9wwtfLf+Dc3v4h9RvBCjibYkndBvkQq0JKo0gZ0paEVJZIzfQGJ8aI09mccNpZG+flgS9wwtfLf+Dc3v4h9RvBCjibYkndBvkQq0JKo0gZ0paEVJZIzfQGJ8aI09mccNpZG+flgS9wwqd/L+L88tFO6paX1C42qN3IMFG3QfEOJ8synIhVUeGkcojUyHHGSThlWeI0Dh7BCZ/+vYjzy0c7qVteUrvYoHYjw0TdBsU7nCzLcCJWRYWTyiFSI8cZJ+GUZYnTOHgEJ3z69yLOLx/tpG55Se1ig9qNDBN1GxTvcLIsw4lYFRVOKodIjRxnnIRTliVO4+ARnPDp34s4v3y0k7rlJbWLDWo3MkzUbVC8w8myDCdiVVQ4qRwiNXKccRJOWZY4jYNHcMKnfy/i/PLRTuqWl9QuNqjdyDBRt0HxDifLMpyIVVHhpHKI1Mhxxkk4ZVniNA4ewQmf/r2I88tHO6lbXlK72KB2I8NE3QbFO5wsy3AiVkWFk8ohUiPHGSfhlGWJ0zh4BCd8+vcilx0N2AAAHfRJREFUzi8f7aRueUntYoPajQwTdRsU73CyLMOJWBUVTiqHSI0cZ5yEU5YlTuPgEZzw6d+LOL98tJO65SW1iw1qNzJM1G1QvMPJsgwnYlVUOKkcIjVynHESTlmWOI2DR3DCp38v4vzy0U7qlpfULjao3cgwUbdB8Q4nyzKciFVR4aRyiNTIccZJOGVZ4jQOHsEJn/69iPPLRzupW15Su9igdiPDRN0GxTucLMtwIlZFhZPKIVIjxxkn4ZRlidM4eAQnfPr3Is4vH+2kbnlJ7WKD2o0ME3UbFO9wsizDiVgVFU4qh0iNHGechFOWJU7j4BGc8Onfizi/fLSTuuUltYsNajcyTNRtULzDybIMJ2JVVDipHCI1cpxxEk5ZljiNg0dwwqd/L+L88tFO6paX1C42qN3IMFG3QfEOJ8synIhVUeGkcojUyHHGSThlWeI0Dh7BCZ/+vYjzy0c7qVteUrvYoHYjw0TdBsU7nCzLcCJWRYWTyiFSI8cZJ+GUZYnTOHgEJ3z69yLOLx/tpG55Se1ig9qNDBN1GxTvcLIsw4lYFRVOKodIjRxnnIRTliVO4+ARnPDp34s4v3y0k7rlJbWLDWo3MkzUbVC8w8myDCdiVVQ4qRwiNXKccRJOWZY4jYNHcMKnfy/i/PLRTuqWl9QuNqjdyDBRt0HxDifLMpyIVVHhpHKI1Mhxxkk4ZVniNA4ewQmf/r2I88tHO6lbXlK72KB2I8NE3QbFO5wsy3AiVkWFk8ohUiPHGSfhlGWJ0zh4BCd8+vcizi8f7aRueUntYoPajQwTdRsU73CyLMOJWBUVTiqHSI0cZ5yEU5YlTuPgEZzw6d+LOL98tJO65SW1iw1qNzJM1G1QvMPJsgwnYlVUOKkcIjVynHESTlmWOI2DR3DCp38v4vzy0U7qlpfULjao3cgwUbdB8Q4nyzKciFVR4aRyiNTIccZJOGVZ4jQOHsEJn/69iPPLRzupW15Su9igdiPDRN0GxTucLMtwIlZFhZPKIVIjxxkn4ZRlidM4eAQnHFzp4TzYNk3dGpHalXlF3bYMEk4IAWfYfI8TQsCJWGVVIlURKctxRuIQJ4SAUxw+ihMOrvRwHmybpm6NSO3KvKJuWwYJJ4SAM2y+xwkh4ESssiqRqoiU5TgjcYgTQsApDh/FCQdXejgPtk1Tt0akdmVeUbctg4QTQsAZNt/jhBBwIlZZlUhVRMpynJE4xAkh4BSHj+KEgys9nAfbpqlbI1K7Mq+o25ZBwgkh4Ayb73FCCDgRq6xKpCoiZTnOSBzihBBwisNHccLBlR7Og23T1K0RqV2ZV9RtyyDhhBBwhs33OCEEnIhVViVSFZGyHGckDnFCCDjF4aM44eBKD+fBtmnq1ojUrswr6rZlkHBCCDjD5nucEAJOxCqrEqmKSFmOMxKHOCEEnOLwUZxwcKWH82DbNHVrRGpX5hV12zJIOCEEnGHzPU4IASdilVWJVEWkLMcZiUOcEAJOcfgoTji40sN5sG2aujUitSvzirptGSScEALOsPkeJ4SAE7HKqkSqIlKW44zEIU4IAac4fBQnHFzp4TzYNk3dGpHalXlF3bYMEk4IAWfYfI8TQsCJWGVVIlURKctxRuIQJ4SAUxw+ihMOrvRwHmybpm6NSO3KvKJuWwYJJ4SAM2y+xwkh4ESssiqRqoiU5TgjcYgTQsApDh/FCQdXejgPtk1Tt0akdmVeUbctg4QTQsAZNt/jhBBwIlZZlUhVRMpynJE4xAkh4BSHj+KEgys9nAfbpqlbI1K7Mq+o25ZBwgkh4Ayb73FCCDgRq6xKpCoiZTnOSBzihBBwisNHccLBlR7Og23T1K0RqV2ZV9RtyyDhhBBwhs33OCEEnIhVViVSFZGyHGckDnFCCDjF4aM44eBKD+fBtmnq1ojUrswr6rZlkHBCCDjD5nucEAJOxCqrEqmKSFmOMxKHOCEEnOLwUZxwcKWH82DbNHVrRGpX5hV12zJIOCEEnGHzPU4IASdilVWJVEWkLMcZiUOcEAJOcfgoTji40sN5sG2aujUitSvzirptGSScEALOsPkeJ4SAE7HKqkSqIlKW44zEIU4IAac4fBQnHFzp4TzYNk3dGpHalXlF3bYMEk4IAWfYfI8TQsCJWGVVIlURKctxRuIQJ4SAUxw+ihMOrvRwHmybpm6NSO3KvKJuWwYJJ4SAM2y+xwkh4ESssiqRqoiU5TgjcYgTQsApDh/FCQdXejgPtk1Tt0akdmVeUbctg4QTQsAZNt/jhBBwIlZZlUhVRMpynJE4xAkh4BSHj+KEgys9nAfbpqlbI1K7Mq+o25ZBwgkh4Ayb73FCCDgRq6xKpCoiZTnOSBzihBBwisNHccLBlR7Og23T1K0RqV2ZV9RtyyDhhBBwhs33OCEEnIhVViVSFZGyHGckDnFCCDjF4aM44eBKD+fBtmnq1ojUrswr6rZlkHBCCDjD5nucEAJOxCqrEqmKSFmOMxKHOCEEnOLwUZxwbOk5zsPxaZw8z3E20hpOURQ4/c0BJxBw9r16T92WxvrU7Z9WwKpwWhsVTqvVwum+6+D0+32c1dnjOOHY0nOch+PTOHme42ykNZyiKHD6mwNOIODse/Weui2N9anbP62AVeG0NiqcVquF033Xwen3+zirs8dxwrGl5zgPx6dx8jzH2UhrOEVR4PQ3B5xAwNn36j11WxrrU7d/WgGrwmltVDitVgun+66D0+/3cVZnj+OEY0vPcR6OT+PkeY6zkdZwiqLA6W8OOIGAs+/Ve+q2NNanbv+0AlaF09qocFqtFk73XQen3+/jrM4exwnHlp7jPByfxsnzHGcjreEURYHT3xxwAgFn36v31G1prE/d/mkFrAqntVHhtFotnO67Dk6/38dZnT2OE44tPcd5OD6Nk+c5zkZawymKAqe/OeAEAs6+V++p29JYn7r90wpYFU5ro8JptVo43XcdnH6/j7M6exwnHFt6jvNwfBonz3OcjbSGUxQFTn9zwAkEnH2v3lO3pbE+dfunFbAqnNZGhdNqtXC67zo4/X4fZ3X2OE44tvQc5+H4NE6e5zgbaQ2nKAqc/uaAEwg4+169p25LY33q9k8rYFU4rY0Kp9Vq4XTfdXD6/T7O6uxxnHBs6TnOw/FpnDzPcTbSGk5RFDj9zQEnEHD2vXpP3ZbG+tTtn1bAqnBaGxVOq9XC6b7r4PT7fZzV2eM44djSc5yH49M4eZ7jbKQ1nKIocPqbA04g4Ox79Z66LY31qds/rYBV4bQ2KpxWq4XTfdfB6ff7OKuzx3HCsaXnOA/Hp3HyPMfZSGs4RVHg9DcHnEDA2ffqPXVbGutTt39aAavCaW1UOK1WC6f7roPT7/dxVmeP44RjS89xHo5P4+R5jrOR1nCKosDpbw44gYCz79V76rY01qdu/7QCVoXT2qhwWq0WTvddB6ff7+Oszh7HCceWnuM8HJ/GyfMcZyOt4RRFgdPfHHACAWffq/fUbWmsT93+aQWsCqe1UeG0Wi2c7rsOTr/fx1mdPY4Tji09x3k4Po2T5znORlrDKYoCp7854AQCzr5X76nb0lifuv3TClgVTmujwmm1Wjjddx2cfr+Pszp7HCccW3qO83B8GifPc5yNtIZTFAVOf3PACQScfa/eU7elsT51+6cVsCqc1kaF02q1cLrvOjj9fh9ndfY4Tji29Bzn4fg0Tp7nOBtpDacoCpz+5oATCDj7Xr2nbktjfer2TytgVTitjQqn1WrhdN91cPr9Ps7q7HGccGzpOc7D8WmcPM9xNtIaTlEUOP3NAScQcPa9ek/dlsb61O2fVsCqcFobFU6r1cLpvuvg9Pt9nNXZ4zjh2NJznIfj0zh5nuNspDWcoihw+psDTiDg7Hv1nrotjfWp2z+tgFXhtDYqnFarhdN918Hp9/s4q7PHccKxpec4D8encfI8x9lIazhFUeD0NwecQMDZ9+o9dVsa61O3f1oBq8JpbVQ4rVYLp/uug9Pv93FWZ4/jhGNLz3Eejk/j5HmOs5HWcIqiwOlvDjiBgLPv1XvqtjTWp27/tAJWhdPaqHBarRZO910Hp9/v46zOHscJx5ae4zwcn8bJ8xxnI63hFEWB098ccAIBZ9+r99RtaaxP3f5pBawKp7VR4bRaLZzuuw5Ov9/HWZ09jhOOLT3HeTg+jZPnOc5GWsMpigKnvzngBALOvlfvqdvSWJ+6/dMKWBVOa6PCabVaON13HZx+v4+zOnscJxxbeo7zUzaBE0LAyTsBp9Pp4KxvynAqKpyxR7/jhBBw1nZ1cNrtNs5qp4WTSEj/bSBVFc4U4zgpJZzV2eM44djSc5yfsgmcEAJO3gk4nU4HZ31ThlNR4Yw9+h0nhICztquD0263cVY7LZxEQvpvA6mqcKYYx0kp4azOHscJx5ae4/yUTeCEEHDyTsDpdDo465synIoKZ+zR7zghBJy1XR2cdruNs9pp4SQS0n8bSFWFM8U4TkoJZ3X2OE44tvQc56dsAieEgJN3Ak6n08FZ35ThVFQ4Y49+xwkh4Kzt6uC0222c1U4LJ5GQ/ttAqiqcKcZxUko4q7PHccKxpec4P2UTOCEEnLwTcDqdDs76pgynosIZe/Q7TggBZ21XB6fdbuOsdlo4iYT03wZSVeFMMY6TUsJZnT2OE44tPcf5KZvACSHg5J2A0+l0cNY3ZTgVFc7Yo99xQgg4a7s6OO12G2e108JJJKT/NpCqCmeKcZyUEs7q7HGccGzpOc5P2QROCAEn7wScTqeDs74pw6mocMYe/Y4TQsBZ29XBabfbOKudFk4iIf23gVRVOFOM46SUcFZnj+OEY0vPcX7KJnBCCDh5J+B0Oh2c9U0ZTkWFM/bod5wQAs7arg5Ou93GWe20cBIJ6b8NpKrCmWIcJ6WEszp7HCccW3qO81M2gRNCwMk7AafT6eCsb8pwKiqcsUe/44QQcNZ2dXDa7TbOaqeFk0hI/20gVRXOFOM4KSWc1dnjOOHY0nOcn7IJnBACTt4JOJ1OB2d9U4ZTUeGMPfodJ4SAs7arg9Nut3FWOy2cREL6bwOpqnCmGMdJKeGszh7HCceWnuP8lE3ghBBw8k7A6XQ6OOubMpyKCmfs0e84IQSctV0dnHa7jbPaaeEkEtJ/G0hVhTPFOE5KCWd19jhOOLb0HOenbAInhICTdwJOp9PBWd+U4VRUOGOPfscJIeCs7ergtNttnNVOCyeRkP7bQKoqnCnGcVJKOKuzx3HCsaXnOD9lEzghBJy8E3A6nQ7O+qYMp6LCGXv0O04IAWdtVwen3W7jrHZaOImE9N8GUlXhTDGOk1LCWZ09jhOOLT3H+SmbwAkh4OSdgNPpdHDWN2U4FRXO2KPfcUIIOGu7OjjtdhtntdPCSSSk/zaQqgpninGclBLO6uxxnHBs6TnOT9kETggBJ+8EnE6ng7O+KcOpqHDGHv2OE0LAWdvVwWm32zirnRZOIiH9t4FUVThTjOOklHBWZ4/jhGNLz3F+yiZwQgg4eSfgdDodnPVNGU5FhTP26HecEALO2q4OTrvdxlnttHASCem/DaSqwpliHCelhLM6exwnHFt6jvNTNoETQsDJOwGn0+ngrG/KcCoqnLFHv+OEEHDWdnVw2u02zmqnhZNISP9tIFUVzhTjOCklnNXZ4zjh2NJznJ+yCZwQAk7eCTidTgdnfVOGU1HhjD36HSeEgLO2q4PTbrdxVjstnERC+m8DqapwphjHSSnhrM4exwnHlp7j/JRN4IQQcPJOwOl0OjjrmzKcigpn7NHvOCEEnLVdHZx2u42z2mnhJBLSfxtIVYUzxThOSglndfY4Tji29Bznp2wCJ4SAk3cCTqfTwVnflOFUVDhjj37HCSHgrO3q4LTbbZzVTgsnkZD+20CqKpwpxnFSSjirs8dxwrGl5zg/ZRM4IQScvBNwOp0OzvqmDKeiwhl79DtOCAFnbVcHp91u46x2WjiJhPTfBlJV4UwxjpNSwlmdPY4Tji09x/kpm8AJIeDknYDT6XRw1jdlOBUVztij33FCCDhruzo47XYbZ7XTwkkkpP82kKoKZ4pxnJQSzurscZxw5ekznOu/PsT5a34eafd2nJOXLuFszRo4RVHgfH/6As6bx/dwRk/O4szNzeG8+qCJ0+v1cH68fBVpcRHnswtzODMzMzg3zp/DCVeePsO5/utDnL/m55F2b8c5eekSztasgVMUBc73py/gvHl8D2f05CzO3NwczqsPmji9Xg/nx8tXkRYXcT67MIczMzODc+P8OZxw5ekznOu/PsT5a34eafd2nJOXLuFszRo4RVHgfH/6As6bx/dwRk/O4szNzeG8+qCJ0+v1cH68fBVpcRHnswtzODMzMzg3zp/DCVeePsO5/utDnL/m55F2b8c5eekSztasgVMUBc73py/gvHl8D2f05CzO3NwczqsPmji9Xg/nx8tXkRYXcT67MIczMzODc+P8OZxw5ekznOu/PsT5a34eafd2nJOXLuFszRo4RVHgfH/6As6bx/dwRk/O4szNzeG8+qCJ0+v1cH68fBVpcRHnswtzODMzMzg3zp/DCVeePsO5/utDnL/m55F2b8c5eekSztasgVMUBc73py/gvHl8D2f05CzO3NwczqsPmji9Xg/nx8tXkRYXcT67MIczMzODc+P8OZxw5ekznOu/PsT5a34eafd2nJOXLuFszRo4RVHgfH/6As6bx/dwRk/O4szNzeG8+qCJ0+v1cH68fBVpcRHnswtzODMzMzg3zp/DCVeePsO5/utDnL/m55F2b8c5eekSztasgVMUBc73py/gvHl8D2f05CzO3NwczqsPmji9Xg/nx8tXkRYXcT67MIczMzODc+P8OZxw5ekznOu/PsT5a34eafd2nJOXLuFszRo4RVHgfH/6As6bx/dwRk/O4szNzeG8+qCJ0+v1cH68fBVpcRHnswtzODMzMzg3zp/DCVeePsO5/utDnL/m55F2b8c5eekSztasgVMUBc73py/gvHl8D2f05CzO3NwczqsPmji9Xg/nx8tXkRYXcT67MIczMzODc+P8OZxw5ekznOu/PsT5a34eafd2nJOXLuFszRo4RVHgfH/6As6bx/dwRk/O4szNzeG8+qCJ0+v1cH68fBVpcRHnswtzODMzMzg3zp/DCVeePsO5/utDnL/m55F2b8c5eekSztasgVMUBc73py/gvHl8D2f05CzO3NwczqsPmji9Xg/nx8tXkRYXcT67MIczMzODc+P8OZxw5ekznOu/PsT5a34eafd2nJOXLuFszRo4RVHgfH/6As6bx/dwRk/O4szNzeG8+qCJ0+v1cH68fBVpcRHnswtzODMzMzg3zp/DCVeePsO5/utDnL/m55F2b8c5eekSztasgVMUBc73py/gvHl8D2f05CzO3NwczqsPmji9Xg/nx8tXkRYXcT67MIczMzODc+P8OZxw5ekznOu/PsT5a34eafd2nJOXLuFszRo4RVHgfH/6As6bx/dwRk/O4szNzeG8+qCJ0+v1cH68fBVpcRHnswtzODMzMzg3zp/DCVeePsO5/utDnL/m55F2b8c5eekSztasgVMUBc73py/gvHl8D2f05CzO3NwczqsPmji9Xg/nx8tXkRYXcT67MIczMzODc+P8OZxw5ekznOu/PsT5a34eafd2nJOXLuFszRo4RVHgfH/6As6bx/dwRk/O4szNzeG8+qCJ0+v1cH68fBVpcRHnswtzODMzMzg3zp/DCVeePsO5/utDnL/m55F2b8c5eekSztasgVMUBc73py/gvHl8D2f05CzO3NwczqsPmji9Xg/nx8tXkRYXcT67MIczMzODc+P8OZxw5ekznOu/PsT5a34eafd2nJOXLuFszRo4RVHgfH/6As6bx/dwRk/O4szNzeG8+qCJ0+v1cH68fBVpcRHnswtzODMzMzg3zp/DCVeePsO5/utDnL/m55F2b8c5eekSztasgVMUBc73py/gvHl8D2f05CzO3NwczqsPmji9Xg/nx8tXkRYXcT67MIczMzODc+P8OZxw5ekznOu/PsT5a34eafd2nJOXLuFszRo4RVHgfH/6As6bx/dwRk/O4szNzeG8+qCJ0+v1cH68fBVpcRHnswtzODMzMzg3zp/DCVeePsO5/utDnL/m55F2b8c5eekSztasgVMUBc73py/gvHl8D2f05CzO3NwczqsPmji9Xg/nx8tXkRYXcT67MIczMzODc+P8OZxw6Oo1nPu3biKtryOtrSKdOoXz7bnzOJOTkzgX9x5B6j1D2r8H58TZszgrIxXO47t3ke79hjQYIO3+GOfzM2dwntyYxwmHrl7DuX/rJtL6OtLaKtKpUzjfnjuPMzk5iXNx7xGk3jOk/XtwTpw9i7MyUuE8vnsX6d5vSIMB0u6PcT4/cwbnyY15nHDo6jWc+7duIq2vI62tIp06hfPtufM4k5OTOBf3HkHqPUPavwfnxNmzOCsjFc7ju3eR7v2GNBgg7f4Y5/MzZ3Ce3JjHCYeuXsO5f+sm0vo60toq0qlTON+eO48zOTmJc3HvEaTeM6T9e3BOnD2LszJS4Ty+exfp3m9IgwHS7o9xPj9zBufJjXmccOjqNZz7t24ira8jra0inTqF8+258ziTk5M4F/ceQeo9Q9q/B+fE2bM4KyMVzuO7d5Hu/YY0GCDt/hjn8zNncJ7cmMcJh65ew7l/6ybS+jrS2irSqVM43547jzM5OYlzce8RpN4zpP17cE6cPYuzMlLhPL57F+neb0iDAdLuj3E+P3MG58mNeZxw6Oo1nPu3biKtryOtrSKdOoXz7bnzOJOTkzgX9x5B6j1D2r8H58TZszgrIxXO47t3ke79hjQYIO3+GOfzM2dwntyYxwmHrl7DuX/rJtL6OtLaKtKpUzjfnjuPMzk5iXNx7xGk3jOk/XtwTpw9i7MyUuE8vnsX6d5vSIMB0u6PcT4/cwbnyY15nHDo6jWc+7duIq2vI62tIp06hfPtufM4k5OTOBf3HkHqPUPavwfnxNmzOCsjFc7ju3eR7v2GNBgg7f4Y5/MzZ3Ce3JjHCYeuXsO5f+sm0vo60toq0qlTON+eO48zOTmJc3HvEaTeM6T9e3BOnD2LszJS4Ty+exfp3m9IgwHS7o9xPj9zBufJjXmccOjqNZz7t24ira8jra0inTqF8+258ziTk5M4F/ceQeo9Q9q/B+fE2bM4KyMVzuO7d5Hu/YY0GCDt/hjn8zNncJ7cmMcJh65ew7l/6ybS+jrS2irSqVM43547jzM5OYlzce8RpN4zpP17cE6cPYuzMlLhPL57F+neb0iDAdLuj3E+P3MG58mNeZxw6Oo1nPu3biKtryOtrSKdOoXz7bnzOJOTkzgX9x5B6j1D2r8H58TZszgrIxXO47t3ke79hjQYIO3+GOfzM2dwntyYxwmHrl7DuX/rJtL6OtLaKtKpUzjfnjuPMzk5iXNx7xGk3jOk/XtwTpw9i7MyUuE8vnsX6d5vSIMB0u6PcT4/cwbnyY15nHDo6jWc+7duIq2vI62tIp06hfPtufM4k5OTOBf3HkHqPUPavwfnxNmzOCsjFc7ju3eR7v2GNBgg7f4Y5/MzZ3Ce3JjHCYeuXsO5f+sm0vo60toq0qlTON+eO48zOTmJc3HvEaTeM6T9e3BOnD2LszJS4Ty+exfp3m9IgwHS7o9xPj9zBufJjXmccOjqNZz7t24ira8jra0inTqF8+258ziTk5M4F/ceQeo9Q9q/B+fE2bM4KyMVzuO7d5Hu/YY0GCDt/hjn8zNncJ7cmMcJh65ew7l/6ybS+jrS2irSqVM43547jzM5OYlzce8RpN4zpP17cE6cPYuzMlLhPL57F+neb0iDAdLuj3E+P3MG58mNeZxw6Oo1nPu3biKtryOtrSKdOoXz7bnzOJOTkzgX9x5B6j1D2r8H58TZszgrIxXO47t3ke79hjQYIO3+GOfzM2dwntyYxwmHrl7DuX/rJtL6OtLaKtKpUzjfnjuPMzk5iXNx7xGk3jOk/XtwTpw9i7MyUuE8vnsX6d5vSIMB0u6PcT4/cwbnyY15nHDo6jWc+7duIq2vI62tIp06hfPtufM4k5OTOBf3HkHqPUPavwfnxNmzOCsjFc7ju3eR7v2GNBgg7f4Y5/MzZ3Ce3JjHCYeuXsO5f+sm0vo60toq0qlTON+eO48zOTmJc3HvEaTeM6T9e3BOnD2LszJS4Ty+exfp3m9IgwHS7o9xPj9zBufJjXmc/wNWtjJBV59dTAAAAABJRU5ErkJggg=='></td><td style='text-align:center;'><img src='data:image/png;base64,iVBORw0KGgoAAAANSUhEUgAAAYwAAAGMCAIAAABGWwIdAAAgAElEQVR4AcTBz0ukBQPA8e/j84xOps40lj7SitBKtxLapd0gCsOCgtw2k6UOuhDRpYstsl1CsIj2VnTp0qGzENYtpAjCosY3VxBhE2oRVzSbfJam2fnxPDPvH/E9+PkEAV04Hdo4D2ClWAFWE2t+Cmly8lGcRx7OcA4ODnC290dxVlZ+x9k6RspjFfsGcOr1Ok6StrEinCCgC6dDG+cBrBQrwGpizU8hTU4+ivPIwxnOwcEBzvb+KM7Kyu84W8dIeaxi3wBOvV7HSdI2VoQTBHThdGjjPICVYgVYTaz5KaTJyUdxHnk4wzk4OMDZ3h/FWVn5HWfrGCmPVewbwKnX6zhJ2saKcIKALpwObZwHsFKsAKuJNT+FNDn5KM4jD2c4BwcHONv7ozgrK7/jbB0j5bGKfQM49XodJ0nbWBFOENCF06GN8wBWihVgNbHmp5AmJx/FeeThDOfg4ABne38UZ2Xld5ytY6Q8VrFvAKder+MkaRsrwgkCunA6tHEewEqxAqwm1vwU0uTkoziPPJzhHBwc4Gzvj+KsrPyOs3WMlMcq9g3g1Ot1nCRtY0U4QUAXToc2zgNYKVaA1cSan0KanHwU55GHM5yDgwOc7f1RnJWV33G2jpHyWMW+AZx6vY6TpG2sCCcI6MLp0MZ5ACvFCrCaWPNTSJOTj+I88nCGc3BwgLO9P4qzsvI7ztYxUh6r2DeAU6/XcZK0jRXhBAFdOB3aOA9gpVgBVhNrfgppcvJRnEceznAODg5wtvdHcVZWfsfZOkbKYxX7BnDq9TpOkraxIpwgoAunQxvnAawUK8BqYs1PIU1OPorzyMMZzsHBAc72/ijOysrvOFvHSHmsYt8ATr1ex0nSNlaEEwR04XRo4zyAlWIFWE2s+SmkyclHcR55OMM5ODjA2d4fxVlZ+R1n6xgpj1XsG8Cp1+s4SdrGinCCgC6cDm2cB7BSrACriTU/hTQ5+SjOIw9nOAcHBzjb+6M4Kyu/42wdI+Wxin0DOPV6HSdJ21gRThDQhdOhjfMAVooVYDWx5qeQJicfxXnk4Qzn4OAAZ3t/FGdl5XecrWOkPFaxbwCnXq/jJGkbK8IJArpwOrRxHsBKsQKsJtb8FNLk5KM4jzyc4RwcHOBs74/irKz8jrN1jJTHKvYN4NTrdZwkbWNFOEFAF06HNs4DWClWgNXEmp9Cmpx8FOeRhzOcg4MDnO39UZyVld9xto6R8ljFvgGcer2Ok6RtrAgnCOjC6dDGeQArxQqwmljzU0iTk4/iPPJwhnNwcICzvT+Ks7LyO87WMVIeq9g3gFOv13GStI0V4QQBXTgd2jgPYKVYAVYTa34KaXLyUZxHHs5wDg4OcLb3R3FWVn7H2TpGymMV+wZw6vU6TpK2sSKcIKALp0Mb5wGsFCvAamLNTyFNTj6K88jDGc7BwQHO9v4ozsrK7zhbx0h5rGLfAE69XsdJ0jZWhBMEdOF0aOM8gJViBVhNrPkppMnJR3EeeTjDOTg4wNneH8VZWfkdZ+sYKY9V7BvAqdfrOEnaxopwgoAunA5tnAewUqwAq4k1P4U0OfkoziMPZzgHBwc42/ujOCsrv+NsHSPlsYp9Azj1eh0nSdtYEU4Q0IXToY3zAFaKFWA1seankCYnH8V55OEM5+DgAGd7fxRnZeV3nK1jpDxWsW8Ap16v4yRpGyvCCQK6cDq0cR7ASrECrCbW/BTS5OSjOI88nOEcHBzgbO+P4qys/I6zdYyUxyr2DeDU63WcJG1jRThBSITToYMzQIZTug/p2fMXcOI4xrn8agNnfHwcJ9e+jdNXLOLczZ7EWV1dxfn2hwrO7u4uzs0/azghVoOI0xaERDgdOjgDZDil+5CePX8BJ45jnMuvNnDGx8dxcu3bOH3FIs7d7Emc1dVVnG9/qODs7u7i3PyzhhNiNYg4bUFIhNOhgzNAhlO6D+nZ8xdw4jjGufxqA2d8fBwn176N01cs4tzNnsRZXV3F+faHCs7u7i7OzT9rOCFWg4jTFoREOB06OANkOKX7kJ49fwEnjmOcy682cMbHx3Fy7ds4fcUizt3sSZzV1VWcb3+o4Ozu7uLc/LOGE2I1iDhtQUiE06GDM0CGU7oP6dnzF3DiOMa5/GoDZ3x8HCfXvo3TVyzi3M2exFldXcX59ocKzu7uLs7NP2s4IVaDiNMWhEQ4HTo4A2Q4pfuQnj1/ASeOY5zLrzZwxsfHcXLt2zh9xSLO3exJnNXVVZxvf6jg7O7u4tz8s4YTYjWIOG1BSITToYMzQIZTug/p2fMXcOI4xrn8agNnfHwcJ9e+jdNXLOLczZ7EWV1dxfn2hwrO7u4uzs0/azghVoOI0xaERDgdOjgDZDil+5CePX8BJ45jnMuvNnDGx8dxcu3bOH3FIs7d7Emc1dVVnG9/qODs7u7i3PyzhhNiNYg4bUFIhNOhgzNAhlO6D+nZ8xdw4jjGufxqA2d8fBwn176N01cs4tzNnsRZXV3F+faHCs7u7i7OzT9rOCFWg4jTFoREOB06OANkOKX7kJ49fwEnjmOcy682cMbHx3Fy7ds4fcUizt3sSZzV1VWcb3+o4Ozu7uLc/LOGE2I1iDhtQUiE06GDM0CGU7oP6dnzF3DiOMa5/GoDZ3x8HCfXvo3TVyzi3M2exFldXcX59ocKzu7uLs7NP2s4IVaDiNMWhEQ4HTo4A2Q4pfuQnj1/ASeOY5zLrzZwxsfHcXLt2zh9xSLO3exJnNXVVZxvf6jg7O7u4tz8s4YTYjWIOG1BSITToYMzQIZTug/p2fMXcOI4xrn8agNnfHwcJ9e+jdNXLOLczZ7EWV1dxfn2hwrO7u4uzs0/azghVoOI0xaERDgdOjgDZDil+5CePX8BJ45jnMuvNnDGx8dxcu3bOH3FIs7d7Emc1dVVnG9/qODs7u7i3PyzhhNiNYg4bUFIhNOhgzNAhlO6D+nZ8xdw4jjGufxqA2d8fBwn176N01cs4tzNnsRZXV3F+faHCs7u7i7OzT9rOCFWg4jTFoREOB06OANkOKX7kJ49fwEnjmOcy682cMbHx3Fy7ds4fcUizt3sSZzV1VWcb3+o4Ozu7uLc/LOGE2I1iDhtQUiE06GDM0CGU7oP6dnzF3DiOMa5/GoDZ3x8HCfXvo3TVyzi3M2exFldXcX59ocKzu7uLs7NP2s4IVaDiNMWhEQ4HTo4A2Q4pfuQnj1/ASeOY5zLrzZwxsfHcXLt2zh9xSLO3exJnNXVVZxvf6jg7O7u4tz8s4YTYjWIOG1BSITToYMzQIZTug/p2fMXcOI4xrn8agNnfHwcJ9e+jdNXLOLczZ7EWV1dxfn2hwrO7u4uzs0/azghVoOI0xaERDgdOjgDZDil+5CePX8BJ45jnMuvNnDGx8dxcu3bOH3FIs7d7Emc1dVVnG9/qODs7u7i3PyzhhNiNYg4bUFIhNOhgzNAhlO6D+nZ8xdw4jjGufxqA2d8fBwn176N01cs4tzNnsRZXV3F+faHCs7u7i7OzT9rOCFWg4jTFoREOB06OANkOKX7kJ49fwEnjmOcy682cMbHx3Fy7ds4fcUizt3sSZzV1VWcb3+o4Ozu7uLc/LOGE2I1iDhtQQErxRrBuvTiGM7166/gDA4O4nTt7+Bk1SpOO9eDk+vuxql1jnF6SyWceulxnHK5jHPl7a9x/v4PqcXpCwpYKdYI1qUXx3CuX38FZ3BwEKdrfwcnq1Zx2rkenFx3N06tc4zTWyrh1EuP45TLZZwrb3+N8/d/SC1OX1DASrFGsC69OIZz/forOIODgzhd+zs4WbWK08714OS6u3FqnWOc3lIJp156HKdcLuNceftrnL//Q2px+oICVoo1gnXpxTGc69dfwRkcHMTp2t/ByapVnHauByfX3Y1T6xzj9JZKOPXS4zjlchnnyttf4/z9H1KL0xcUsFKsEaxLL47hXL/+Cs7g4CBO1/4OTlat4rRzPTi57m6cWucYp7dUwqmXHscpl8s4V97+Gufv/5BanL6ggJVijWBdenEM5/r1V3AGBwdxuvZ3cLJqFaed68HJdXfj1DrHOL2lEk699DhOuVzGufL21zh//4fU4vQFBawUawTr0otjONevv4IzODiI07W/g5NVqzjtXA9Orrsbp9Y5xuktlXDqpcdxyuUyzpW3v8b5+z+kFqcvKGClWCNYl14cw7l+/RWcwcFBnK79HZysWsVp53pwct3dOLXOMU5vqYRTLz2OUy6Xca68/TXO3/8htTh9QQErxRrBuvTiGM7166/gDA4O4nTt7+Bk1SpOO9eDk+vuxql1jnF6SyWceulxnHK5jHPl7a9x/v4PqcXpCwpYKdYI1qUXx3CuX38FZ3BwEKdrfwcnq1Zx2rkenFx3N06tc4zTWyrh1EuP45TLZZwrb3+N8/d/SC1OX1DASrFGsC69OIZz/forOIODgzhd+zs4WbWK08714OS6u3FqnWOc3lIJp156HKdcLuNceftrnL//Q2px+oICVoo1gnXpxTGc69dfwRkcHMTp2t/ByapVnHauByfX3Y1T6xzj9JZKOPXS4zjlchnnyttf4/z9H1KL0xcUsFKsEaxLL47hXL/+Cs7g4CBO1/4OTlat4rRzPTi57m6cWucYp7dUwqmXHscpl8s4V97+Gufv/5BanL6ggJVijWBdenEM5/r1V3AGBwdxuvZ3cLJqFaed68HJdXfj1DrHOL2lEk699DhOuVzGufL21zh//4fU4vQFBawUawTr0otjONevv4IzODiI07W/g5NVqzjtXA9Orrsbp9Y5xuktlXDqpcdxyuUyzpW3v8b5+z+kFqcvKGClWCNYl14cw7l+/RWcwcFBnK79HZysWsVp53pwct3dOLXOMU5vqYRTLz2OUy6Xca68/TXO3/8htTh9QQErxRrBuvTiGM7166/gDA4O4nTt7+Bk1SpOO9eDk+vuxql1jnF6SyWceulxnHK5jHPl7a9x/v4PqcXpCwpYKdYI1qUXx3CuX38FZ3BwEKdrfwcnq1Zx2rkenFx3N06tc4zTWyrh1EuP45TLZZwrb3+N8/d/SC1OX1DASrFGsC69OIZz/forOIODgzhd+zs4WbWK08714OS6u3FqnWOc3lIJp156HKdcLuNceftrnL//Q2px+oICVoo1gnXpxTGc69dfwRkcHMTp2t/ByapVnHauByfX3Y1T6xzj9JZKOPXS4zjlchnnyttf4/z9H1KL0xcUsFKsEaxLL47hXL/+Cs7g4CBO1/4OTlat4rRzPTi57m6cWucYp7dUwqmXHscpl8s4V97+Gufv/5BanL6ggJVijWBdenEM5/r1V3AGBwdxuvZ3cLJqFaed68HJdXfj1DrHOL2lEk699DhOuVzGufL21zh//4fU4vQFeawc1psvnMFZWFjAKRQOcWq1Gs7IvSNOXZhDCkOcWnqI0+l0cO70nMXp7e3F+WlnAGdxcRlnL0GKogAnyGPlsN584QzOwsICTqFwiFOr1XBG7h1x6sIcUhji1NJDnE6ng3On5yxOb28vzk87AziLi8s4ewlSFAU4QR4rh/XmC2dwFhYWcAqFQ5xarYYzcu+IUxfmkMIQp5Ye4nQ6HZw7PWdxent7cX7aGcBZXFzG2UuQoijACfJYOaw3XziDs7CwgFMoHOLUajWckXtHnLowhxSGOLX0EKfT6eDc6TmL09vbi/PTzgDO4uIyzl6CFEUBTpDHymG9+cIZnIWFBZxC4RCnVqvhjNw74tSFOaQwxKmlhzidTgfnTs9ZnN7eXpyfdgZwFheXcfYSpCgKcII8Vg7rzRfO4CwsLOAUCoc4tVoNZ+TeEacuzCGFIU4tPcTpdDo4d3rO4vT29uL8tDOAs7i4jLOXIEVRgBPksXJYb75wBmdhYQGnUDjEqdVqOCP3jjh1YQ4pDHFq6SFOp9PBudNzFqe3txfnp50BnMXFZZy9BCmKApwgj5XDevOFMzgLCws4hcIhTq1Wwxm5d8SpC3NIYYhTSw9xOp0Ozp2eszi9vb04P+0M4CwuLuPsJUhRFOAEeawc1psvnMFZWFjAKRQOcWq1Gs7IvSNOXZhDCkOcWnqI0+l0cO70nMXp7e3F+WlnAGdxcRlnL0GKogAnyGPlsN584QzOwsICTqFwiFOr1XBG7h1x6sIcUhji1NJDnE6ng3On5yxOb28vzk87AziLi8s4ewlSFAU4QR4rh/XmC2dwFhYWcAqFQ5xarYYzcu+IUxfmkMIQp5Ye4nQ6HZw7PWdxent7cX7aGcBZXFzG2UuQoijACfJYOaw3XziDs7CwgFMoHOLUajWckXtHnLowhxSGOLX0EKfT6eDc6TmL09vbi/PTzgDO4uIyzl6CFEUBTpDHymG9+cIZnIWFBZxC4RCnVqvhjNw74tSFOaQwxKmlhzidTgfnTs9ZnN7eXpyfdgZwFheXcfYSpCgKcII8Vg7rzRfO4CwsLOAUCoc4tVoNZ+TeEacuzCGFIU4tPcTpdDo4d3rO4vT29uL8tDOAs7i4jLOXIEVRgBPksXJYb75wBmdhYQGnUDjEqdVqOCP3jjh1YQ4pDHFq6SFOp9PBudNzFqe3txfnp50BnMXFZZy9BCmKApwgj5XDevOFMzgLCws4hcIhTq1Wwxm5d8SpC3NIYYhTSw9xOp0Ozp2eszi9vb04P+0M4CwuLuPsJUhRFOAEeawc1psvnMFZWFjAKRQOcWq1Gs7IvSNOXZhDCkOcWnqI0+l0cO70nMXp7e3F+WlnAGdxcRlnL0GKogAnyGPlsN584QzOwsICTqFwiFOr1XBG7h1x6sIcUhji1NJDnE6ng3On5yxOb28vzk87AziLi8s4ewlSFAU4QR4rh/XmC2dwFhYWcAqFQ5xarYYzcu+IUxfmkMIQp5Ye4nQ6HZw7PWdxent7cX7aGcBZXFzG2UuQoijACfJYOaw3XziDs7CwgFMoHOLUajWckXtHnLowhxSGOLX0EKfT6eDc6TmL09vbi/PTzgDO4uIyzl6CFEUBTpDHymG9+cIZnIWFBZxC4RCnVqvhjNw74tSFOaQwxKmlhzidTgfnTs9ZnN7eXpyfdgZwFheXcfYSpCgKcII8Vg7rzRfO4CwsLOAUCoc4tVoNZ+TeEacuzCGFIU4tPcTpdDo4d3rO4vT29uL8tDOAs7i4jLOXIEVRgBOUsK7OX8R5a/4pTltXcgEnjmOc+9spTrPZxOnJf4eTJAlOIxvBSdMU6cGLOKVSCafSHsRZW1vD+eDDJZy//rmLE5Swrs5fxHlr/ilOW1dyASeOY5z72ylOs9nE6cl/h5MkCU4jG8FJ0xTpwYs4pVIJp9IexFlbW8P54MMlnL/+uYsTlLCuzl/EeWv+KU5bV3IBJ45jnPvbKU6z2cTpyX+HkyQJTiMbwUnTFOnBizilUgmn0h7EWVtbw/ngwyWcv/65ixOUsK7OX8R5a/4pTltXcgEnjmOc+9spTrPZxOnJf4eTJAlOIxvBSdMU6cGLOKVSCafSHsRZW1vD+eDDJZy//rmLE5Swrs5fxHlr/ilOW1dyASeOY5z72ylOs9nE6cl/h5MkCU4jG8FJ0xTpwYs4pVIJp9IexFlbW8P54MMlnL/+uYsTlLCuzl/EeWv+KU5bV3IBJ45jnPvbKU6z2cTpyX+HkyQJTiMbwUnTFOnBizilUgmn0h7EWVtbw/ngwyWcv/65ixOUsK7OX8R5a/4pTltXcgEnjmOc+9spTrPZxOnJf4eTJAlOIxvBSdMU6cGLOKVSCafSHsRZW1vD+eDDJZy//rmLE5Swrs5fxHlr/ilOW1dyASeOY5z72ylOs9nE6cl/h5MkCU4jG8FJ0xTpwYs4pVIJp9IexFlbW8P54MMlnL/+uYsTlLCuzl/EeWv+KU5bV3IBJ45jnPvbKU6z2cTpyX+HkyQJTiMbwUnTFOnBizilUgmn0h7EWVtbw/ngwyWcv/65ixOUsK7OX8R5a/4pTltXcgEnjmOc+9spTrPZxOnJf4eTJAlOIxvBSdMU6cGLOKVSCafSHsRZW1vD+eDDJZy//rmLE5Swrs5fxHlr/ilOW1dyASeOY5z72ylOs9nE6cl/h5MkCU4jG8FJ0xTpwYs4pVIJp9IexFlbW8P54MMlnL/+uYsTlLCuzl/EeWv+KU5bV3IBJ45jnPvbKU6z2cTpyX+HkyQJTiMbwUnTFOnBizilUgmn0h7EWVtbw/ngwyWcv/65ixOUsK7OX8R5a/4pTltXcgEnjmOc+9spTrPZxOnJf4eTJAlOIxvBSdMU6cGLOKVSCafSHsRZW1vD+eDDJZy//rmLE5Swrs5fxHlr/ilOW1dyASeOY5z72ylOs9nE6cl/h5MkCU4jG8FJ0xTpwYs4pVIJp9IexFlbW8P54MMlnL/+uYsTlLCuzl/EeWv+KU5bV3IBJ45jnPvbKU6z2cTpyX+HkyQJTiMbwUnTFOnBizilUgmn0h7EWVtbw/ngwyWcv/65ixOUsK7OX8R5a/4pTltXcgEnjmOc+9spTrPZxOnJf4eTJAlOIxvBSdMU6cGLOKVSCafSHsRZW1vD+eDDJZy//rmLE5Swrs5fxHlr/ilOW1dyASeOY5z72ylOs9nE6cl/h5MkCU4jG8FJ0xTpwYs4pVIJp9IexFlbW8P54MMlnL/+uYsTlLCuzl/EeWv+KU5bV3IBJ45jnPvbKU6z2cTpyX+HkyQJTiMbwUnTFOnBizilUgmn0h7EWVtbw/ngwyWcv/65ixOUsK7OX8R5a/4pTltXcgEnjmOc+9spTrPZxOnJf4eTJAlOIxvBSdMU6cGLOKVSCafSHsRZW1vD+eDDJZy//rmLE5Swrs5fxHlr/ilOW1dyASeOY5z72ylOs9nE6cl/h5MkCU4jG8FJ0xTpwYs4pVIJp9IexFlbW8P54MMlnL/+uYsTlLCuzl/EeWv+KU5bV3IBJ45jnPvbKU6z2cTpyX+HkyQJTiMbwUnTFOnBizilUgmn0h7EWVtbw/ngwyWcv/65ixOUsK7OX8R5a/4pTltXcgEnjmOc+9spTrPZxOnJf4eTJAlOIxvBSdMU6cGLOKVSCafSHsRZW1vD+eDDJZy//rmLEwyFSMvLczivzzyGc3R0hFPIpnCG4hgp341UryM1vsK5lyQ4teYQTrFYxGkVzuFEUYSTDZzFSdMUZ/rSSzjfl3/DCYZCpOXlOZzXZx7DOTo6wilkUzhDcYyU70aq15EaX+HcSxKcWnMIp1gs4rQK53CiKMLJBs7ipGmKM33pJZzvy7/hBEMh0vLyHM7rM4/hHB0d4RSyKZyhOEbKdyPV60iNr3DuJQlOrTmEUywWcVqFczhRFOFkA2dx0jTFmb70Es735d9wgqEQaXl5Duf1mcdwjo6OcArZFM5QHCPlu5HqdaTGVzj3kgSn1hzCKRaLOK3COZwoinCygbM4aZriTF96Cef78m84wVCItLw8h/P6zGM4R0dHOIVsCmcojpHy3Uj1OlLjK5x7SYJTaw7hFItFnFbhHE4URTjZwFmcNE1xpi+9hPN9+TecYChEWl6ew3l95jGco6MjnEI2hTMUx0j5bqR6HanxFc69JMGpNYdwisUiTqtwDieKIpxs4CxOmqY405dewvm+/BtOMBQiLS/P4bw+8xjO0dERTiGbwhmKY6R8N1K9jtT4CudekuDUmkM4xWIRp1U4hxNFEU42cBYnTVOc6Usv4Xxf/g0nGAqRlpfncF6feQzn6OgIp5BN4QzFMVK+G6leR2p8hXMvSXBqzSGcYrGI0yqcw4miCCcbOIuTpinO9KWXcL4v/4YTDIVIy8tzOK/PPIZzdHSEU8imcIbiGCnfjVSvIzW+wrmXJDi15hBOsVjEaRXO4URRhJMNnMVJ0xRn+tJLON+Xf8MJhkKk5eU5nNdnHsM5OjrCKWRTOENxjJTvRqrXkRpf4dxLEpxacwinWCzitArncKIowskGzuKkaYozfeklnO/Lv+EEQyHS8vIczuszj+EcHR3hFLIpnKE4Rsp3I9XrSI2vcO4lCU6tOYRTLBZxWoVzOFEU4WQDZ3HSNMWZvvQSzvfl33CCoRBpeXkO5/WZx3COjo5wCtkUzlAcI+W7kep1pMZXOPeSBKfWHMIpFos4rcI5nCiKcLKBszhpmuJMX3oJ5/vybzjBUIi0vDyH8/rMYzhHR0c4hWwKZyiOkfLdSPU6UuMrnHtJglNrDuEUi0WcVuEcThRFONnAWZw0TXGmL72E8335N5xgKERaXp7DeX3mMZyjoyOcQjaFMxTHSPlupHodqfEVzr0kwak1h3CKxSJOq3AOJ4oinGzgLE6apjjTl17C+b78G04wFCItL8/hvD7zGM7R0RFOIZvCGYpjpHw3Ur2O1PgK516S4NSaQzjFYhGnVTiHE0URTjZwFidNU5zpSy/hfF/+DScYCpGWl+dwXp95DOfo6AinkE3hDMUxUr4bqV5HanyFcy9JcGrNIZxisYjTKpzDiaIIJxs4i5OmKc70pZdwvi//hhMMhUjLy3M4r888hnN0dIRTyKZwhuIYKd+NVK8jNb7CuZckOLXmEE6xWMRpFc7hRFGEkw2cxUnTFGf60ks435d/wwmGQqTl5Tmc12cewzk6OsIpZFM4Q3GMlO9GqteRGl/h3EsSnFpzCKdYLOK0CudwoijCyQbO4qRpijN96SWc78u/4QRDIdLy8hzO6zOP4RwdHeEUsimcoThGyncj1etIja9w7iUJTq05hFMsFnFahXM4URThZANncdI0xZm+9BLO9+XfcIKhEGl5eQ7n9ZnHcI6OjnAK2RTOUBwj5buR6nWkxlc495IEp9YcwikWizitwjmcKIpwsoGzOGma4kxfegnn+/JvOMFQiLS8PIfz+sxjOEdHRziFbApnKI6R8t1I9TpS4yuce0mCU2sO4RSLRZxW4RxOFEU42cBZnDRNcaYvvYTzffk3nGAoRFpensN5feYxnKOjI5xCNoUzFMdI+W6keh2p8RXOvaqK0nIAACAASURBVCTBqTWHcIrFIk6rcA4niiKcbOAsTpqmONOXXsL5vvwbTjCOtbT0PM5rM1M4lUoFJ33oBk6hgPTLj0hJgnR+ZAWnv78fp9L4FWdsbAxnv/4GThAEODc3Ipy9vWOcL7+YxLl1eAsnGMdaWnoe57WZKZxKpYKTPnQDp1BA+uVHpCRBOj+ygtPf349TafyKMzY2hrNffwMnCAKcmxsRzt7eMc6XX0zi3Dq8hROMYy0tPY/z2swUTqVSwUkfuoFTKCD98iNSkiCdH1nB6e/vx6k0fsUZGxvD2a+/gRMEAc7NjQhnb+8Y58svJnFuHd7CCcaxlpaex3ltZgqnUqngpA/dwCkUkH75ESlJkM6PrOD09/fjVBq/4oyNjeHs19/ACYIA5+ZGhLO3d4zz5ReTOLcOb+EE41hLS8/jvDYzhVOpVHDSh27gFApIv/yIlCRI50dWcPr7+3EqjV9xxsbGcPbrb+AEQYBzcyPC2ds7xvnyi0mcW4e3cIJxrKWl53Fem5nCqVQqOOlDN3AKBaRffkRKEqTzIys4/f39OJXGrzhjY2M4+/U3cIIgwLm5EeHs7R3jfPnFJM6tw1s4wTjW0tLzOK/NTOFUKhWc9KEbOIUC0i8/IiUJ0vmRFZz+/n6cSuNXnLGxMZz9+hs4QRDg3NyIcPb2jnG+/GIS59bhLZxgHGtp6Xmc12amcCqVCk760A2cQgHplx+RkgTp/MgKTn9/P06l8SvO2NgYzn79DZwgCHBubkQ4e3vHOF9+MYlz6/AWTjCOtbT0PM5rM1M4lUoFJ33oBk6hgPTLj0hJgnR+ZAWnv78fp9L4FWdsbAxnv/4GThAEODc3Ipy9vWOcL7+YxLl1eAsnGMdaWnoe57WZKZxKpYKTPnQDp1BA+uVHpCRBOj+ygtPf349TafyKMzY2hrNffwMnCAKcmxsRzt7eMc6XX0zi3Dq8hROMYy0tPY/z2swUTqVSwUkfuoFTKCD98iNSkiCdH1nB6e/vx6k0fsUZGxvD2a+/gRMEAc7NjQhnb+8Y58svJnFuHd7CCcaxlpaex3ltZgqnUqngpA/dwCkUkH75ESlJkM6PrOD09/fjVBq/4oyNjeHs19/ACYIA5+ZGhLO3d4zz5ReTOLcOb+EE41hLS8/jvDYzhVOpVHDSh27gFApIv/yIlCRI50dWcPr7+3EqjV9xxsbGcPbrb+AEQYBzcyPC2ds7xvnyi0mcW4e3cIJxrKWl53Fem5nCqVQqOOlDN3AKBaRffkRKEqTzIys4/f39OJXGrzhjY2M4+/U3cIIgwLm5EeHs7R3jfPnFJM6tw1s4wTjW0tLzOK/NTOFUKhWc9KEbOIUC0i8/IiUJ0vmRFZz+/n6cSuNXnLGxMZz9+hs4QRDg3NyIcPb2jnG+/GIS59bhLZxgHGtp6Xmc12amcCqVCk760A2cQgHplx+RkgTp/MgKTn9/P06l8SvO2NgYzn79DZwgCHBubkQ4e3vHOF9+MYlz6/AWTjCOtbT0PM5rM1M4lUoFJ33oBk6hgPTLj0hJgnR+ZAWnv78fp9L4FWdsbAxnv/4GThAEODc3Ipy9vWOcL7+YxLl1eAsnGMdaWnoe57WZKZxKpYKTPnQDp1BA+uVHpCRBOj+ygtPf349TafyKMzY2hrNffwMnCAKcmxsRzt7eMc6XX0zi3Dq8hROMYy0tPY/z2swUTqVSwUkfuoFTKCD98iNSkiCdH1nB6e/vx6k0fsUZGxvD2a+/gRMEAc7NjQhnb+8Y58svJnFuHd7CCcaxlpaex3ltZgqnUqngpA/dwCkUkH75ESlJkM6PrOD09/fjVBq/4oyNjeHs19/ACYIA5+ZGhLO3d4zz5ReTOLcOb+EE41hLS8/jvDYzhVOpVHDSh27gFApIv/yIlCRI50dWcPr7+3EqjV9xxsbGcPbrb+AEQYBzcyPC2ds7xvnyi0mcW4e3cIJxrKWl53Fem5nCqVQqOOlDN3AKBaRffkRKEqTzIys4/f39OJXGrzhjY2M4+/U3cIIgwLm5EeHs7R3jfPnFJM6tw1s4wdMx0rVrl3Gem3wCp1qt4oRnPsYJQ6R339nD2drawpk+9znO3NwcTli4jTM8PIxTzV/F2d7+A2dx4RucVquF8+/JZzgntROc4OkY6dq1yzjPTT6BU61WccIzH+OEIdK77+zhbG1t4Uyf+xxnbm4OJyzcxhkeHsap5q/ibG//gbO48A1Oq9XC+ffkM5yT2glO8HSMdO3aZZznJp/AqVarOOGZj3HCEOndd/Zwtra2cKbPfY4zNzeHExZu4wwPD+NU81dxtrf/wFlc+Aan1Wrh/HvyGc5J7QQneDpGunbtMs5zk0/gVKtVnPDMxzhhiPTuO3s4W1tbONPnPseZm5vDCQu3cYaHh3Gq+as429t/4CwufIPTarVw/j35DOekdoITPB0jXbt2Gee5ySdwqtUqTnjmY5wwRHr3nT2cra0tnOlzn+PMzc3hhIXbOMPDwzjV/FWc7e0/cBYXvsFptVo4/558hnNSO8EJno6Rrl27jPPc5BM41WoVJzzzMU4YIr37zh7O1tYWzvS5z3Hm5uZwwsJtnOHhYZxq/irO9vYfOIsL3+C0Wi2cf08+wzmpneAET8dI165dxnlu8gmcarWKE575GCcMkd59Zw9na2sLZ/rc5zhzc3M4YeE2zvDwME41fxVne/sPnMWFb3BarRbOvyef4ZzUTnCCp2Oka9cu4zw3+QROtVrFCc98jBOGSO++s4eztbWFM33uc5y5uTmcsHAbZ3h4GKeav4qzvf0HzuLCNzitVgvn35PPcE5qJzjB0zHStWuXcZ6bfAKnWq3ihGc+xglDpHff2cPZ2trCmT73Oc7c3BxOWLiNMzw8jFPNX8XZ3v4DZ3HhG5xWq4Xz78lnOCe1E5zg6Rjp2rXLOM9NPoFTrVZxwjMf44Qh0rvv7OFsbW3hTJ/7HGdubg4nLNzGGR4exqnmr+Jsb/+Bs7jwDU6r1cL59+QznJPaCU7wdIx07dplnOcmn8CpVqs44ZmPccIQ6d139nC2trZwps99jjM3N4cTFm7jDA8P41TzV3G2t//AWVz4BqfVauH8e/IZzkntBCd4Oka6du0yznOTT+BUq1Wc8MzHOGGI9O47ezhbW1s40+c+x5mbm8MJC7dxhoeHcar5qzjb23/gLC58g9NqtXD+PfkM56R2ghM8HSNdu3YZ57nJJ3Cq1SpOeOZjnDBEevedPZytrS2c6XOf48zNzeGEhds4w8PDONX8VZzt7T9wFhe+wWm1Wjj/nnyGc1I7wQmejpGuXbuM89zkEzjVahUnPPMxThgivfvOHs7W1hbO9LnPcebm5nDCwm2c4eFhnGr+Ks729h84iwvf4LRaLZx/Tz7DOamd4ARPx0jXrl3GeW7yCZxqtYoTnvkYJwyR3n1nD2drawtn+tznOHNzczhh4TbO8PAwTjV/FWd7+w+cxYVvcFqtFs6/J5/hnNROcIKnY6Rr1y7jPDf5BE61WsUJz3yME4ZI776zh7O1tYUzfe5znLm5OZywcBtneHgYp5q/irO9/QfO4sI3OK1WC+ffk89wTmonOMHTMdK1a5dxnpt8AqdareKEZz7GCUOkd9/Zw9na2sKZPvc5ztzcHE5YuI0zPDyMU81fxdne/gNnceEbnFarhfPvyWc4J7UTnODpGOnatcs4z00+gVOtVnHCMx/jhCHSu+/s4WxtbeFMn/scZ25uDics3MYZHh7Gqeav4mxv/4GzuPANTqvVwvn35DOck9oJTvB0jHTt2mWc5yafwKlWqzjhmY9xwhDp3Xf2cLa2tnCmz32OMzc3hxMWbuMMDw/jVPNXcba3/8BZXPgGp9Vq4fx78hnOSe0EJ3g6Rrp27TLOc5NP4FSrVZzwzMc4YYj07jt7OFtbWzjT5z7HmZubwwkLt3GGh4dxqvmrONvbf+AsLnyD02q1cP49+QznpHaCEzwdI127dhnnuckncKrVKk545mOcMER69509nK2tLZzpc5/jzM3N4YSF2zjDw8M41fxVnO3tP3AWF77BabVaOP+efIZzUjvBCZ6Oka5du4zz3OQTONVqFSc88zFOGCK9+84eztbWFs70uc9x5ubmcMLCbZzh4WGcav4qzvb2HziLC9/gtFotnH9PPsM5qZ3gBOVPJ3AmJiZwWkEfTpZlON2jMzi5XA7nxvt3cNbX13Gmn/kfzuzsLE53YQcniiKc3Oh7OJubmziffPQzTpZlOFMv13E2NjZwgvKnEzgTExM4raAPJ8synO7RGZxcLodz4/07OOvr6zjTz/wPZ3Z2Fqe7sIMTRRFObvQ9nM3NTZxPPvoZJ8synKmX6zgbGxs4QfnTCZyJiQmcVtCHk2UZTvfoDE4ul8O58f4dnPX1dZzpZ/6HMzs7i9Nd2MGJoggnN/oezubmJs4nH/2Mk2UZztTLdZyNjQ2coPzpBM7ExAROK+jDybIMp3t0BieXy+HceP8Ozvr6Os70M//DmZ2dxeku7OBEUYSTG30PZ3NzE+eTj37GybIMZ+rlOs7GxgZOUP50AmdiYgKnFfThZFmG0z06g5PL5XBuvH8HZ319HWf6mf/hzM7O4nQXdnCiKMLJjb6Hs7m5ifPJRz/jZFmGM/VyHWdjYwMnKH86gTMxMYHTCvpwsizD6R6dwcnlcjg33r+Ds76+jjP9zP9wZmdncboLOzhRFOHkRt/D2dzcxPnko59xsizDmXq5jrOxsYETlD+dwJmYmMBpBX04WZbhdI/O4ORyOZwb79/BWV9fx5l+5n84s7OzON2FHZwoinByo+/hbG5u4nzy0c84WZbhTL1cx9nY2MAJyp9O4ExMTOC0gj6cLMtwukdncHK5HM6N9+/grK+v40w/8z+c2dlZnO7CDk4URTi50fdwNjc3cT756GecLMtwpl6u42xsbOAE5U8ncCYmJnBaQR9OlmU43aMzOLlcDufG+3dw1tfXcaaf+R/O7OwsTndhByeKIpzc6Hs4m5ubOJ989DNOlmU4Uy/XcTY2NnCC8qcTOBMTEzitoA8nyzKc7tEZnFwuh3Pj/Ts46+vrONPP/A9ndnYWp7uwgxNFEU5u9D2czc1NnE8++hknyzKcqZfrOBsbGzhB+dMJnImJCZxW0IeTZRlO9+gMTi6Xw7nx/h2c9fV1nOln/oczOzuL013YwYmiCCc3+h7O5uYmzicf/YyTZRnO1Mt1nI2NDZyg/OkEzsTEBE4r6MPJsgyne3QGJ5fL4dx4/w7O+vo6zvQz/8OZnZ3F6S7s4ERRhJMbfQ9nc3MT55OPfsbJsgxn6uU6zsbGBk5Q/nQCZ2JiAqcV9OFkWYbTPTqDk8vlcG68fwdnfX0dZ/qZ/+HMzs7idBd2cKIowsmNvoezubmJ88lHP+NkWYYz9XIdZ2NjAycofzqBMzExgdMK+nCyLMPpHp3ByeVyODfev4Ozvr6OM/3M/3BmZ2dxugs7OFEU4eRG38PZ3NzE+eSjn3GyLMOZermOs7GxgROUP53AmZiYwGkFfThZluF0j87g5HI5nBvv38FZX1/HmX7mfzizs7M43YUdnCiKcHKj7+Fsbm7ifPLRzzhZluFMvVzH2djYwAnKn07gTExM4LSCPpwsy3C6R2dwcrkczo337+Csr6/jTD/zP5zZ2Vmc7sIOThRFOLnR93A2NzdxPvnoZ5wsy3CmXq7jbGxs4ATlTydwJiYmcFpBH06WZTjdozM4uVwO58b7d3DW19dxpp/5H87s7CxOd2EHJ4oinNzoezibm5s4n3z0M06WZThTL9dxNjY2cILypxM4ExMTOK2gDyfLMpzu0RmcXC6Hc+P9Ozjr6+s408/8D2d2dhanu7CDE0URTm70PZzNzU2cTz76GSfLMpypl+s4GxsbOEH50wmciYkJnFbQh5NlGU736AxOLpfDufH+HZz19XWc6Wf+hzM7O4vTXdjBiaIIJzf6Hs7m5ibOJx/9jJNlGc7Uy3WcjY0NnKD86QTOxMQETivow8myDKd7dAYnl8vh3Hj/Ds76+jrO9DP/w5mdncXpLuzgRFGEkxt9D2dzcxPnk49+xsmyDGfq5TrOxsYGTlD+dAJnYmICpxX04WRZhvN/4uDnNa4CYPT+95yZk/mRcc5EcBgXmUJSRLK5SBaCoIZyEancS/X6gC5cuRBdiIuKd3M3Ihfc+YaCZ0RIwBITtYhZSEQ3Sh+6eJUnjfRFdFHrj7TVdJrOdH51zjl9/4jvYj6fucX/hRNFEc77/+dvnP/8z//E+Z9P/YTzH//xHzhz8f+HUywWcaLF/43zX//1Xzgf/N9LOFmW4fz3/zHG+fHHH3GC//f/+W84/+2//TecaVDDybIMZ27xf+FEUYTz/v/5G+c///M/cf7nUz/h/Md//AfOXPz/4RSLRZxo8X/j/Nd//RfOB//3Ek6WZTj//X+McX788Uec4PjrF3HiOMa5MwpxoijC6VfXcJrNJs5fvzyNc/Xq7zit8oc4y8vLOCMu4UwmE5zsobdw4jjG+e3ygzhHR0c4i49cxtne3sYJjr9+ESeOY5w7oxAniiKcfnUNp9ls4vz1y9M4V6/+jtMqf4izvLyMM+ISzmQywckeegsnjmOc3y4/iHN0dISz+MhlnO3tbZzg+OsXceI4xrkzCnGiKMLpV9dwms0mzl+/PI1z9ervOK3yhzjLy8s4Iy7hTCYTnOyht3DiOMb57fKDOEdHRziLj1zG2d7exgmOv34RJ45jnDujECeKIpx+dQ2n2Wzi/PXL0zhXr/6O0yp/iLO8vIwz4hLOZDLByR56CyeOY5zfLj+Ic3R0hLP4yGWc7e1tnOD46xdx4jjGuTMKcaIowulX13CazSbOX788jXP16u84rfKHOMvLyzgjLuFMJhOc7KG3cOI4xvnt8oM4R0dHOIuPXMbZ3t7GCY6/fhEnjmOcO6MQJ4oinH51DafZbOL89cvTOFev/o7TKn+Is7y8jDPiEs5kMsHJHnoLJ45jnN8uP4hzdHSEs/jIZZzt7W2c4PjrF3HiOMa5MwpxoijC6VfXcJrNJs5fvzyNc/Xq7zit8oc4y8vLOCMu4UwmE5zsobdw4jjG+e3ygzhHR0c4i49cxtne3sYJjr9+ESeOY5w7oxAniiKcfnUNp9ls4vz1y9M4V6/+jtMqf4izvLyMM+ISzmQywckeegsnjmOc3y4/iHN0dISz+MhlnO3tbZzg+OsXceI4xrkzCnGiKMLpV9dwms0mzl+/PI1z9ervOK3yhzjLy8s4Iy7hTCYTnOyht3DiOMb57fKDOEdHRziLj1zG2d7exgmOv34RJ45jnDujECeKIpx+dQ2n2Wzi/PXL0zhXr/6O0yp/iLO8vIwz4hLOZDLByR56CyeOY5zfLj+Ic3R0hLP4yGWc7e1tnOD46xdx4jjGuTMKcaIowulX13CazSbOX788jXP16u84rfKHOMvLyzgjLuFMJhOc7KG3cOI4xvnt8oM4R0dHOIuPXMbZ3t7GCY6/fhEnjmOcO6MQJ4oinH51DafZbOL89cvTOFev/o7TKn+Is7y8jDPiEs5kMsHJHnoLJ45jnN8uP4hzdHSEs/jIZZzt7W2c4PjrF3HiOMa5MwpxoijC6VfXcJrNJs5fvzyNc/Xq7zit8oc4y8vLOCMu4UwmE5zsobdw4jjG+e3ygzhHR0c4i49cxtne3sYJjr9+ESeOY5w7oxAniiKcfnUNp9ls4vz1y9M4V6/+jtMqf4izvLyMM+ISzmQywckeegsnjmOc3y4/iHN0dISz+MhlnO3tbZzg+OsXceI4xrkzCnGiKMLpV9dwms0mzl+/PI1z9ervOK3yhzjLy8s4Iy7hTCYTnOyht3DiOMb57fKDOEdHRziLj1zG2d7exgmOv34RJ45jnDujECeKIpx+dQ2n2Wzi/PXL0zhXr/6O0yp/iLO8vIwz4hLOZDLByR56CyeOY5zfLj+Ic3R0hLP4yGWc7e1tnOD46xdx4jjGuTMKcaIowulX13CazSbOX788jXP16u84rfKHOMvLyzgjLuFMJhOc7KG3cOI4xvnt8oM4R0dHOIuPXMbZ3t7GCY6/fhEnjmOcO6MQJ4oinH51DafZbOL89cvTOFev/o7TKn+Is7y8jDPiEs5kMsHJHnoLJ45jnN8uP4hzdHSEs/jIZZzt7W2c4PjrF3HiOMa5MwpxoijC6VfXcJrNJs5fvzyNc/Xq7zit8oc4y8vLOCMu4UwmE5zsobdw4jjG+e3ygzhHR0c4i49cxtne3sYJjr9+ESeOY5w7oxAniiKcfnUNp9ls4vz1y9M4V6/+jtMqf4izvLyMM+ISzmQywckeegsnjmOc3y4/iHN0dISz+MhlnO3tbZzg+OsXceI4xrkzCnGiKMLpV9dwms0mzl+/PI1z9ervOK3yhzjLy8s4Iy7hTCYTnOyht3DiOMb57fKDOEdHRziLj1zG2d7exgmOv34RJ45jnDujECeKIpx+dQ2n2Wzi/PXL0zhXr/6O0yp/iLO8vIwz4hLOZDLByR56CyeOY5zfLj+Ic3R0hLP4yGWc7e1tnODm58/ixHGMM0mnOLVaDSeY5DjB/DxSoYLU6yFl/yBFEdK0gJSmSLUKUrmMFBZxRoMBznFwEmdzcxMnuPn5szhxHONM0ilOrVbDCSY5TjA/j1SoIPV6SNk/SFGENC0gpSlSrYJULiOFRZzRYIBzHJzE2dzcxAlufv4sThzHOJN0ilOr1XCCSY4TzM8jFSpIvR5S9g9SFCFNC0hpilSrIJXLSGERZzQY4BwHJ3E2NzdxgpufP4sTxzHOJJ3i1Go1nGCS4wTz80iFClKvh5T9gxRFSNMCUpoi1SpI5TJSWMQZDQY4x8FJnM3NTZzg5ufP4sRxjDNJpzi1Wg0nmOQ4wfw8UqGC1OshZf8gRRHStICUpki1ClK5jBQWcUaDAc5xcBJnc3MTJ7j5+bM4cRzjTNIpTq1WwwkmOU4wP49UqCD1ekjZP0hRhDQtIKUpUq2CVC4jhUWc0WCAcxycxNnc3MQJbn7+LE4cxziTdIpTq9VwgkmOE8zPIxUqSL0eUvYPUhQhTQtIaYpUqyCVy0hhEWc0GOAcBydxNjc3cYKbnz+LE8cxziSd4tRqNZxgkuME8/NIhQpSr4eU/YMURUjTAlKaItUqSOUyUljEGQ0GOMfBSZzNzU2c4Obnz+LEcYwzSac4tVoNJ5jkOMH8PFKhgtTrIWX/IEUR0rSAlKZItQpSuYwUFnFGgwHOcXASZ3NzEye4+fmzOHEc40zSKU6tVsMJJjlOMD+PVKgg9XpI2T9IUYQ0LSClKVKtglQuI4VFnNFggHMcnMTZ3NzECW5+/ixOHMc4k3SKU6vVcIJJjhPMzyMVKki9HlL2D1IUIU0LSGmKVKsglctIYRFnNBjgHAcncTY3N3GCm58/ixPHMc4kneLUajWcYJLjBPPzSIUKUq+HlP2DFEVI0wJSmiLVKkjlMlJYxBkNBjjHwUmczc1NnODm58/ixHGMM0mnOLVaDSeY5DjB/DxSoYLU6yFl/yBFEdK0gJSmSLUKUrmMFBZxRoMBznFwEmdzcxMnuPn5szhxHONM0ilOrVbDCSY5TjA/j1SoIPV6SNk/SFGENC0gpSlSrYJULiOFRZzRYIBzHJzE2dzcxAlufv4sThzHOJN0ilOr1XCCSY4TzM8jFSpIvR5S9g9SFCFNC0hpilSrIJXLSGERZzQY4BwHJ3E2NzdxgpufP4sTxzHOJJ3i1Go1nGCS4wTz80iFClKvh5T9gxRFSNMCUpoi1SpI5TJSWMQZDQY4x8FJnM3NTZzg5ufP4sRxjDNJpzi1Wg0nmOQ4wfw8UqGC1OshZf8gRRHStICUpki1ClK5jBQWcUaDAc5xcBJnc3MTJ7j5+bM4cRzjTNIpTq1WwwkmOU4wP49UqCD1ekjZP0hRhDQtIKUpUq2CVC4jhUWc0WCAcxycxNnc3MQJbn7+LE4cxziTdIpTq9VwgkmOE8zPIxUqSL0eUvYPUhQhTQtIaYpUqyCVy0hhEWc0GOAcBydxNjc3cYKbnz+LE8cxziSd4tRqNZxgkuME8/NIhQpSr4eU/YMURUjTAlKaItUqSOUyUljEGQ0GOMfBSZzNzU2c4Obnz+LEcYwzSac4tVoNJ5jkOMH8PFKhgtTrIWX/IEUR0rSAlKZItQpSuYwUFnFGgwHOcXASZ3NzEye4+fmzOHEc40zSKU6tVsMJJjlOMD+PVKgg9XpI2T9IUYQ0LSClKVKtglQuI4VFnNFggHMcnMTZ3NzECa59sobTbrdxRvcmzFqUhTh5nuPMpSGzd4uZKzeQplOcLLyPk6YpTj8o4FSrVZy70aM4SZLgBNc+WcNpt9s4o3sTZi3KQpw8z3Hm0pDZu8XMlRtI0ylOFt7HSdMUpx8UcKrVKs7d6FGcJElwgmufrOG0222c0b0JsxZlIU6e5zhzacjs3WLmyg2k6RQnC+/jpGmK0w8KONVqFedu9ChOkiQ4wbVP1nDa7TbO6N6EWYuyECfPc5y5NGT2bjFz5QbSdIqThfdx0jTF6QcFnGq1inM3ehQnSRKc4NonazjtdhtndG/CrEVZiJPnOc5cGjJ7t5i5cgNpOsXJwvs4aZri9IMCTrVaxbkbPYqTJAlOcO2TNZx2u40zujdh1qIsxMnzHGcuDZm9W8xcuYE0neJk4X2cNE1x+kEBp1qt4tyNHsVJkgQnuPbJGk673cYZ3Zswa1EW4uR5jjOXhszeLWau3ECaTnGy8D5OmqY4/aCAU61Wce5Gj+IkSYITXPtkDafdbuOM7k2YtSgLcfI8x5lLQ2bvFjNXbiBNpzhZeB8nTVOcflDAqVarOHejR3GSJMEJrn2yhtNut3FG9ybMWpSFOHme48ylIbN3i5krN5CmU5wsvI+TpilOPyjgVKtVnLvRozhJkuAE1z5Zw2m32zijexNmLcpCnDzPcebSkNm7xcyVG0jThLceywAAIABJREFUKU4W3sdJ0xSnHxRwqtUqzt3oUZwkSXCCa5+s4bTbbZzRvQmzFmUhTp7nOHNpyOzdYubKDaTpFCcL7+OkaYrTDwo41WoV5270KE6SJDjBtU/WcNrtNs7o3oRZi7IQJ89znLk0ZPZuMXPlBtJ0ipOF93HSNMXpBwWcarWKczd6FCdJEpzg2idrOO12G2d0b8KsRVmIk+c5zlwaMnu3mLlyA2k6xcnC+zhpmuL0gwJOtVrFuRs9ipMkCU5w7ZM1nHa7jTO6N2HWoizEyfMcZy4Nmb1bzFy5gTSd4mThfZw0TXH6QQGnWq3i3I0exUmSBCe49skaTrvdxhndmzBrURbi5HmOM5eGzN4tZq7cQJpOcbLwPk6apjj9oIBTrVZx7kaP4iRJghNc+2QNp91u44zuTZi1KAtx8jzHmUtDZu8WM1duIE2nOFl4HydNU5x+UMCpVqs4d6NHcZIkwQmufbKG0263cUb3JsxalIU4eZ7jzKUhs3eLmSs3kKZTnCy8j5OmKU4/KOBUq1Wcu9GjOEmS4ATXPlnDabfbOKN7E2YtykKcPM9x5tKQ2bvFzJUbSNMpThbex0nTFKcfFHCq1SrO3ehRnCRJcIJrn6zhtNttnNG9CbMWZSFOnuc4c2nI7N1i5soNpOkUJwvv46RpitMPCjjVahXnbvQoTpIkOMG1T9Zw2u02zujehFmLshAnz3OcuTRk9m4xc+UG0nSKk4X3cdI0xekHBZxqtYpzN3oUJ0kSnODaJ2s47XYbZ3RvwqxFWYiT5znOXBoye7eYuXIDaTrFycL7OGma4vSDAk61WsW5Gz2KkyQJTnDtkzWcdruNM7o3YdaiLMTJ8xxnLg2ZvVvMXLmBNJ3iZOF9nDRNcfpBAadareLcjR7FSZIEJ7h+4Rmc1uIiTn54iBOGIVIxRMpzpHSMlGVIQR0pjpFu5UiVClL2K1KphDT3AE46HOL0F57ESZIEJ7h+4Rmc1uIiTn54iBOGIVIxRMpzpHSMlGVIQR0pjpFu5UiVClL2K1KphDT3AE46HOL0F57ESZIEJ7h+4Rmc1uIiTn54iBOGIVIxRMpzpHSMlGVIQR0pjpFu5UiVClL2K1KphDT3AE46HOL0F57ESZIEJ7h+4Rmc1uIiTn54iBOGIVIxRMpzpHSMlGVIQR0pjpFu5UiVClL2K1KphDT3AE46HOL0F57ESZIEJ7h+4Rmc1uIiTn54iBOGIVIxRMpzpHSMlGVIQR0pjpFu5UiVClL2K1KphDT3AE46HOL0F57ESZIEJ7h+4Rmc1uIiTn54iBOGIVIxRMpzpHSMlGVIQR0pjpFu5UiVClL2K1KphDT3AE46HOL0F57ESZIEJ7h+4Rmc1uIiTn54iBOGIVIxRMpzpHSMlGVIQR0pjpFu5UiVClL2K1KphDT3AE46HOL0F57ESZIEJ7h+4Rmc1uIiTn54iBOGIVIxRMpzpHSMlGVIQR0pjpFu5UiVClL2K1KphDT3AE46HOL0F57ESZIEJ7h+4Rmc1uIiTn54iBOGIVIxRMpzpHSMlGVIQR0pjpFu5UiVClL2K1KphDT3AE46HOL0F57ESZIEJ7h+4Rmc1uIiTn54iBOGIVIxRMpzpHSMlGVIQR0pjpFu5UiVClL2K1KphDT3AE46HOL0F57ESZIEJ7h+4Rmc1uIiTn54iBOGIVIxRMpzpHSMlGVIQR0pjpFu5UiVClL2K1KphDT3AE46HOL0F57ESZIEJ7h+4Rmc1uIiTn54iBOGIVIxRMpzpHSMlGVIQR0pjpFu5UiVClL2K1KphDT3AE46HOL0F57ESZIEJ7h+4Rmc1uIiTn54iBOGIVIxRMpzpHSMlGVIQR0pjpFu5UiVClL2K1KphDT3AE46HOL0F57ESZIEJ7h+4Rmc1uIiTn54iBOGIVIxRMpzpHSMlGVIQR0pjpFu5UiVClL2K1KphDT3AE46HOL0F57ESZIEJ7h+4Rmc1uIiTn54iBOGIVIxRMpzpHSMlGVIQR0pjpFu5UiVClL2K1KphDT3AE46HOL0F57ESZIEJ7h+4Rmc1uIiTn54iBOGIVIxRMpzpHSMlGVIQR0pjpFu5UiVClL2K1KphDT3AE46HOL0F57ESZIEJ7h+4Rmc1uIiTn54iBOGIVIxRMpzpHSMlGVIQR0pjpFu5UiVClL2K1KphDT3AE46HOL0F57ESZIEJ7h+4Rmc1uIiTn54iBOGIVIxRMpzpHSMlGVIQR0pjpFu5UiVClL2K1KphDT3AE46HOL0F57ESZIEJ7h+4Rmc1uIiTn54iBOGIVIxRMpzpHSMlGVIQR0pjpFu5UiVClL2K1KphDT3AE46HOL0F57ESZIEJ7h+4Rmc1uIiTn54iBOGIVIxRMpzpHSMlGVIQR0pjpFu5UiVClL2K1KphDT3AE46HOL0F57ESZIEJ7h+4Rmc1uIiTn54iBOGIVIxRMpzpHSMlGVIQR0pjpFu5UiVClL2K1KphDT3AE46HOL0F57ESZIEJ7h+4Rmc1uIiTn54iBOGIVIxRMpzpHSMlGVIQR0pjpFu5UiVClL2K1KphDT3AE46HOL0F57ESZIEJ/hz5xROq9XCCW/fxgkrFZx00McplstIYY6UpkhBHWluDuluhFQsIhWvIfV6SM1FnGG3izNunsLpdDo4wZ87p3BarRZOePs2Tlip4KSDPk6xXEYKc6Q0RQrqSHNzSHcjpGIRqXgNqddDai7iDLtdnHHzFE6n08EJ/tw5hdNqtXDC27dxwkoFJx30cYrlMlKYI6UpUlBHmptDuhshFYtIxWtIvR5ScxFn2O3ijJuncDqdDk7w584pnFarhRPevo0TVio46aCPUyyXkcIcKU2RgjrS3BzS3QipWEQqXkPq9ZCaizjDbhdn3DyF0+l0cII/d07htFotnPD2bZywUsFJB32cYrmMFOZIaYoU1JHm5pDuRkjFIlLxGlKvh9RcxBl2uzjj5imcTqeDE/y5cwqn1WrhhLdv44SVCk466OMUy2WkMEdKU6SgjjQ3h3Q3QioWkYrXkHo9pOYizrDbxRk3T+F0Oh2c4M+dUzitVgsnvH0bJ6xUcNJBH6dYLiOFOVKaIgV1pLk5pLsRUrGIVLyG1OshNRdxht0uzrh5CqfT6eAEf+6cwmm1Wjjh7ds4YaWCkw76OMVyGSnMkdIUKagjzc0h3Y2QikWk4jWkXg+puYgz7HZxxs1TOJ1OByf4c+cUTqvVwglv38YJKxWcdNDHKZbLSGGOlKZIQR1pbg7pboRULCIVryH1ekjNRZxht4szbp7C6XQ6OMGfO6dwWq0WTnj7Nk5YqeCkgz5OsVxGCnOkNEUK6khzc0h3I6RiEal4DanXQ2ou4gy7XZxx8xROp9PBCf7cOYXTarVwwtu3ccJKBScd9HGK5TJSmCOlKVJQR5qbQ7obIRWLSMVrSL0eUnMRZ9jt4oybp3A6nQ5O8OfOKZxWq4UT3r6NE1YqOOmgj1Msl5HCHClNkYI60twc0t0IqVhEKl5D6vWQmos4w24XZ9w8hdPpdHCCP3dO4bRaLZzw9m2csFLBSQd9nGK5jBTmSGmKFNSR5uaQ7kZIxSJS8RpSr4fUXMQZdrs44+YpnE6ngxP8uXMKp9Vq4YS3b+OElQpOOujjFMtlpDBHSlOkoI40N4d0N0IqFpGK15B6PaTmIs6w28UZN0/hdDodnODPnVM4rVYLJ7x9GyesVHDSQR+nWC4jhTlSmiIFdaS5OaS7EVKxiFS8htTrITUXcYbdLs64eQqn0+ngBH/unMJptVo44e3bOGGlgpMO+jjFchkpzJHSFCmoI83NId2NkIpFpOI1pF4PqbmIM+x2ccbNUzidTgcn+HPnFE6r1cIJb9/GCSsVnHTQxymWy0hhjpSmSEEdaW4O6W6EVCwiFa8h9XpIzUWcYbeLM26ewul0OjjBnzuncFqtFk54+zZOWKngpIM+TrFcRgpzpDRFCupIc3NIdyOkYhGpeA2p10NqLuIMu12ccfMUTqfTwQn+3DmF02q1cMLbt3HCSgUnHfRxiuUyUpgjpSlSUEeam0O6GyEVi0jFa0i9HlJzEWfY7eKMm6dwOp0OTvDnzimcVquFE96+jRNWKjjpoI9TLJeRwhwpTZGCOtLcHNLdCKlYRCpeQ+r1kJqLOMNuF2fcPIXT6XRwgj93TuG0Wi2c8PZtnLBSwUkHfZxiuYwU5khpihTUkebmkO5GSMUiUvEaUq+H1FzEGXa7OOPmKZxOp4MT/LlzCqfVauGEt2/jhJUKTjro4xTLZaQwR0pTpKCONDeHdDdCKhaRiteQej2k5iLOsNvFGTdP4XQ6HZzg8NM1nFarhRMc9ZEqFZy0VmbWpsUhThiGOKXpMs5wMMAphzdxxuMxTrXUZOaiCCnPcXrzCzhJkuAEh5+u4bRaLZzgqI9UqeCktTKzNi0OccIwxClNl3GGgwFOObyJMx6PcaqlJjMXRUh5jtObX8BJkgQnOPx0DafVauEER32kSgUnrZWZtWlxiBOGIU5puowzHAxwyuFNnPF4jFMtNZm5KELKc5ze/AJOkiQ4weGnazitVgsnOOojVSo4aa3MrE2LQ5wwDHFK02Wc4WCAUw5v4ozHY5xqqcnMRRFSnuP05hdwkiTBCQ4/XcNptVo4wVEfqVLBSWtlZm1aHOKEYYhTmi7jDAcDnHJ4E2c8HuNUS01mLoqQ8hynN7+AkyQJTnD46RpOq9XCCY76SJUKTlorM2vT4hAnDEOc0nQZZzgY4JTDmzjj8RinWmoyc1GElOc4vfkFnCRJcILDT9dwWq0WTnDUR6pUcNJamVmbFoc4YRjilKbLOMPBAKcc3sQZj8c41VKTmYsipDzH6c0v4CRJghMcfrqG02q1cIKjPlKlgpPWyszatDjECcMQpzRdxhkOBjjl8CbOeDzGqZaazFwUIeU5Tm9+ASdJEpzg8NM1nFarhRMc9ZEqFZy0VmbWpsUhThiGOKXpMs5wMMAphzdxxuMxTrXUZOaiCCnPcXrzCzhJkuAEh5+u4bRaLZzgqI9UqeCktTKzNi0OccIwxClNl3GGgwFOObyJMx6PcaqlJjMXRUh5jtObX8BJkgQnOPx0DafVauEER32kSgUnrZWZtWlxiBOGIU5puowzHAxwyuFNnPF4jFMtNZm5KELKc5ze/AJOkiQ4weGnazitVgsnOOojVSo4aa3MrE2LQ5wwDHFK02Wc4WCAUw5v4ozHY5xqqcnMRRFSnuP05hdwkiTBCQ4/XcNptVo4wVEfqVLBSWtlZm1aHOKEYYhTmi7jDAcDnHJ4E2c8HuNUS01mLoqQ8hynN7+AkyQJTnD46RpOq9XCCY76SJUKTlorM2vT4hAnDEOc0nQZZzgY4JTDmzjj8RinWmoyc1GElOc4vfkFnCRJcILDT9dwWq0WTnDUR6pUcNJamVmbFoc4YRjilKbLOMPBAKcc3sQZj8c41VKTmYsipDzH6c0v4CRJghMcfrqG02q1cIKjPlKlgpPWyszatDjECcMQpzRdxhkOBjjl8CbOeDzGqZaazFwUIeU5Tm9+ASdJEpzg8NM1nFarhRMc9ZEqFZy0VmbWpsUhThiGOKXpMs5wMMAphzdxxuMxTrXUZOaiCCnPcXrzCzhJkuAEh5+u4bRaLZzgqI9UqeCktTKzNi0OccIwxClNl3GGgwFOObyJMx6PcaqlJjMXRUh5jtObX8BJkgQnOPx0DafVauEER32kSgUnrZWZtWlxiBOGIU5puowzHAxwyuFNnPF4jFMtNZm5KELKc5ze/AJOkiQ4weGnazitVgsnOOojVSo4aa3MrE2LQ5wwDHFK02Wc4WCAUw5v4ozHY5xqqcnMRRFSnuP05hdwkiTBCQ4/XcNptVo4wVEfqVLBSWtlZm1aHOKEYYhTmi7jDAcDnHJ4E2c8HuNUS01mLoqQ8hynN7+AkyQJTnD46RpOq9XCCY76SJUKTlorM2vT4hAnDEOc0nQZZzgY4JTDmzjj8RinWmoyc1GElOc4vfkFnCRJcILjr07jxI0Gzo0ff8bp9Xo4J556Amc0GuEM79/BKRQKODsfX8RpNBo4Z04/hlOv13GyexWc8XiMc3BwgLOysoITtk/idDodnOD4q9M4caOBc+PHn3F6vR7OiaeewBmNRjjD+3dwCoUCzs7HF3EajQbOmdOP4dTrdZzsXgVnPB7jHBwc4KysrOCE7ZM4nU4HJzj+6jRO3Gjg3PjxZ5xer4dz4qkncEajEc7w/h2cQqGAs/PxRZxGo4Fz5vRjOPV6HSe7V8EZj8c4BwcHOCsrKzhh+yROp9PBCY6/Oo0TNxo4N378GafX6+GceOoJnNFohDO8fwenUCjg7Hx8EafRaOCcOf0YTr1ex8nuVXDG4zHOwcEBzsrKCk7YPonT6XRwguOvTuPEjQbOjR9/xun1ejgnnnoCZzQa4Qzv38EpFAo4Ox9fxGk0GjhnTj+GU6/XcbJ7FZzxeIxzcHCAs7KyghO2T+J0Oh2c4Pir0zhxo4Fz48efcXq9Hs6Jp57AGY1GOMP7d3AKhQLOzscXcRqNBs6Z04/h1Ot1nOxeBWc8HuMcHBzgrKys4ITtkzidTgcnOP7qNE7caODc+PFnnF6vh3PiqSdwRqMRzvD+HZxCoYCz8/FFnEajgXPm9GM49XodJ7tXwRmPxzgHBwc4KysrOGH7JE6n08EJjr86jRM3Gjg3fvwZp9fr4Zx46gmc0WiEM7x/B6dQKODsfHwRp9Fo4Jw5/RhOvV7Hye5VcMbjMc7BwQHOysoKTtg+idPpdHCC469O48SNBs6NH3/G6fV6OCeeegJnNBrhDO/fwSkUCjg7H1/EaTQaOGdOP4ZTr9dxsnsVnPF4jHNwcICzsrKCE7ZP4nQ6HZzg+KvTOHGjgXPjx59xer0ezomnnsAZjUY4w/t3cAqFAs7OxxdxGo0GzpnTj+HU63Wc7F4FZzwe4xwcHOCsrKzghO2TOJ1OByc4/uo0Ttxo4Nz48WecXq+Hc+KpJ3BGoxHO8P4dnEKhgLPz8UWcRqOBc+b0Yzj1eh0nu1fBGY/HOAcHBzgrKys4YfskTqfTwQmOvzqNEzcaODd+/Bmn1+vhnHjqCZzRaIQzvH8Hp1Ao4Ox8fBGn0WjgnDn9GE69XsfJ7lVwxuMxzsHBAc7KygpO2D6J0+l0cILjr07jxI0Gzo0ff8bp9Xo4J556Amc0GuEM79/BKRQKODsfX8RpNBo4Z04/hlOv13GyexWc8XiMc3BwgLOysoITtk/idDodnOD4q9M4caOBc+PHn3F6vR7OiaeewBmNRjjD+3dwCoUCzs7HF3EajQbOmdOP4dTrdZzsXgVnPB7jHBwc4KysrOCE7ZM4nU4HJzj+6jRO3Gjg3PjxZ5xer4dz4qkncEajEc7w/h2cQqGAs/PxRZxGo4Fz5vRjOPV6HSe7V8EZj8c4BwcHOCsrKzhh+yROp9PBCY6/Oo0TNxo4N378GafX6+GceOoJnNFohDO8fwenUCjg7Hx8EafRaOCcOf0YTr1ex8nuVXDG4zHOwcEBzsrKCk7YPonT6XRwguOvTuPEjQbOjR9/xun1ejgnnnoCZzQa4Qzv38EpFAo4Ox9fxGk0GjhnTj+GU6/XcbJ7FZzxeIxzcHCAs7KyghO2T+J0Oh2c4Pir0zhxo4Fz48efcXq9Hs6Jp57AGY1GOMP7d3AKhQLOzscXcRqNBs6Z04/h1Ot1nOxeBWc8HuMcHBzgrKys4ITtkzidTgcnOP7qNE7caODc+PFnnF6vh3PiqSdwRqMRzvD+HZxCoYCz8/FFnEajgXPm9GM49XodJ7tXwRmPxzgHBwc4KysrOGH7JE6n08EJjr86jRM3Gjg3fvwZp9fr4Zx46gmc0WiEM7x/B6dQKODsfHwRp9Fo4Jw5/RhOvV7Hye5VcMbjMc7BwQHOysoKTtg+idPpdHCC469O48SNBs6NH3/G6fV6OCeeegJnNBrhDO/fwSkUCjg7H1/EaTQaOGdOP4ZTr9dxsnsVnPF4jHNwcICzsrKCE7ZP4nQ6HZzg+KvTOHGjgXPjx59xer0ezomnnsAZjUY4w/t3cAqFAs7OxxdxGo0GzpnTj+HU63Wc7F4FZzwe4xwcHOCsrKzghO2TOJ1OByf46fuPcLrdLs6597/E2d/fx0nOvYSztLSEs1Bt42xsbOC82/kB50S1hLP7XQenVCrhXL/xN876+jrO+W/+wHnhucdxXn3jTZzd3V2c4KfvP8Lpdrs4597/Emd/fx8nOfcSztLSEs5CtY2zsbGB827nB5wT1RLO7ncdnFKphHP9xt846+vrOOe/+QPnhecex3n1jTdxdnd3cYKfvv8Ip9vt4px7/0uc/f19nOTcSzhLS0s4C9U2zsbGBs67nR9wTlRLOLvfdXBKpRLO9Rt/46yvr+Oc/+YPnBeeexzn1TfexNnd3cUJfvr+I5xut4tz7v0vcfb393GScy/hLC0t4SxU2zgbGxs473Z+wDlRLeHsftfBKZVKONdv/I2zvr6Oc/6bP3BeeO5xnFffeBNnd3cXJ/jp+49wut0uzrn3v8TZ39/HSc69hLO0tISzUG3jbGxs4Lzb+QHnRLWEs/tdB6dUKuFcv/E3zvr6Os75b/7AeeG5x3FefeNNnN3dXZzgp+8/wul2uzjn3v8SZ39/Hyc59xLO0tISzkK1jbOxsYHzbucHnBPVEs7udx2cUqmEc/3G3zjr6+s457/5A+eF5x7HefWNN3F2d3dxgp++/win2+3inHv/S5z9/X2c5NxLOEtLSzgL1TbOxsYGzrudH3BOVEs4u991cEqlEs71G3/jrK+v45z/5g+cF557HOfVN97E2d3dxQl++v4jnG63i3Pu/S9x9vf3cZJzL+EsLS3hLFTbOBsbGzjvdn7AOVEt4ex+18EplUo412/8jbO+vo5z/ps/cF547nGcV994E2d3dxcn+On7j3C63S7Oufe/xNnf38dJzr2Es7S0hLNQbeNsbGzgvNv5AedEtYSz+10Hp1Qq4Vy/8TfO+vo6zvlv/sB54bnHcV59402c3d1dnOCn7z/C6Xa7OOfe/xJnf38fJzn3Es7S0hLOQrWNs7GxgfNu5wecE9USzu53HZxSqYRz/cbfOOvr6zjnv/kD54XnHsd59Y03cXZ3d3GCn77/CKfb7eKce/9LnP39fZzk3Es4S0tLOAvVNs7GxgbOu50fcE5USzi733VwSqUSzvUbf+Osr6/jnP/mD5wXnnsc59U33sTZ3d3FCX76/iOcbreLc+79L3H29/dxknMv4SwtLeEsVNs4GxsbOO92fsA5US3h7H7XwSmVSjjXb/yNs76+jnP+mz9wXnjucZxX33gTZ3d3Fyf46fuPcLrdLs6597/E2d/fx0nOvYSztLSEs1Bt42xsbOC82/kB50S1hLP7XQenVCrhXL/xN876+jrO+W/+wHnhucdxXn3jTZzd3V2c4KfvP8Lpdrs4597/Emd/fx8nOfcSztLSEs5CtY2zsbGB827nB5wT1RLO7ncdnFKphHP9xt846+vrOOe/+QPnhecex3n1jTdxdnd3cYKfvv8Ip9vt4px7/0uc/f19nOTcSzhLS0s4C9U2zsbGBs67nR9wTlRLOLvfdXBKpRLO9Rt/46yvr+Oc/+YPnBeeexzn1TfexNnd3cUJfvr+I5xut4tz7v0vcfb393GScy/hLC0t4SxU2zgbGxs473Z+wDlRLeHsftfBKZVKONdv/I2zvr6Oc/6bP3BeeO5xnFffeBNnd3cXJ/jp+49wut0uzrn3v8TZ39/HSc69hLO0tISzUG3jbGxs4Lzb+QHnRLWEs/tdB6dUKuFcv/E3zvr6Os75b/7AeeG5x3FefeNNnN3dXZzgp+8/wul2uzjn3v8SZ39/Hyc59xLO0tISzkK1jbOxsYHzbucHnBPVEs7udx2cUqmEc/3G3zjr6+s457/5A+eF5x7HefWNN3F2d3dxgp++/win2+3inHv/S5z9/X2c5NxLOEtLSzgL1TbOxsYGzrudH3BOVEs4u991cEqlEs71G3/jrK+v45z/5g+cF557HOfVN97E2d3dxQl++v4jnG63i3Pu/S9x9vf3cZJzL+EsLS3hLFTbOBsbGzjvdn7AOVEt4ex+18EplUo412/8jbO+vo5z/ps/cF547nGcV994E2d3dxcn+On7j3C63S7Oufe/xNnf38dJzr2Es7S0hLNQbeNsbGzgvNv5AedEtYSz+10Hp1Qq4Vy/8TfO+vo6zvlv/sB54bnHcV59402c3d1dnOCn7z/C6Xa7OOfe/xJnf38fJzn3Es7S0hLOQrWNs7GxgfNu5wecE9USzu53HZxSqYRz/cbfOOvr6zjnv/kD54XnHsd59Y03cXZ3d3GCD957BWdvbw/n0sV/caZYKw8jnT17BqeYLeBsbW3hfLs/wZnHevud53FWV1dxvrjwGc75nQOcY6wQ67XXX8a5cuUKTvDBe6/g7O3t4Vy6+C/OFGvlYaSzZ8/gFLMFnK2tLZxv9yc481hvv/M8zurqKs4XFz7DOb9zgHOMFWK99vrLOFeuXMEJPnjvFZy9vT2cSxf/xZlirTyMdPbsGZxitoCztbWF8+3+BGce6+13nsdZXV3F+eLCZzjndw5wjrFCrNdefxnnypUrOMEH772Cs7e3h3Pp4r84U6yVh5HOnj2DU8wWcLa2tnC+3Z/gzGO9/c7zOKurqzhfXPgM5/zOAc4xVoj12usv41y5cgUn+OC9V3D29vZwLl38F2eKtfIw0tmzZ3CK2QLO1tYWzrf7E5x5rLffeR5ndXUV54sLn+Gc3znAOcYKsV57/WWcK1eu4AQfvPcKzt7eHs6li//iTLFWHkY6e/YMTjFbwNna2sL5dn+CM4/19jvP46yuruJ8ceEznPM7BzjHWCHWa6+/jHPlyhWc4IP3XsHZ29vDuXTxX5wp1srDSGfPnsEpZgs4W1tbON/uT3Dmsd7r+iU+AAAEHElEQVR+53mc1dVVnC8ufIZzfucA5xgrxHrt9Zdxrly5ghN88N4rOHt7eziXLv6LM8VaeRjp7NkzOMVsAWdrawvn2/0JzjzW2+88j7O6uorzxYXPcM7vHOAcY4VYr73+Ms6VK1dwgg/eewVnb28P59LFf3GmWCsPI509ewanmC3gbG1t4Xy7P8GZx3r7nedxVldXcb648BnO+Z0DnGOsEOu111/GuXLlCk7wwXuv4Ozt7eFcuvgvzhRr5WGks2fP4BSzBZytrS2cb/cnOPNYb7/zPM7q6irOFxc+wzm/c4BzjBVivfb6yzhXrlzBCT547xWcvb09nEsX/8WZYq08jHT27BmcYraAs7W1hfPt/gRnHuvtd57HWV1dxfniwmc453cOcI6xQqzXXn8Z58qVKzjBB++9grO3t4dz6eK/OFOslYeRzp49g1PMFnC2trZwvt2f4Mxjvf3O8zirq6s4X1z4DOf8zgHOMVaI9drrL+NcuXIFJ/jgvVdw9vb2cC5d/BdnirXyMNLZs2dwitkCztbWFs63+xOceay333keZ3V1FeeLC5/hnN85wDnGCrFee/1lnCtXruAEH7z3Cs7e3h7OpYv/4kyxVh5GOnv2DE4xW8DZ2trC+XZ/gjOP9fY7z+Osrq7ifHHhM5zzOwc4x1gh1muvv4xz5coVnOCD917B2dvbw7l08V+cKdbKw0hnz57BKWYLOFtbWzjf7k9w5rHefud5nNXVVZwvLnyGc37nAOcYK8R67fWXca5cuYITfPDeKzh7e3s4ly7+izPFWnkY6ezZMzjFbAFna2sL59v9Cc481tvvPI+zurqK88WFz3DO7xzgHGOFWK+9/jLOlStXcIIP3nsFZ29vD+fSxX9xplgrDyOdPXsGp5gt4GxtbeF8uz/Bmcd6+53ncVZXV3G+uPAZzvmdA5xjrBDrtddfxrly5QpO8MF7r+Ds7e3hXLr4L84Ua+VhpLNnz+AUswWcra0tnG/3JzjzWG+/8zzO6uoqzhcXPsM5v3OAc4wVYr32+ss4V65cwQk+eO8VnL29PZxLF//FmWKtPIx09uwZnGK2gLO1tYXz7f4EZx7r7Xeex1ldXcX54sJnOOd3DnCOsUKs/780ODZBGAgAKPqVdFaWrmB7i5gyReqQPuICGcAh5CCi/UHagK0IN0Ua2xAEh/jvNW2Fk3PG2Vz7GielhPOaZpwV63hA6roTTvHb48QYccb3grPDOl9KnBACzuN5x7kNH5wv1haraSucnDPO5trXOCklnNc046xYxwNS151wit8eJ8aIM74XnB3W+VLihBBwHs87zm344HyxtlhNW+HknHE2177GSSnhvKYZZ8U6HpC67oRT/PY4MUac8b3g7LDOlxInhIDzeN5xbsMH54u1xWraCifnjPMHANjynEQ+2WoAAAAASUVORK5CYII='></td></tr></table>"
      ],
      "text/plain": [
       "<IPython.core.display.HTML object>"
      ]
     },
     "metadata": {},
     "output_type": "display_data"
    }
   ],
   "source": [
    "# --- Svolgimento Esercizio 6: Inizio --- #\n",
    "\n",
    "new_tracking = []\n",
    "for track_list in all_tracking:\n",
    "    new_track_list = []\n",
    "    for sprite, elem in enumerate(track_list):\n",
    "        if elem is None:\n",
    "            new_track_list.append((np.nan, np.nan))\n",
    "        else:\n",
    "            new_track_list.append((elem[0], elem[1]))\n",
    "    new_tracking.append(new_track_list)\n",
    "\n",
    "mat = np.ndarray((len(frames), len(sprites), 2), np.float32)\n",
    "for frame, track_list in enumerate(new_tracking):\n",
    "    for sprite, coord in enumerate(track_list):\n",
    "        mat[frame,sprite,...] = coord\n",
    "\n",
    "dist = np.zeros((len(frames) - 1, len(sprites)))\n",
    "for current, prev in zip(range(1, len(frames[1:])), range(len(frames))):\n",
    "    for sprite in range(len(sprites)):\n",
    "        euclid_dist = ((mat[current, sprite, 0] - mat[prev, sprite, 0]) ** 2 + (mat[current, sprite, 1] - mat[prev, sprite, 1]) ** 2) ** (1/2)\n",
    "        dist[current, sprite] = euclid_dist\n",
    "dist = np.nan_to_num(dist, 0)\n",
    "tot_dist = []\n",
    "for sprite in range(len(sprites)):\n",
    "    count = 0\n",
    "    for frame in range(len(dist)):\n",
    "        count += dist[frame, sprite]\n",
    "    tot_dist.append((sprite, count))\n",
    "va.show((sprites[0], f\"distanza tot percorsa: {tot_dist[0][1]}\"),\n",
    "        (sprites[1], f\"distanza tot percorsa: {tot_dist[1][1]}\"),\n",
    "        (sprites[2], f\"distanza tot percorsa: {tot_dist[2][1]}\"),\n",
    "        (sprites[3], f\"distanza tot percorsa: {tot_dist[3][1]}\"),\n",
    "        (sprites[4], f\"distanza tot percorsa: {tot_dist[4][1]}\"),)\n",
    "# --- Svolgimento Esercizio 6: Fine --- #"
   ]
  },
  {
   "attachments": {},
   "cell_type": "markdown",
   "metadata": {
    "deletable": false,
    "editable": false
   },
   "source": [
    "<img style=\"float:left\" src=\"images/in.png\" />La cella seguente calcola, con operazioni vettoriali sull'intero array, la distanza media percorsa negli ultimi `n_avg` frame. Analizzarne il codice per comprenderne appieno il funzionamento.  \n",
    "Eseguire quindi la cella successiva, che visualizza tali valori per ciascun frame, insieme a un grafico dei valori precedenti. Questi valori, considerando che in un filmato il numero di frame al secondo è una costante, possono essere interpretati come la velocità a cui si stanno muovendo gli sprite."
   ]
  },
  {
   "cell_type": "code",
   "execution_count": 71,
   "metadata": {
    "deletable": false,
    "editable": false
   },
   "outputs": [],
   "source": [
    "n_avg = 10\n",
    "dist_avg = dist[n_avg-1:].copy()\n",
    "for sprite in range(1, n_avg):\n",
    "    dist_avg += dist[n_avg-sprite-1:-sprite]\n",
    "dist_avg/=n_avg  "
   ]
  },
  {
   "cell_type": "code",
   "execution_count": 72,
   "metadata": {
    "deletable": false,
    "editable": false,
    "scrolled": true
   },
   "outputs": [
    {
     "data": {
      "application/vnd.jupyter.widget-view+json": {
       "model_id": "662ae69bf2f54dd689a5901d69a61492",
       "version_major": 2,
       "version_minor": 0
      },
      "text/plain": [
       "interactive(children=(IntSlider(value=0, description='i', max=1689), Output()), _dom_classes=('widget-interact…"
      ]
     },
     "metadata": {},
     "output_type": "display_data"
    }
   ],
   "source": [
    "graph_w = 500\n",
    "border_w = 10\n",
    "frame_h, frame_w = frames[0].shape[:2]\n",
    "\n",
    "map_j_x = lambda j: frame_w + border_w + j % graph_w\n",
    "map_v_y = lambda v: int(round(frame_h-20-v*20))\n",
    "\n",
    "@interact(i=(0,len(all_tracking)-1-n_avg))\n",
    "def show_frame(i=0):\n",
    "    img = cv.copyMakeBorder(frames[i+n_avg], 0, 0, 0, graph_w, cv.BORDER_CONSTANT)\n",
    "    for k in range(len(sprites)):\n",
    "        v = dist_avg[i, k]\n",
    "        text = f\"{sprite_names[k]}: {v:.2f}\"\n",
    "        cv.putText(img, text, (frame_w+border_w, 20+k*15), cv.FONT_HERSHEY_PLAIN, 1, sprite_colors[k], 1, cv.LINE_AA)\n",
    "        cv.line(img, (map_j_x(i), map_v_y(0)), (map_j_x(i), map_v_y(12)), (255,255,255))\n",
    "        for j in range(max(0,i-graph_w), i):\n",
    "            x1, x2 = map_j_x(j), map_j_x(j+1)\n",
    "            if x1<x2:\n",
    "                cv.line(img, (x1, map_v_y(dist_avg[j,k])), (x2, map_v_y(dist_avg[j+1,k])), \n",
    "                    sprite_colors[k], 1, cv.LINE_AA)            \n",
    "    va.show(img)"
   ]
  }
 ],
 "metadata": {
  "kernelspec": {
   "display_name": "Python 3 (ipykernel)",
   "language": "python",
   "name": "python3"
  },
  "language_info": {
   "codemirror_mode": {
    "name": "ipython",
    "version": 3
   },
   "file_extension": ".py",
   "mimetype": "text/x-python",
   "name": "python",
   "nbconvert_exporter": "python",
   "pygments_lexer": "ipython3",
   "version": "3.10.11"
  }
 },
 "nbformat": 4,
 "nbformat_minor": 4
}
