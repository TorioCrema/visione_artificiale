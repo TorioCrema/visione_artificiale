{
 "cells": [
  {
   "cell_type": "markdown",
   "metadata": {},
   "source": [
    "<img style=\"float:right\" src=\"images/logo_va.png\" /> \n",
    "\n",
    "# Visione Artificiale\n",
    "## Esercitazione: Operazioni sulle immagini"
   ]
  },
  {
   "cell_type": "markdown",
   "metadata": {
    "deletable": false,
    "editable": false
   },
   "source": [
    "### Sommario\n",
    "* Creazione e modifica di immagini grayscale memorizzate come array NumPy\n",
    "* Confronto fra velocità di esecuzione di cicli Python e corrispondenti istruzioni NumPy\n",
    "* Caricamento di immagini da file\n",
    "* Semplici operazioni su immagini RGB e grayscale\n",
    "* Binarizzazione di immagini grayscale: con soglia globale e locale\n",
    "* Operazioni aritmetiche fra immagini\n",
    "* Applicazione di una lookup table\n",
    "* Conversione da RGB a HSL e modifiche ai valori HSL"
   ]
  },
  {
   "cell_type": "markdown",
   "metadata": {
    "deletable": false,
    "editable": false
   },
   "source": [
    "Iniziamo con l'importazione dei moduli che ci serviranno: `NumPy`, `OpenCV`, `va`. Importiamo anche la funzione `interact` di Jupyter. "
   ]
  },
  {
   "cell_type": "code",
   "execution_count": 1,
   "metadata": {
    "deletable": false,
    "editable": false
   },
   "outputs": [],
   "source": [
    "import numpy as np\n",
    "import cv2 as cv\n",
    "import va\n",
    "from ipywidgets import interact"
   ]
  },
  {
   "cell_type": "markdown",
   "metadata": {
    "deletable": false,
    "editable": false
   },
   "source": [
    "Un dei moduli che abbiamo appena importato (`cv2`) contiene il wrapper Python della libreria OpenCV (scritta in C++). Tutti gli array (incluse le immagini) utilizzati in OpenCV sono convertite in/da array NumPy.  \n",
    "Iniziamo dunque a fare pratica con le immagini: eseguendo la prossima cella sarà creata una piccola immagine a toni di grigio contenente valori casuali, con dimensione (7,9) e un byte per pixel."
   ]
  },
  {
   "cell_type": "code",
   "execution_count": 2,
   "metadata": {
    "deletable": false,
    "editable": false
   },
   "outputs": [
    {
     "name": "stdout",
     "output_type": "stream",
     "text": [
      "[[132 154  63 246 166  97 119   6  93]\n",
      " [211 157  43  45 110  60 248 218  88]\n",
      " [ 60  47  13  60 131  88 177 201  62]\n",
      " [ 37 200  56  32 118  95 210  15  41]\n",
      " [182   5 192 117  60 140 125 252  46]\n",
      " [174  85 138 172 207 142 108 160  72]\n",
      " [ 28  27  67 154  78 155  18 163  75]] (7, 9) uint8\n"
     ]
    }
   ],
   "source": [
    "img = np.random.randint(0,256,(7,9), dtype=np.uint8)\n",
    "print(img, img.shape, img.dtype)"
   ]
  },
  {
   "cell_type": "markdown",
   "metadata": {
    "deletable": false,
    "editable": false
   },
   "source": [
    "Il seguente comando consente di avere rapidamente informazioni sul tipo della variabile `img`."
   ]
  },
  {
   "cell_type": "code",
   "execution_count": 3,
   "metadata": {
    "deletable": false,
    "editable": false
   },
   "outputs": [
    {
     "name": "stdout",
     "output_type": "stream",
     "text": [
      "\u001b[0;31mType:\u001b[0m        ndarray\n",
      "\u001b[0;31mString form:\u001b[0m\n",
      "[[132 154  63 246 166  97 119   6  93]\n",
      "           [211 157  43  45 110  60 248 218  88]\n",
      "           [ 60  47  13  60 1 <...> 0 140 125 252  46]\n",
      "           [174  85 138 172 207 142 108 160  72]\n",
      "           [ 28  27  67 154  78 155  18 163  75]]\n",
      "\u001b[0;31mLength:\u001b[0m      7\n",
      "\u001b[0;31mFile:\u001b[0m        /usr/lib/python3/dist-packages/numpy/__init__.py\n",
      "\u001b[0;31mDocstring:\u001b[0m  \n",
      "ndarray(shape, dtype=float, buffer=None, offset=0,\n",
      "        strides=None, order=None)\n",
      "\n",
      "An array object represents a multidimensional, homogeneous array\n",
      "of fixed-size items.  An associated data-type object describes the\n",
      "format of each element in the array (its byte-order, how many bytes it\n",
      "occupies in memory, whether it is an integer, a floating point number,\n",
      "or something else, etc.)\n",
      "\n",
      "Arrays should be constructed using `array`, `zeros` or `empty` (refer\n",
      "to the See Also section below).  The parameters given here refer to\n",
      "a low-level method (`ndarray(...)`) for instantiating an array.\n",
      "\n",
      "For more information, refer to the `numpy` module and examine the\n",
      "methods and attributes of an array.\n",
      "\n",
      "Parameters\n",
      "----------\n",
      "(for the __new__ method; see Notes below)\n",
      "\n",
      "shape : tuple of ints\n",
      "    Shape of created array.\n",
      "dtype : data-type, optional\n",
      "    Any object that can be interpreted as a numpy data type.\n",
      "buffer : object exposing buffer interface, optional\n",
      "    Used to fill the array with data.\n",
      "offset : int, optional\n",
      "    Offset of array data in buffer.\n",
      "strides : tuple of ints, optional\n",
      "    Strides of data in memory.\n",
      "order : {'C', 'F'}, optional\n",
      "    Row-major (C-style) or column-major (Fortran-style) order.\n",
      "\n",
      "Attributes\n",
      "----------\n",
      "T : ndarray\n",
      "    Transpose of the array.\n",
      "data : buffer\n",
      "    The array's elements, in memory.\n",
      "dtype : dtype object\n",
      "    Describes the format of the elements in the array.\n",
      "flags : dict\n",
      "    Dictionary containing information related to memory use, e.g.,\n",
      "    'C_CONTIGUOUS', 'OWNDATA', 'WRITEABLE', etc.\n",
      "flat : numpy.flatiter object\n",
      "    Flattened version of the array as an iterator.  The iterator\n",
      "    allows assignments, e.g., ``x.flat = 3`` (See `ndarray.flat` for\n",
      "    assignment examples; TODO).\n",
      "imag : ndarray\n",
      "    Imaginary part of the array.\n",
      "real : ndarray\n",
      "    Real part of the array.\n",
      "size : int\n",
      "    Number of elements in the array.\n",
      "itemsize : int\n",
      "    The memory use of each array element in bytes.\n",
      "nbytes : int\n",
      "    The total number of bytes required to store the array data,\n",
      "    i.e., ``itemsize * size``.\n",
      "ndim : int\n",
      "    The array's number of dimensions.\n",
      "shape : tuple of ints\n",
      "    Shape of the array.\n",
      "strides : tuple of ints\n",
      "    The step-size required to move from one element to the next in\n",
      "    memory. For example, a contiguous ``(3, 4)`` array of type\n",
      "    ``int16`` in C-order has strides ``(8, 2)``.  This implies that\n",
      "    to move from element to element in memory requires jumps of 2 bytes.\n",
      "    To move from row-to-row, one needs to jump 8 bytes at a time\n",
      "    (``2 * 4``).\n",
      "ctypes : ctypes object\n",
      "    Class containing properties of the array needed for interaction\n",
      "    with ctypes.\n",
      "base : ndarray\n",
      "    If the array is a view into another array, that array is its `base`\n",
      "    (unless that array is also a view).  The `base` array is where the\n",
      "    array data is actually stored.\n",
      "\n",
      "See Also\n",
      "--------\n",
      "array : Construct an array.\n",
      "zeros : Create an array, each element of which is zero.\n",
      "empty : Create an array, but leave its allocated memory unchanged (i.e.,\n",
      "        it contains \"garbage\").\n",
      "dtype : Create a data-type.\n",
      "numpy.typing.NDArray : A :term:`generic <generic type>` version\n",
      "                       of ndarray.\n",
      "\n",
      "Notes\n",
      "-----\n",
      "There are two modes of creating an array using ``__new__``:\n",
      "\n",
      "1. If `buffer` is None, then only `shape`, `dtype`, and `order`\n",
      "   are used.\n",
      "2. If `buffer` is an object exposing the buffer interface, then\n",
      "   all keywords are interpreted.\n",
      "\n",
      "No ``__init__`` method is needed because the array is fully initialized\n",
      "after the ``__new__`` method.\n",
      "\n",
      "Examples\n",
      "--------\n",
      "These examples illustrate the low-level `ndarray` constructor.  Refer\n",
      "to the `See Also` section above for easier ways of constructing an\n",
      "ndarray.\n",
      "\n",
      "First mode, `buffer` is None:\n",
      "\n",
      ">>> np.ndarray(shape=(2,2), dtype=float, order='F')\n",
      "array([[0.0e+000, 0.0e+000], # random\n",
      "       [     nan, 2.5e-323]])\n",
      "\n",
      "Second mode:\n",
      "\n",
      ">>> np.ndarray((2,), buffer=np.array([1,2,3]),\n",
      "...            offset=np.int_().itemsize,\n",
      "...            dtype=int) # offset = 1*itemsize, i.e. skip first element\n",
      "array([2, 3])\n"
     ]
    }
   ],
   "source": [
    "img?"
   ]
  },
  {
   "cell_type": "markdown",
   "metadata": {
    "deletable": false,
    "editable": false
   },
   "source": [
    "Nella cella seguente utilizziamo la funzione `show` del modulo `va` per visualizzare comodamente l'immagine all'interno del notebook."
   ]
  },
  {
   "cell_type": "code",
   "execution_count": 4,
   "metadata": {
    "deletable": false,
    "editable": false
   },
   "outputs": [
    {
     "data": {
      "text/html": [
       "<table><tr><td style='text-align:center;'></td></tr><tr><td style='text-align:center;'><img src='data:image/png;base64,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'></td></tr></table>"
      ],
      "text/plain": [
       "<IPython.core.display.HTML object>"
      ]
     },
     "metadata": {},
     "output_type": "display_data"
    }
   ],
   "source": [
    "va.show(img)"
   ]
  },
  {
   "cell_type": "markdown",
   "metadata": {
    "deletable": false,
    "editable": false
   },
   "source": [
    "Tutte le funzionalità disponibili sugli array NumPy sono quindi utilizzabili sulle immagini definite in questo modo. La cella seguente mostra alcuni esempi di *slicing* utilizzato per indicizzare pixel dell'immagine."
   ]
  },
  {
   "cell_type": "code",
   "execution_count": 5,
   "metadata": {
    "deletable": false,
    "editable": false
   },
   "outputs": [
    {
     "data": {
      "text/html": [
       "<table><tr><td style='text-align:center;'></td></tr><tr><td style='text-align:center;'><img src='data:image/png;base64,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'></td></tr></table>"
      ],
      "text/plain": [
       "<IPython.core.display.HTML object>"
      ]
     },
     "metadata": {},
     "output_type": "display_data"
    }
   ],
   "source": [
    "img[2, 1] = 255 - img[2,1] # Cambia il pixel alle coordinate (x=1,y=2) nel suo \"negativo\"\n",
    "img[5] = 128 # Tutti i pixel della sesta riga diventano del valore 128\n",
    "img[:, 6] = 255 # Tutti i pixel della settima colonna diventano bianchi\n",
    "img[1, :3] = 0 # Pixel (x,1) con x in [0..2] a zero\n",
    "img[3, :3] = 0 # Pixel (x,3) con x in [0..2] a zero\n",
    "img[2, :3:2] = 0 # Pixel (0,2) e (2,2) a zero\n",
    "img[1::2, 8] = 255 # Tutti i pixel (x,y) con y dispari e x=8 diventano bianchi\n",
    "va.show(img)"
   ]
  },
  {
   "cell_type": "markdown",
   "metadata": {
    "deletable": false,
    "editable": false
   },
   "source": [
    "La cella seguente calcola la media dei valori di grigio nell'immagine, quindi pone a zero tutti i pixel con valore inferiore alla media e a 255 tutti quelli con valore superiore. Si noti che il confronto fra due immagini (`img1 < avg`) restituisce un array di valori `bool` con le stesse dimensioni dell'immagine (si osservi il contenuto della variabile `tmp`): tale array viene utilizzato per selezionare i soli elementi corrispondenti ai valori `True`, ad esempio con l'istruzione `img1[img1 < avg] = 0`."
   ]
  },
  {
   "cell_type": "code",
   "execution_count": 6,
   "metadata": {
    "deletable": false,
    "editable": false
   },
   "outputs": [
    {
     "data": {
      "text/html": [
       "<table><tr><td style='text-align:center;'>img</td><td style='text-align:center;'>img1</td></tr><tr><td style='text-align:center;'><img src='data:image/png;base64,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'></td><td style='text-align:center;'><img src='data:image/png;base64,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'></td></tr></table>"
      ],
      "text/plain": [
       "<IPython.core.display.HTML object>"
      ]
     },
     "metadata": {},
     "output_type": "display_data"
    },
    {
     "name": "stdout",
     "output_type": "stream",
     "text": [
      "[[False False  True False False  True False  True  True]\n",
      " [ True  True  True  True  True  True False False False]\n",
      " [ True False  True  True False  True False False  True]\n",
      " [ True  True  True  True  True  True False  True False]\n",
      " [False  True False  True  True False False False  True]\n",
      " [False False False False False False False False False]\n",
      " [ True  True  True False  True False False False  True]]\n"
     ]
    }
   ],
   "source": [
    "img1 = img.copy()\n",
    "avg = img1.mean()\n",
    "img1[img1 < avg] = 0\n",
    "img1[img1 > avg] = 255\n",
    "va.show((img, 'img'), (img1, 'img1'))\n",
    "tmp = img1 < avg\n",
    "print(tmp)"
   ]
  },
  {
   "cell_type": "markdown",
   "metadata": {
    "deletable": false,
    "editable": false
   },
   "source": [
    "Le due celle seguenti misurano il tempo di esecuzione dell'istruzione `img1[img1 < avg] = 0` rispetto a una implementazione con cicli in Python. Si nota chiaramente come la prima soluzione sia molto più efficiente. Per quale motivo?"
   ]
  },
  {
   "cell_type": "code",
   "execution_count": 7,
   "metadata": {
    "deletable": false,
    "editable": false
   },
   "outputs": [
    {
     "name": "stdout",
     "output_type": "stream",
     "text": [
      "2.16 µs ± 8.41 ns per loop (mean ± std. dev. of 7 runs, 100000 loops each)\n"
     ]
    }
   ],
   "source": [
    "%%timeit\n",
    "img1[img1 < avg] = 0"
   ]
  },
  {
   "cell_type": "code",
   "execution_count": 8,
   "metadata": {
    "deletable": false,
    "editable": false
   },
   "outputs": [
    {
     "name": "stdout",
     "output_type": "stream",
     "text": [
      "92.5 µs ± 185 ns per loop (mean ± std. dev. of 7 runs, 10000 loops each)\n"
     ]
    }
   ],
   "source": [
    "%%timeit\n",
    "h, w = img1.shape\n",
    "for y in range(h):\n",
    "    for x in range(w):\n",
    "        if img1[y, x] < avg:\n",
    "            img1[y, x] = 0"
   ]
  },
  {
   "cell_type": "markdown",
   "metadata": {
    "deletable": false,
    "editable": false
   },
   "source": [
    "<img style=\"float:left\" src=\"images/ar.png\" /> **Esercizio 1** - Nella prossima cella scrivere il codice Python che crea quattro immagini (`immagine1`, `immagine2`, `immagine3`, `immagine4`) con le caratteristiche specificate qui sotto. Eseguire poi anche la cella successiva che contiene alcuni controlli per verificare che le immagini siano state create correttamente.\n",
    "1. `immagine1`: immagine grayscale con dimensione 200x256 (larghezza x altezza), tipo di dato dei pixel `np.uint8`; i pixel di ogni colonna devono contenere, dall'alto verso il basso, tutte le possibili sfumature di grigio [0,255]; tutte le colonne devono essere uguali fra loro;\n",
    "2. `immagine2`: come `immagine1` ma ruotata di 90° in senso antiorario (ovvero la matrice è trasposta);\n",
    "3. `immagine3`: una copia di `immagine1` in cui tutti i pixel con valore multiplo di 3 sono modificati nel valore 0;\n",
    "4. `immagine4`: una copia della sotto-immagine di `immagine1` con origine (pixel in alto a sinistra) alle coordinate (100,150) e dimensioni 20x30."
   ]
  },
  {
   "cell_type": "code",
   "execution_count": 17,
   "metadata": {},
   "outputs": [
    {
     "data": {
      "text/html": [
       "<table><tr><td style='text-align:center;'>immagine1</td><td style='text-align:center;'>immagine2</td><td style='text-align:center;'>immagine3</td><td style='text-align:center;'>immagine4</td></tr><tr><td style='text-align:center;'><img src='data:image/png;base64,iVBORw0KGgoAAAANSUhEUgAAAMgAAAEACAAAAADT/2YvAAAC40lEQVR4Ad3BAwIgBgDAsHa2bdu2bdu2rZtt27Zt27Zte/tHE4lQGhyIBgemwUFocFAaHIwGB6fBIWhwSBocigaHpsFhaHBYGhyOBoenwRFocEQaHIkGR6bBUWhwVBocjQZHp8ExaHBMGhyLBsemwXFocFwaHI8Gx6fBCWhwQhqciAYnpsFJaHBSGpyMBienwSlocEoanIoGp6bBaWhwWhqcjganp8EZaHBGGpyJBmemwVlocFYanI0GZ6fBOWhwThqciwbnpsF5aHBeGpyPBuenwQVocEEaXIgGF6bBRWhwURpcjAYXp8ElaHBJGlyKBpemwWVocFkaXI4Gl6fBFWhwRRpciQZXpsFVaHBVGlyNBlenwTVocE0aXIsG16bBdWhwXRpcjwbXp8ENaHBDGtyIBjemwU1ocFMa3IwGN6fBLWhwSxrciga3psFtaHBbGtyOBrenwR1ocEca3IkGd6bBXWhwVxrcjQZ3p8E9aHBPGtyLBvemwX1ocF8a3I8GB9Dg/jR4AA0eSIMH0eDBNHgIDR5Kg4fR4OE0eAQNHkmDR9Hg0TR4DA0eS4PH0eDxNHgCDZ5IgyfR4Mk0eAoNnkqDp9Hg6TR4Bg2eSYNn0eDZNHgODZ5Lg+fR4Pk0eAENXkiDF9HgxTR4CQ1eSoOX0eDlNHgFDV5Jg1fR4NU0eA0NXkuD19Hg9TR4Aw3eSIM30eDNNHgLDd5Kg7fR4O00eAcN3kmDd9Hg3TR4Dw3eS4P30eD9NPgADT5Igw/R4MM0+AgNPkqDj9Hg4zT4BA0+SYNP0eDTNPgMDT5Lg8/R4PM0+AINvkiDL9HgyzT4Cg2+SoOv0eDrNPgGDb5Jg2/R4Ns0+A4NvkuD79Hg+zT4AQ1+SIMf0eDHNPgJDX5Kg5/R4Oc0+AUNfkmDX9Hg1zT4DQ1+S4Pf0eD3NPgDDf5Igz/R4M80+AsN/kqDv9Hg7zT4Bw3+SYN/0eDfNPgPDf5Lg//R8D8JCYCBen+FEwAAAABJRU5ErkJggg=='></td><td style='text-align:center;'><img src='data:image/png;base64,iVBORw0KGgoAAAANSUhEUgAAAQAAAADICAAAAAAi1WDXAAABQElEQVR4AeXBAQEAAABAIP6fNkSJcziHcziHcziHcziHcziHcziHcziHcziHcziHcziHcziHcziHcziHcziHcziHcziHcziHcziHcziHcziHcziHcziHcziHcziHcziHcziHcziHcziHcziHcziHcziHcziHcziHcziHcziHcziHcziHcziHcziHcziHcziHcziHcziHcziHcziHcziHcziHcziHcziHcziHcziHcziHcziHcziHcziHcziHcziHcziHcziHcziHcziHcziHcziHcziHcziHcziHcziHcziHcziHcziHcziHcziHcziHcziHcziHcziHcziHcziHcziHcziHcziHcziHcziHcziHcziHcziHcziHcziHcziHcziHcziHcziHcziHcziHcziHcziHcziHcziHcziHc/gWgk3IAVx7F7IAAAAASUVORK5CYII='></td><td style='text-align:center;'><img src='data:image/png;base64,iVBORw0KGgoAAAANSUhEUgAAAMgAAAEACAAAAADT/2YvAAACnUlEQVR4Ad3BAQoQBADAwC2UIlGKpEgSpTAUIzEKxUgUpTAKQ0kUQ0mSoigKRSmKRFEURSkSpTAMwzAKIymUpDASQymKJDGUIkmMxEgUJSn8x+4kQmnwGhokwgE0OJAGifBaGryOBonwehocRINEOJgGh9AgEd5AgzfSIBHeRINDaZAIb6bBW2iQCG+lwWE0SIS30eBwGiTCETQ4kgaJ8HYavIMGiXAUDd5Jg0Q4mgbH0CARjqXBu2iQCO+mwXE0SITjafAeGiTCe2nwPhokwgk0OJEGiXASDd5Pg0T4AA1OpkEinEKDU2mQCKfR4HQaJMIHafAhGiTCGTT4MA0S4SM0+CgNEuFMGnyMBolwFg3OpkEifJwG59AgEc6lwXk0SITzafAJGiTCBTS4kAaJ8EkaXESDRPgUDS6mQSJ8mgafoUEifJYGn6NBInyeBl+gQSJ8kQZfokEiXEKDS2mQCJfR4HIaJMKXafAVGiTCV2nwNRokwtdpcAUNEuFKGlxFg0S4mgbX0CARrqXBdTRIhOtpcAMNEuFGGtxEg0T4Bg2+SYNE+BYNbqZBItxCg1tpkAjfpsF3aJAIt9HguzRIhNtp8D0aJMIdNPg+DRLhThr8gAaJcBcNfkiDRPgRDX5Mg0S4mwY/oUEi/JQG99AgEX5Gg5/TIBHupcF9NEiEX9Dgfhokwi9p8CsaJMIDNPg1DRLhNzR4kAaJ8BANfkuDRHiYBo/QIBF+R4Pf0yAR/kCDP9IgEf5Eg0dpkAh/psFjNEiEx2nwFxokwhM0eJIGifBXGvyNBonwdxo8RYNE+AcNnqZBIjxDg3/SIBH+RYNnaZAIz9Hg3zRIhP/Q4HkaJMILNHiRBonwEg1epkEi/JcGr9AgEf5Hg//TIBFXAQMYVazhcQWLAAAAAElFTkSuQmCC'></td><td style='text-align:center;'><img src='data:image/png;base64,iVBORw0KGgoAAAANSUhEUgAAAQQAAAGGCAAAAAC4G6AFAAACw0lEQVR4Ae3BxQECAQDAsHb/P3a4uy7IIk0cEUfEEXFEHBFHxBFxRBwRR8QRcUQcEcfEMXFMHBPHxDFxTBwTx8QxcUwcE8fECXFCnBAnxAlxQpwQJ8QJcUKcECfECXFKnBKnxClxSpwSp8QpcUqcEqfEKXFKnBFnxBlxRpwRZ8QZcUacEWfEGXFGnBEH4kAciANxIA7EgTgQB+JAHIgDcSDOiXPinDgnzolz4pw4J86Jc+KcOCfOiQvigrggLogL4oK4IC6IC+KCuCAuiAvikrgkLolL4pK4JC6JS+KSuCQuiUvikrgirogr4oq4Iq6IK+KKuCKuiCviirgirolr4pq4Jq6Ja+KauCauiWvimrgmrokb4oa4IW6IG+KGuCFuiBvihrghbogb4pa4JW6JW+KWuCVuiVvilrglbolb4pa4I+6IO+KOuCPuiDvijrgj7og74o64I+6Je+KeuCfuiXvinrgn7ol74p64J+6JB+KBeCAeiAfigXggHogH4oF4IB6IB+KReCQeiUfikXgkHolH4pF4JB6JR+KReCKeiCfiiXginogn4ol4Ip6IJ+KJeCKeiWfimXgmnoln4pl4Jp6JZ+KZeCaeiRfihXghXogX4oV4IV6IF+KFeCFeiBfilXglXolX4pV4JV6JV+KVeCVeiVfilXgj3og34o14I96IN+KNeCPeiDfijXgj3ol34p14J96Jd+KdeCfeiXfinXgn3okP4oP4ID6ID+KD+CA+iA/ig/ggPogP4pP4JD6JT+KT+CQ+iU/ik/gkPolP4pP4Ir6IL+KL+CK+iC/ii/givogv4ov4Ir6Jb+Kb+Ca+iW/im/gmvolv4pv4Jr6JH+KH+CF+iB/ih/ghfogf4of4IX6IH+KX+CV+iV/il/glfolf4pf4JX6JX+KX+CP+iD/ij/gj/og/4o/4I/6IP+KP+CN/+RP8IsP51qEAAAAASUVORK5CYII='></td></tr></table>"
      ],
      "text/plain": [
       "<IPython.core.display.HTML object>"
      ]
     },
     "metadata": {},
     "output_type": "display_data"
    }
   ],
   "source": [
    "immagine1, immagine2, immagine3, immagine4 = [None] * 4\n",
    "immagine1 = np.fromfunction(lambda i, j: i, (256, 200), dtype=np.uint8)\n",
    "immagine2 = np.fromfunction(lambda i, j: j, (200, 256), dtype=np.uint8)\n",
    "immagine3 = immagine1.copy()\n",
    "immagine3[immagine3 % 3 == 0] = 0\n",
    "immagine4 = immagine1.copy()[150:180, 100:120]\n",
    "# --- Svolgimento Esercizio 1: Inizio --- #\n",
    "\n",
    "\n",
    "\n",
    "# --- Svolgimento Esercizio 1: Fine --- #\n",
    "va.show((immagine1, 'immagine1'), (immagine2, 'immagine2'), (immagine3, 'immagine3'), (immagine4, 'immagine4'))"
   ]
  },
  {
   "cell_type": "code",
   "execution_count": 18,
   "metadata": {
    "deletable": false,
    "editable": false
   },
   "outputs": [
    {
     "data": {
      "text/html": [
       "<table><tr><td style='text-align:center;'>immagine1</td><td style='text-align:center;'>immagine2</td><td style='text-align:center;'>immagine3</td><td style='text-align:center;'>immagine4</td></tr><tr><td style='text-align:center;'><img src='images/test_ok.png'></td><td style='text-align:center;'><img src='images/test_ok.png'></td><td style='text-align:center;'><img src='images/test_ok.png'></td><td style='text-align:center;'><img src='images/test_ok.png'></td></tr></table>"
      ],
      "text/plain": [
       "<IPython.core.display.HTML object>"
      ]
     },
     "metadata": {},
     "output_type": "display_data"
    }
   ],
   "source": [
    "va.test_immagini_1(immagine1, immagine2, immagine3, immagine4)"
   ]
  },
  {
   "cell_type": "markdown",
   "metadata": {
    "deletable": false,
    "editable": false
   },
   "source": [
    "Ora proseguiamo con alcuni esperimenti su immagini caricate da file. La funzione `cv.imread` carica un'immagine da file e restituisce un array NumPy che ne contiene i pixel. *Attenzione: se il file non esiste, non viene generato un errore: la funzione restituisce `None`*."
   ]
  },
  {
   "cell_type": "code",
   "execution_count": null,
   "metadata": {
    "deletable": false,
    "editable": false
   },
   "outputs": [],
   "source": [
    "img = cv.imread('file inesistente.jpg')\n",
    "print(f\"Valore se il file non esiste: {img}\")\n",
    "toys = cv.imread('immagini/toys.png')\n",
    "print(f\"Dimensioni: {toys.shape}, totale valori nell'array: {toys.size}, tipo dei pixel: {toys.dtype}\")"
   ]
  },
  {
   "cell_type": "markdown",
   "metadata": {
    "deletable": false,
    "editable": false
   },
   "source": [
    "Si noti che le immagini a colori vengono rappresentate come vettori tridimensionali (altezza, larghezza, canali), con tre canali; attenzione all'ordine: OpenCV memorizza i canali nell'ordine BGR (Blue, Green, Red).  \n",
    "Osserviamo ora l'effetto di alcune trasformazioni all'array che contiene l'immagine utilizzando tecniche di slicing NumPy."
   ]
  },
  {
   "cell_type": "code",
   "execution_count": null,
   "metadata": {
    "deletable": false,
    "editable": false
   },
   "outputs": [],
   "source": [
    "va.show(\n",
    "    (toys, 'Originale'),\n",
    "    toys[::-1],\n",
    "    toys[:,::-1],\n",
    "    toys[::-1,::-1],\n",
    "    toys[...,::-1],\n",
    ")\n",
    "h, w = toys.shape[:2]\n",
    "h2, w2 = h//2, w//2\n",
    "va.show(\n",
    "    toys[:,:w2],\n",
    "    toys[:h2],\n",
    "    toys[:h2,:w2],\n",
    "    toys[:h2:,w2:],\n",
    "    toys[h2:,:w2:],\n",
    "    toys[h2:,w2:]\n",
    ")\n",
    "va.show(\n",
    "    toys[...,0],\n",
    "    toys[...,1],\n",
    "    toys[...,2],\n",
    "    toys[::10,::10]\n",
    ")"
   ]
  },
  {
   "cell_type": "markdown",
   "metadata": {
    "deletable": false,
    "editable": false
   },
   "source": [
    "<img style=\"float:left\" src=\"images/ar.png\" /> **Esercizio 2** - Utilizzando la funzione `cv.cvtColor`, convertire l'immagine `toys` in grayscale e salvare il risultato in una nuova immagine `gray_toys`. Verificare che l'immagine sia composta da un solo canale e il tipo dei pixel sia `np.uint8`. Creare quindi l'immagine `toys_s` a partire da `gray_toys` dimezzando la luminosità di tutti i pixel con valore superiore a 127 e raddoppiando la luminosità di tutti i restanti.\n",
    "Calcolare quindi, per ogni riga dell'immagine `gray_toys`, la somma dei valori dei pixel di `toys_s`, memorizzando tali somme in un array NumPy di tipo `np.uint32` con nome `somma_per_righe`. Suggerimento: controllare la documentazione della funzione `np.sum`.  \n",
    "Eseguire il codice nella cella e quindi eseguire la cella successiva che contiene alcuni controlli per verificare che il risultato sia corretto."
   ]
  },
  {
   "cell_type": "code",
   "execution_count": null,
   "metadata": {},
   "outputs": [],
   "source": [
    "gray_toys, toys_s, somma_per_righe = [None]*3\n",
    "\n",
    "# --- Svolgimento Esercizio 2: Inizio --- #\n",
    "\n",
    "\n",
    "\n",
    "# --- Svolgimento Esercizio 2: Fine --- #"
   ]
  },
  {
   "cell_type": "code",
   "execution_count": null,
   "metadata": {
    "deletable": false,
    "editable": false
   },
   "outputs": [],
   "source": [
    "va.test_immagini_2(gray_toys, toys_s, somma_per_righe)"
   ]
  },
  {
   "cell_type": "markdown",
   "metadata": {
    "deletable": false,
    "editable": false
   },
   "source": [
    "<img style=\"float:left\" src=\"images/ar.png\" /> **Esercizio 3** - Completare la funzione `binarizza` che deve restituire un'immagine binaria con le stesse dimensioni dell'immagine in ingresso `immagine`: i pixel con valore inferiore o uguale a `soglia` devono avere valore zero, quelli con valore superiore devono avere valore 255. L'esercizio può essere risolto molto rapidamente utilizzando una funzione OpenCV, oppure anche una o più funzioni NumPy."
   ]
  },
  {
   "cell_type": "code",
   "execution_count": null,
   "metadata": {},
   "outputs": [],
   "source": [
    "def binarizza(immagine, soglia):\n",
    "\n",
    "    # --- Svolgimento Esercizio 3: Inizio --- #\n",
    "    \n",
    "    \n",
    "    \n",
    "    # --- Svolgimento Esercizio 3: Fine --- #        "
   ]
  },
  {
   "cell_type": "markdown",
   "metadata": {
    "deletable": false,
    "editable": false
   },
   "source": [
    "<img style=\"float:left\" src=\"images/in.png\" /> Se l'esercizio precedente è stato svolto correttamente, l'esecuzione della cella seguente consente eseguire in modo interattivo la binarizzazione con soglia globale su alcune immagini."
   ]
  },
  {
   "cell_type": "code",
   "execution_count": null,
   "metadata": {
    "deletable": false,
    "editable": false
   },
   "outputs": [],
   "source": [
    "@interact(immagine=['toys.png','rice.png','tbbt.jpg','torre.jpg', 'sudoku.jpg'], soglia=(0,255))\n",
    "def test_binarizza(immagine, soglia = 127):\n",
    "    t = cv.cvtColor(cv.imread(\"immagini/\" + immagine), cv.COLOR_BGR2GRAY)\n",
    "    b = binarizza(t, soglia)\n",
    "    va.show((t, 'Originale'), (b, 'Binarizzata'))"
   ]
  },
  {
   "cell_type": "markdown",
   "metadata": {
    "deletable": false,
    "editable": false
   },
   "source": [
    "Si può facilmente osservare che un'immagine con illuminazione non uniforme come `sudoku.jpg` non può essere binarizzata correttamente con un'unica soglia per tutti i pixel (soglia globale). Nella cella seguente si può sperimentare il funzionamento di un approccio locale."
   ]
  },
  {
   "cell_type": "code",
   "execution_count": null,
   "metadata": {
    "deletable": false,
    "editable": false
   },
   "outputs": [],
   "source": [
    "@interact(size = (3,39,2), c = (0,29))\n",
    "def binarizzazione_adattiva(size = 11, c = 9):\n",
    "    img = cv.cvtColor(cv.imread(\"immagini/sudoku.jpg\"), cv.COLOR_BGR2GRAY)\n",
    "    b = cv.adaptiveThreshold(img,255,cv.ADAPTIVE_THRESH_MEAN_C, cv.THRESH_BINARY, size, c)\n",
    "    va.show((img,'Originale'), (b,'ADAPTIVE_THRESH_MEAN_C'))"
   ]
  },
  {
   "cell_type": "markdown",
   "metadata": {
    "deletable": false,
    "editable": false
   },
   "source": [
    "<img style=\"float:left\" src=\"images/ar.png\" /> **Esercizio 4** - L'immagine `immagini/tbbt-m.png` a prima vista sembra identica a `immagini/tbbt.jpg`, ma qualcuno l'ha modificata inserendo un messaggio nascosto in alcuni pixel del canale verde. Caricare entrambe le immagini, calcolare una terza immagine come differenza pixel a pixel delle due e visualizzare le tre immagini. Quindi, scansionando i pixel per righe (dall'alto al basso, da sinistra a destra), individuare tutti i pixel in cui c'è una differenza fra le due immagini nella componente verde e costruire una stringa i cui caratteri corrispondono ai codici ASCII del valore della componente verde in tali pixel. Suggerimento: per costruire la stringa possono riverlarsi utili le funzioni `chr` e `str.join`."
   ]
  },
  {
   "cell_type": "code",
   "execution_count": null,
   "metadata": {},
   "outputs": [],
   "source": [
    "# --- Svolgimento Esercizio 4: Inizio --- #\n",
    "\n",
    "\n",
    "\n",
    "# --- Svolgimento Esercizio 4: Fine --- #"
   ]
  },
  {
   "cell_type": "markdown",
   "metadata": {
    "deletable": false,
    "editable": false
   },
   "source": [
    "<img style=\"float:left\" src=\"images/ar.png\" /> **Esercizio 5** - Visualizzare l'immagine `immagini/lut.png`, quindi in una variabile chiamata `lut` memorizzarne solo la prima riga: verificare che l'array `lut` abbia tipo `np.uint8` e shape (256,3). A questo punto utilizzare tale array come una *lookup table* da grayscale a BGR, applicandola alle immagini grayscale `immagini/radio1.png` e `immagini/radio2.png`, ottenendo due corrispondendi immagini a colori. Visualizzare le quattro immagini sulla stessa riga. Suggerimento: per caricare le immagini direttamente come grayscale, si può passare `cv.IMREAD_GRAYSCALE` come secondo parametro di `cv.imread`, oppure utilizzare `cv.cvtColor` come già visto in precedenza. *N.B. Si richiede di svolgere questo esercizio senza utilizzare la funzione `cv.applyColorMap`.*"
   ]
  },
  {
   "cell_type": "code",
   "execution_count": null,
   "metadata": {},
   "outputs": [],
   "source": [
    "# --- Svolgimento Esercizio 5: Inizio --- #\n",
    "\n",
    "\n",
    "\n",
    "# --- Svolgimento Esercizio 5: Fine --- #"
   ]
  },
  {
   "cell_type": "markdown",
   "metadata": {
    "deletable": false,
    "editable": false
   },
   "source": [
    "<img style=\"float:left\" src=\"images/ar.png\" /> **Esercizio 6** - Caricare l'immagine contenuta nel file `immagini/toys.png` e convertirla in HSV utilizzando `cv.cvtColor`. Separare quindi i tre canali H, S, V (a tale proposito può essere utilizzata la funzione `cv.split` oppure analoghe funzionalità NumPy). Modificare i tre canali HSV in tutti i modi elencati qui sotto, visualizzando poi ciascun risultato dopo aver riconvertito l'immagine in formato BGR. Il risultato deve essere analogo a quanto visto a lezione. Attenzione: ricordarsi che i valori HSV sono memorizzati ciascuno in un byte con H compreso in $[0,180]$, corrispondente a $[0,\\pi]$ e S e V compresi in $[0,255]$, corrispondente a $[0,1]$.\n",
    "\n",
    "Si chiede di visualizzare le seguenti 20 immagini (4 per riga):\n",
    "+ Originale, Solo canale H (come grayscale), Solo canale S (come grayscale), Solo canale V (come grayscale);\n",
    "+ Tutti i pixel del canale H allo stesso valore costante, S e V invariati: $H=0$, $H=\\pi/4$, $H=\\pi/2$, $H=3\\pi/4$;\n",
    "+ Tutti i pixel del canale S allo stesso valore costante, H e V invariati: $S=0$, $S=1/4$, $S=1/2$, $S=1$;\n",
    "+ Tutti i pixel del canale V allo stesso valore costante, H e S invariati: $V=0$, $V=1/4$, $V=1/2$, $V=1$;\n",
    "+ Le ultime quattro immagini come segue:\n",
    "    1. Valori H aumentati di $\\pi/4$ (attenzione alla periodicità), S e V invariati,\n",
    "    2. Valori H aumentati di $\\pi/2$ (attenzione alla periodicità), S e V invariati,\n",
    "    3. Valori V divisi per 2 (divisione intera), H e S invariati,\n",
    "    4. Valori V divisi per 4 (divisione intera), H e S invariati."
   ]
  },
  {
   "cell_type": "code",
   "execution_count": null,
   "metadata": {},
   "outputs": [],
   "source": [
    "# --- Svolgimento Esercizio 6: Inizio --- #\n",
    "\n",
    "\n",
    "\n",
    "# --- Svolgimento Esercizio 6: Fine --- #"
   ]
  }
 ],
 "metadata": {
  "celltoolbar": "Edit Metadata",
  "kernelspec": {
   "display_name": "Python 3 (ipykernel)",
   "language": "python",
   "name": "python3"
  },
  "language_info": {
   "codemirror_mode": {
    "name": "ipython",
    "version": 3
   },
   "file_extension": ".py",
   "mimetype": "text/x-python",
   "name": "python",
   "nbconvert_exporter": "python",
   "pygments_lexer": "ipython3",
   "version": "3.10.6"
  }
 },
 "nbformat": 4,
 "nbformat_minor": 4
}
